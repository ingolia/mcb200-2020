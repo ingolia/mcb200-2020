{
 "cells": [
  {
   "cell_type": "markdown",
   "metadata": {},
   "source": [
    "## Dinucleotides and dipeptides\n",
    "\n",
    "We counted the occurrence of individual nucleotides in the genome and residues in the proteome.\n",
    "\n",
    "In real biological sequences, adjacent positions are rarely independent. We now have most of the tools to measure this directly.\n",
    "\n",
    "There are a couple of small, additional things we need to learn first, though. We know how to get _one_ nucleotide from a string, but we need a way to get two adjacent nucleotides out of a string.\n",
    "\n",
    "We could get each of the two letters separately and add them together. Here is the way we would get the 3rd and 4th letter of the alphabet out of a string that's the whole alphabet\n",
    "```\n",
    "alphabet='abcdefghijklmnopqrstuvwxyz'\n",
    "letter_2 = alphabet[2]\n",
    "letter_3 = alphabet[3]\n",
    "letters = letter_2 + letter_3\n",
    "print(letters)\n",
    "```\n",
    "\n",
    "Try this out in the cell below, recalling that Python will start counting from 0."
   ]
  },
  {
   "cell_type": "code",
   "execution_count": null,
   "metadata": {},
   "outputs": [],
   "source": [
    "alphabet='abcdefghijklmnopqrstuvwxyz'"
   ]
  },
  {
   "cell_type": "markdown",
   "metadata": {},
   "source": [
    "Alternately, we can **slice** out two letters at once from a string.\n",
    "\n",
    "Square brackets can extract a _range_ of values from a string or a list. To do this, we do `[start:end]` where the start is _included_ and the end is _excluded_.\n",
    "\n",
    "```\n",
    "alphabet[2:4]\n",
    "```\n",
    "\n",
    "This code goes from index 2 (the letter `c`) to index 3 (the letter `d`) and does not include index 4 (`e`). This can be a bit confusing, but one nice aspect of this is that it's easy to see the length of the slice. For instance, `alphabet[5:7]` is `7 - 5 = 2` nucleotides long.\n",
    "\n",
    "Try out this slicing in the cell below."
   ]
  },
  {
   "cell_type": "code",
   "execution_count": null,
   "metadata": {},
   "outputs": [],
   "source": [
    "alphabet[2:4]"
   ]
  },
  {
   "cell_type": "markdown",
   "metadata": {},
   "source": [
    "Whether we index two nucleotides individually or slice a two-nucleotide piece out of our list, we need to loop over each possible starting position. We want to go all the way from `alphabet[0:2]` through `alphabet[24:26]`.\n",
    "\n",
    "The `range()` function allows us to iterate over a range of numbers. Just like in slices, we do `[start:end]` and the start is included while the end is not. Try out the example below to see how this runs.\n",
    "```\n",
    "for x in range(3,6):\n",
    "    print(x)\n",
    "```"
   ]
  },
  {
   "cell_type": "code",
   "execution_count": null,
   "metadata": {},
   "outputs": [],
   "source": [
    "for x in range(3,6):\n",
    "    print(x)"
   ]
  },
  {
   "cell_type": "markdown",
   "metadata": {},
   "source": [
    "Each chromosome is a different length, and so we want to compute the start and end using `len(...)` rather than picking a specific number. In the `alphabet` example, for a 2 letter slice we run from starting position 0 to starting position `len(alphabet) - 2 = 26 - 2 = 24`.\n",
    "\n",
    "However, the end of the range is not included, and so we want to do `range(0, 1 + len(alphabet)-2)`, which should use all twenty-five starting positions from 0 through 24 inclusive.\n",
    "\n",
    "The careful tracking of whether an endpoint is included or excluded, and whether you need to add or subtract 1 from a starting and ending point, shows up all the time in bioinformatics. It's often called a \"fencepost\" problem, referring to the fact that you need four fenceposts to hold up three sections of fence. It's also called an \"off-by-one\" problem, because we often find ourselves one position too long or too short.\n",
    "\n",
    "Try out this example below to confirm how we can get every two-letter pair out of a string.\n",
    "\n",
    "```\n",
    "for start in range(0, 1 + len(alphabet)-2):\n",
    "    print(str(start) + ' ' + alphabet[start:start+2])\n",
    "```"
   ]
  },
  {
   "cell_type": "code",
   "execution_count": null,
   "metadata": {},
   "outputs": [],
   "source": [
    "for start in range(0, 1 + len(alphabet)-2):\n",
    "    print(str(start) + ' ' + alphabet[start:start+2])"
   ]
  },
  {
   "cell_type": "markdown",
   "metadata": {},
   "source": [
    "Now that we know how to use `range()` and slices, we are really equipped with all the tools we need to count dinucleotides in the yeast genome."
   ]
  },
  {
   "cell_type": "markdown",
   "metadata": {},
   "source": [
    "### Yeast genome dinucleotides\n",
    "First we need to import the `Bio.SeqIO` module from `biopython` so we can read in our yeast sequences."
   ]
  },
  {
   "cell_type": "code",
   "execution_count": null,
   "metadata": {},
   "outputs": [],
   "source": [
    "import sys\n",
    "!{sys.executable} -m pip install biopython\n",
    "from Bio import SeqIO"
   ]
  },
  {
   "cell_type": "markdown",
   "metadata": {},
   "source": [
    "Then we need to import the `pandas` module for our `Series` and `DataFrame` types, and the `matplotlib.pyplot` module to make graphs."
   ]
  },
  {
   "cell_type": "code",
   "execution_count": null,
   "metadata": {},
   "outputs": [],
   "source": [
    "import pandas as pd\n",
    "import matplotlib.pyplot as plt "
   ]
  },
  {
   "cell_type": "markdown",
   "metadata": {},
   "source": [
    "Here is a copy of our code to\n",
    "1. Create `chroms` as an iterator over all the chromosomes\n",
    "2. Create an empty dictionary to hold single-nucleotide counts\n",
    "3. Loop over each chromosome\n",
    "    1. Assign the sequence of the chromosome to `chrom_seq`\n",
    "    1. Loop over each position in the chromosome\n",
    "        1. Assign the nucleotide at that position to `nt`\n",
    "        1. Add that nucleotide to the running tally\n",
    "4. Convert the count dictionary into a `Series`\n",
    "5. Print the sorted version of our count series\n",
    "6. Plot a bar graph of our counts"
   ]
  },
  {
   "cell_type": "code",
   "execution_count": null,
   "metadata": {},
   "outputs": [],
   "source": [
    "chroms = SeqIO.parse(\"../S288C_R64-2-1/S288C_reference_sequence_R64-2-1_20150113.fsa\", \"fasta\")\n",
    "nt_count = {}\n",
    "for chrom in chroms:\n",
    "    chrom_seq = str(chrom.seq)\n",
    "    for position in range(0, len(chrom_seq)):\n",
    "        nt = chrom_seq[position]\n",
    "        nt_count[nt] = nt_count.get(nt, 0) + 1\n",
    "nt_series = pd.Series(nt_count)\n",
    "print(nt_series.sort_index())\n",
    "nt_series.sort_index().plot(kind='bar')"
   ]
  },
  {
   "cell_type": "markdown",
   "metadata": {},
   "source": [
    "### Dinucleotides\n",
    "\n",
    "Convert this to count every adjacent pair of dinucleotides. You'll need to \"slice\" these out of the the chromosome sequences."
   ]
  },
  {
   "cell_type": "code",
   "execution_count": null,
   "metadata": {},
   "outputs": [],
   "source": []
  },
  {
   "cell_type": "markdown",
   "metadata": {},
   "source": [
    "#### Probabilities\n",
    "\n",
    "Convert the counts to probabilities by \n",
    "1. Using the `.sum()` method to find the total number of dinucleotides counted\n",
    "2. Dividing the `nt_series` series by this sum to get \"normalized\" probabilities"
   ]
  },
  {
   "cell_type": "code",
   "execution_count": null,
   "metadata": {},
   "outputs": [],
   "source": []
  },
  {
   "cell_type": "markdown",
   "metadata": {},
   "source": [
    "#### Marginal probabilities\n",
    "\n",
    "The table of dinucleotide probabilities give the _joint_ distribution.\n",
    "\n",
    "There are two way to compute the _marginal_ probability of an `A`. Compute this both ways and compare it to the value we got from the single-nucleotide counting above."
   ]
  },
  {
   "cell_type": "code",
   "execution_count": null,
   "metadata": {},
   "outputs": [],
   "source": []
  },
  {
   "cell_type": "code",
   "execution_count": null,
   "metadata": {},
   "outputs": [],
   "source": []
  },
  {
   "cell_type": "markdown",
   "metadata": {},
   "source": [
    "Write a `for` loop to compute all four marginal probabilities. It's probably easiest to create an empty dictionary, then loop over each nucleotide option, compute its marginal probability, and store it in the dictionary. \n",
    "\n",
    "There are many reasonable ways to approach this, though"
   ]
  },
  {
   "cell_type": "code",
   "execution_count": null,
   "metadata": {},
   "outputs": [],
   "source": []
  },
  {
   "cell_type": "markdown",
   "metadata": {},
   "source": [
    "#### Conditional probabilities\n",
    "\n",
    "Compute the _conditional_ probability of a `C` following a first `A`. Is this higher or lower than the unconditional (marginal) probability of a `C`?"
   ]
  },
  {
   "cell_type": "code",
   "execution_count": null,
   "metadata": {},
   "outputs": [],
   "source": []
  },
  {
   "cell_type": "markdown",
   "metadata": {},
   "source": [
    "If you want to take this a bit further: write a pair of nested for loops to compute all of the conditional probabilities for the 2nd nucleotide of a dinucleotide, conditional on the identity of the first.\n",
    "\n",
    "What nucleotide combinations have conditional probabilities that are very different from the marginal?\n",
    "\n",
    "Another way of looking at this is to compute the ratio `P(MN) / (P(M) * P(N))`, which is the ratio between the observed dinucleotide probability and the expected dinucleotide probabilty under the assumption of independence."
   ]
  },
  {
   "cell_type": "code",
   "execution_count": null,
   "metadata": {},
   "outputs": [],
   "source": []
  },
  {
   "cell_type": "markdown",
   "metadata": {},
   "source": [
    "#### Dipeptides\n",
    "\n",
    "If you want to take this a lot further, you can run the same sort of analysis on dipeptides in the yeast proteome. \n",
    "Here's a slightly updated version of our loop to count amino acid frequencies in the yeast proteome, if you want ot try this out."
   ]
  },
  {
   "cell_type": "code",
   "execution_count": null,
   "metadata": {},
   "outputs": [],
   "source": [
    "proteins = SeqIO.parse(\"../S288C_R64-2-1/orf_trans_all_R64-2-1_20150113.fasta\", \"fasta\")\n",
    "aa_count = {}\n",
    "for protein in proteins:\n",
    "    protseq = str(protein.seq)\n",
    "    for pos in range(0, len(protseq)):\n",
    "        aa = protseq[pos]\n",
    "        aa_count[aa] = aa_count.get(aa, 0) + 1\n",
    "print(aa_count)"
   ]
  },
  {
   "cell_type": "code",
   "execution_count": null,
   "metadata": {},
   "outputs": [],
   "source": []
  }
 ],
 "metadata": {
  "kernelspec": {
   "display_name": "Python 3",
   "language": "python",
   "name": "python3"
  },
  "language_info": {
   "codemirror_mode": {
    "name": "ipython",
    "version": 3
   },
   "file_extension": ".py",
   "mimetype": "text/x-python",
   "name": "python",
   "nbconvert_exporter": "python",
   "pygments_lexer": "ipython3",
   "version": "3.7.7"
  }
 },
 "nbformat": 4,
 "nbformat_minor": 2
}
