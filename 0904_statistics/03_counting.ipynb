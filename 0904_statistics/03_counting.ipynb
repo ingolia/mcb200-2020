{
 "cells": [
  {
   "cell_type": "markdown",
   "metadata": {},
   "source": [
    "### Conditionals (`if` statements)"
   ]
  },
  {
   "cell_type": "markdown",
   "metadata": {},
   "source": [
    "We can perform true/false tests, like comparing two numbers or checking whether two strings are equal. The code below gives the example of comparing two numbers.\n",
    "```\n",
    "3 > 2\n",
    "```"
   ]
  },
  {
   "cell_type": "code",
   "execution_count": null,
   "metadata": {},
   "outputs": [],
   "source": []
  },
  {
   "cell_type": "markdown",
   "metadata": {},
   "source": [
    "These `True` / `False` results are a data type called `bool`, short for Boolean, which refers to a systematic approach to this sort of true/false logic.\n",
    "\n",
    "In Boolean logic, true/false values can be combined using _and_ and *or*, and transformed using _not_. Python has exact equivalents of these, allowing us to build more complex tests. Note that Python's `or` is \"inclusive\", that is, `a or b` is `true` when at least one of `a` or `b` are true, including when both are true.\n",
    "```\n",
    "print( 3 > 2 and 3 < 4 )\n",
    "print( 3 > 2 or  3 < 4 )\n",
    "print( 3 > 2 and 3 < 1 )\n",
    "```"
   ]
  },
  {
   "cell_type": "code",
   "execution_count": null,
   "metadata": {},
   "outputs": [],
   "source": []
  },
  {
   "cell_type": "markdown",
   "metadata": {},
   "source": [
    "To test whether two values are equal to each other, we use a double equal sign symbol, `==`. This symbol distinguishes _testing_ whether two values are equal from _assigning_ a value to a variable, which uses a single equal sign (_e.g._, `x = 3`).\n",
    "\n",
    "For instance, we can compare integers and strings as shown below\n",
    "```\n",
    "print(3 == 4)\n",
    "print(2*2 == 4)\n",
    "print('4' == 4)\n",
    "print('4' == str(4))\n",
    "```"
   ]
  },
  {
   "cell_type": "code",
   "execution_count": null,
   "metadata": {},
   "outputs": [],
   "source": []
  },
  {
   "cell_type": "markdown",
   "metadata": {},
   "source": [
    "The `!=` operator tests whether two values are not equal, like this\n",
    "```\n",
    "print(3 != 4)\n",
    "```"
   ]
  },
  {
   "cell_type": "code",
   "execution_count": null,
   "metadata": {},
   "outputs": [],
   "source": []
  },
  {
   "cell_type": "markdown",
   "metadata": {},
   "source": [
    "An `if` statement runs the Python code in its _body_ when a **condition** is `True`, and skips it when the condition is `False`. The body of the `if` statement is indented, like the body of a `for` statement.\n",
    "\n",
    "```\n",
    "if x > 0:\n",
    "    print('x is positive!')\n",
    "```\n",
    "\n",
    "We'll test this with a positive value for `x` and a negative value. Then, we'll add a second `if` statement to print a different message when `x` is negative."
   ]
  },
  {
   "cell_type": "code",
   "execution_count": null,
   "metadata": {},
   "outputs": [],
   "source": []
  },
  {
   "cell_type": "markdown",
   "metadata": {},
   "source": [
    "We can do more than just `print()` something in the body of an `if` statement. For instance, we can change the value of a variable and then use that variable outside the `if` statement.\n",
    "```\n",
    "sign = 'zero'\n",
    "if x > 0:\n",
    "    sign = 'positive'\n",
    "```"
   ]
  },
  {
   "cell_type": "code",
   "execution_count": null,
   "metadata": {},
   "outputs": [],
   "source": []
  },
  {
   "cell_type": "markdown",
   "metadata": {},
   "source": [
    "In the examples above, we're picking between one of a few alternatives. We can use a special \"if-else\" construction to do this more easily. In this example, `elif` is short for else-if.\n",
    "```\n",
    "nt = 'C'\n",
    "if nt == 'A':\n",
    "    base = 'Adenine'\n",
    "elif nt == 'C':\n",
    "    base = 'Cytosine'\n",
    "elif nt == 'G':\n",
    "    base = 'Guanine'\n",
    "elif nt == 'T':\n",
    "    base = 'Thymine'\n",
    "```\n",
    "We can also add an `else` clause that is run when none of the other alternatives are.\n",
    "```\n",
    "else:\n",
    "    base = 'Unknown'\n",
    "```"
   ]
  },
  {
   "cell_type": "code",
   "execution_count": null,
   "metadata": {},
   "outputs": [],
   "source": []
  },
  {
   "cell_type": "markdown",
   "metadata": {},
   "source": [
    "We can also combine `if` and `for` to carry out complex operations.\n",
    "\n",
    "The recognition sequence for the restriction enzyme EcoRI is G/AATTC. Here we will use a `for` loop to iterate over each nucleotide in this site and print the name of the base.\n",
    "\n",
    "```\n",
    "ecori = 'GAATTC'\n",
    "for nt in ecori:\n",
    "    if nt == 'A':\n",
    "    ...\n",
    "    print(base)\n",
    "```"
   ]
  },
  {
   "cell_type": "code",
   "execution_count": null,
   "metadata": {},
   "outputs": [],
   "source": []
  },
  {
   "cell_type": "markdown",
   "metadata": {},
   "source": [
    "_Exercise_ Here is the protein sequence of the yeast gene _MFA1_, encoding a secreted mating pheromone.\n",
    "\n",
    "```\n",
    "mfa1='MQPSTATAAPKEKTSSEKKDNYIIKGVFWDPACVIA'\n",
    "```\n",
    "\n",
    "Write a `for` loop to count the number of lysine residues (one-letter code `K`) in `mfa1`."
   ]
  },
  {
   "cell_type": "code",
   "execution_count": null,
   "metadata": {},
   "outputs": [],
   "source": []
  },
  {
   "cell_type": "markdown",
   "metadata": {},
   "source": [
    "### Dictionaries\n",
    "\n",
    "**Dictionaries**, often called **dicts** for short, are useful and versatile data structures that link a _key_ with a _value_. It's fast and easy to look up the _value_ based on the _key_, like you look up a definition from a word in a dictionary. \n",
    "\n",
    "Dictionaries have one entry per key, and keys can be almost anything -- numbers, strings, and so forth.\n",
    "\n",
    "The code below creates a dictionary where the _keys_ are one-letter amino acid codes and the _values_ are the names of the amino acid.\n",
    "\n",
    "```\n",
    "amino_acids = { 'A': 'alanine', 'C': 'cysteine', 'D': 'aspartic acid' }\n",
    "```"
   ]
  },
  {
   "cell_type": "code",
   "execution_count": null,
   "metadata": {},
   "outputs": [],
   "source": []
  },
  {
   "cell_type": "markdown",
   "metadata": {},
   "source": [
    "Looking up dictionary entries is done by _indexing_ wiht square brackets, just as we saw for lists. An example is given below\n",
    "\n",
    "```\n",
    "amino_acids['C']\n",
    "```"
   ]
  },
  {
   "cell_type": "code",
   "execution_count": null,
   "metadata": {},
   "outputs": [],
   "source": []
  },
  {
   "cell_type": "markdown",
   "metadata": {},
   "source": [
    "Indexing can also be used to add or replace entries. For example, the code below replaces the name of protonated aspartic acid with the deprotonated form typically found in water, and also adds an entry for glutamate.\n",
    "\n",
    "```\n",
    "amino_acids['D'] = 'aspartate'\n",
    "amino_acids['E'] = 'glutamate'\n",
    "```"
   ]
  },
  {
   "cell_type": "code",
   "execution_count": null,
   "metadata": {},
   "outputs": [],
   "source": []
  },
  {
   "cell_type": "markdown",
   "metadata": {},
   "source": [
    "Dictionaries are another kind of **collection**, and so we can iterate over them. A `for` loop will iterate over the _keys_ in a dictionary.\n",
    "```\n",
    "for aa in amino_acids:\n",
    "    print(aa)\n",
    "```"
   ]
  },
  {
   "cell_type": "code",
   "execution_count": null,
   "metadata": {},
   "outputs": [],
   "source": []
  },
  {
   "cell_type": "markdown",
   "metadata": {},
   "source": [
    "It's straightforward to use the keys in a for loop to look up the values.\n",
    "```\n",
    "for aa in amino_acids:\n",
    "    print(amino_acids[aa])\n",
    "```"
   ]
  },
  {
   "cell_type": "code",
   "execution_count": null,
   "metadata": {},
   "outputs": [],
   "source": []
  },
  {
   "cell_type": "markdown",
   "metadata": {},
   "source": [
    "Dictionaries also have an `items()` method that iterates over keys and values _together_.\n",
    "\n",
    "This requires _two_ loop variables, one for the key and one for the value. These two loop variables are separated with a comma, as shown below:\n",
    "\n",
    "```\n",
    "for key, value in amino_acids.items():\n",
    "    print(key)\n",
    "    print(value)\n",
    "```"
   ]
  },
  {
   "cell_type": "code",
   "execution_count": null,
   "metadata": {},
   "outputs": [],
   "source": []
  },
  {
   "cell_type": "markdown",
   "metadata": {},
   "source": [
    "There's an operator called `in` that tests whether a key is contained in a dictionary. For example, the code below tests whether 'B' is a key in our dictionary of amino acids.\n",
    "\n",
    "```\n",
    "'B' in amino_acids\n",
    "```"
   ]
  },
  {
   "cell_type": "code",
   "execution_count": null,
   "metadata": {},
   "outputs": [],
   "source": []
  },
  {
   "cell_type": "markdown",
   "metadata": {},
   "source": [
    "The `del` operator will delete an entry from a dictionary. Here is an example of using `del`\n",
    "```\n",
    "del amino_acids['C']\n",
    "```"
   ]
  },
  {
   "cell_type": "code",
   "execution_count": null,
   "metadata": {},
   "outputs": [],
   "source": []
  },
  {
   "cell_type": "markdown",
   "metadata": {},
   "source": [
    "### Counting with dictionaries\n",
    "\n",
    "Dictionaries are useful for counting things. We counted the occurrences of lysine in one small yeast protein. Now, we're going to count all amino acids in the protein.\n",
    "\n",
    "The basic strategy is to create an empty dictionary, and then update the entries to keep a running count of the number of times we see each amino acid.\n",
    "```\n",
    "mfa1 = 'MQPSTATAAPKEKTSSEKKDNYIIKGVFWDPACVIA'\n",
    "aa_count = {}\n",
    "for aa in mfa1:\n",
    "    aa_count[aa] = aa_count[aa] + 1\n",
    "    print(aa_count)\n",
    "```"
   ]
  },
  {
   "cell_type": "code",
   "execution_count": null,
   "metadata": {},
   "outputs": [],
   "source": []
  },
  {
   "cell_type": "markdown",
   "metadata": {},
   "source": [
    "_But_ this code gives us an error.\n",
    "\n",
    "We need to do something special when we see an amino acid for the first time. There are two ways to handle this situation. One is to test whether an amino acid is already in the dictionary, and add the amino acid if it isn't already there.\n",
    "```\n",
    "    ...\n",
    "    if not (aa in aa_count):\n",
    "        aa_count[aa] = 0\n",
    "    ...\n",
    "```"
   ]
  },
  {
   "cell_type": "code",
   "execution_count": null,
   "metadata": {},
   "outputs": [],
   "source": []
  },
  {
   "cell_type": "markdown",
   "metadata": {},
   "source": [
    "Another is to use the `get()` method instead of indexing with square brackets. This method looks up a key and returns its value, or uses the default value when the key is absent.\n",
    "\n",
    "Here's an example with a dictionary of nucleoside names.\n",
    "\n",
    "```\n",
    "nucleotides = { 'A': 'adenosine', 'C': 'cytidine', 'G': 'guanosine', 'T': 'thymidine' }\n",
    "print('A is ' + nucleotides.get('A', 'unknown'))\n",
    "print('E is ' + nucleotides.get('E', 'unknown'))\n",
    "```"
   ]
  },
  {
   "cell_type": "code",
   "execution_count": null,
   "metadata": {},
   "outputs": [],
   "source": []
  },
  {
   "cell_type": "markdown",
   "metadata": {},
   "source": [
    "We can use the `get()` method to write a shorter and clearer version of our counting loop.\n",
    "```\n",
    "    ...\n",
    "    aa_count[aa] = aa_count.get(aa, 0) + 1\n",
    "    ...\n",
    "```"
   ]
  },
  {
   "cell_type": "code",
   "execution_count": null,
   "metadata": {},
   "outputs": [],
   "source": []
  },
  {
   "cell_type": "markdown",
   "metadata": {},
   "source": [
    "### BioPython\n",
    "\n",
    "Next, we'll move on to counting amino acids in the whole yeast proteome. We don't want to include all ~6,000 protein sequences in this notebook, and so we'll use existing Python tools to read it from a file. First, we need to install the biopython package.\n",
    "\n",
    "Doing this within a Jupyter notebook requires the following, somewhat cryptic python code that I copied and pasted from an informative web page\n",
    "\n",
    "```\n",
    "import sys\n",
    "!{sys.executable} -m pip install biopython\n",
    "```"
   ]
  },
  {
   "cell_type": "code",
   "execution_count": null,
   "metadata": {},
   "outputs": [],
   "source": []
  },
  {
   "cell_type": "markdown",
   "metadata": {},
   "source": [
    "The biopython module `Bio` has a sub-module specialized for reading and writing files of sequence data, called `SeqIO`. The code below imports this one sub-module.\n",
    "\n",
    "```\n",
    "from Bio import SeqIO\n",
    "```"
   ]
  },
  {
   "cell_type": "code",
   "execution_count": null,
   "metadata": {},
   "outputs": [],
   "source": []
  },
  {
   "cell_type": "markdown",
   "metadata": {},
   "source": [
    "The SeqIO module has a function called `parse()` that reads sequence entries from a Fasta-format file. The Fasta format is pretty simple: each sequence has a name on a line starting with a >, followed by the sequence itself. So, a Fasta file might look like:\n",
    "\n",
    "```\n",
    ">one\n",
    "AGCTACGT...\n",
    ">two\n",
    "TGACTGCA...\n",
    "...\n",
    "```\n",
    "\n",
    "The `parse()` function returns, in essence, an iterator that can loop over all the entries in the file. We just want to look at the first one, though, so we'll use `next` to take just one entry.\n",
    "\n",
    "```\n",
    "proteins = SeqIO.parse(\"../S288C_R64-2-1/orf_trans_all_R64-2-1_20150113.fasta\", \"fasta\")\n",
    "protein = next(proteins)\n",
    "```"
   ]
  },
  {
   "cell_type": "code",
   "execution_count": null,
   "metadata": {},
   "outputs": [],
   "source": []
  },
  {
   "cell_type": "markdown",
   "metadata": {},
   "source": [
    "The `parse()` function will turn each of these into a `SeqRecord`, a custom data type that bundles together the name and the sequence. You can get the sequence name from record using `record.id` and the sequence itself using `record.seq`. This sequence isn't an ordinary Python string -- it's another custom data type, called a `Seq`, but you can convert it into a string using `str(record.seq)`.\n",
    "\n",
    "```\n",
    "print('ID = ' + protien.id)\n",
    "print('Seq = ' + str(protein.seq))\n",
    "```"
   ]
  },
  {
   "cell_type": "code",
   "execution_count": null,
   "metadata": {},
   "outputs": [],
   "source": []
  },
  {
   "cell_type": "markdown",
   "metadata": {},
   "source": [
    "Now let's run our amino acid counting loop on this protein.\n",
    "```\n",
    "...\n",
    "for aa in str(protein.seq):\n",
    "    ...\n",
    "```"
   ]
  },
  {
   "cell_type": "code",
   "execution_count": null,
   "metadata": {},
   "outputs": [],
   "source": []
  },
  {
   "cell_type": "markdown",
   "metadata": {},
   "source": [
    "Finally, lets loop over every protein in the proteome and count all of the amino acids.\n",
    "```\n",
    "proteins = SeqIO.parse(\"../S288C_R64-2-1/orf_trans_all_R64-2-1_20150113.fasta\", \"fasta\")\n",
    "...\n",
    "for protein in proteins:\n",
    "    ...\n",
    "```"
   ]
  },
  {
   "cell_type": "code",
   "execution_count": null,
   "metadata": {
    "scrolled": true
   },
   "outputs": [],
   "source": []
  },
  {
   "cell_type": "markdown",
   "metadata": {},
   "source": [
    "What are the most and least common amino acids?"
   ]
  },
  {
   "cell_type": "markdown",
   "metadata": {},
   "source": [
    "### Pandas\n",
    "\n",
    "Dictionaries are great tools, but it's tedious to read a dictionary. Pandas is the Python Data Analysis library, a module that is excellent for many kinds of data analysis. We'll import Pandas to start working with it.\n",
    "```\n",
    "import pandas as pd\n",
    "```"
   ]
  },
  {
   "cell_type": "code",
   "execution_count": null,
   "metadata": {},
   "outputs": [],
   "source": []
  },
  {
   "cell_type": "markdown",
   "metadata": {},
   "source": [
    "We can use our dictionary of counts to create a Pandas `Series`, which is a list of data values with a label for each entry. For us, the labels are the amino acids and the data values are the counts. We can create a `Series` directly from our dictionary using the `pd.Series()` function.\n",
    "```\n",
    "aa_series = pd.Series(aa_count)\n",
    "```"
   ]
  },
  {
   "cell_type": "code",
   "execution_count": null,
   "metadata": {},
   "outputs": [],
   "source": []
  },
  {
   "cell_type": "markdown",
   "metadata": {},
   "source": [
    "Our `aa_series` is still in an arbitrary order. The `Series` type has two sorting methods. `Series.sort_index()` sorts the series by its index (here, by the amino acid) and `Series.sort_values()` sorts the series by the data values.\n",
    "```\n",
    "print(aa_series.sort_index())\n",
    "print(aa_series.sort_values())\n",
    "```\n",
    "These output tables are useful for answering questions like \"how many glycines are there in the yeast genome\" or \"what are the most and least common amino acids\"?"
   ]
  },
  {
   "cell_type": "code",
   "execution_count": null,
   "metadata": {},
   "outputs": [],
   "source": []
  },
  {
   "cell_type": "markdown",
   "metadata": {},
   "source": [
    "### matplotlib\n",
    "\n",
    "It's also pretty easy to make plots of data in a `Series`. To do this, we need to import another module\n",
    "```\n",
    "import matplotlib.pyplot as plt\n",
    "```"
   ]
  },
  {
   "cell_type": "code",
   "execution_count": null,
   "metadata": {},
   "outputs": [],
   "source": []
  },
  {
   "cell_type": "markdown",
   "metadata": {},
   "source": [
    "Now, we can use a `plot()` method on our data series. The default plot is a line plot, but a bar plot makes more sense for this kind of data and so we use the `kind='bar'` argument to the `Series.plot()` method.\n",
    "```\n",
    "aa_series.plot(kind='bar')\n",
    "```\n",
    "You may find it makes more sense to plot the sorted versions of these `Series`"
   ]
  },
  {
   "cell_type": "code",
   "execution_count": null,
   "metadata": {},
   "outputs": [],
   "source": []
  },
  {
   "cell_type": "markdown",
   "metadata": {},
   "source": [
    "_Exercise_ The file `\"../S288C_R64-2-1/S288C_reference_sequence_R64-2-1_20150113.fsa\"` has the nucleotide sequence of the yeast genome. Count the nucleotide frequencies in the genome."
   ]
  },
  {
   "cell_type": "code",
   "execution_count": null,
   "metadata": {},
   "outputs": [],
   "source": [
    "chroms = SeqIO.parse(\"../S288C_R64-2-1/S288C_reference_sequence_R64-2-1_20150113.fsa\", \"fasta\")"
   ]
  },
  {
   "cell_type": "markdown",
   "metadata": {},
   "source": [
    "### Data frames\n",
    "\n",
    "In addition to the `Series`, Pandas also provides a `DataFrame` which has rows and columns, like a table or a spreadsheet. They're similar to (and based on) data frames in the statistics programming language R.\n",
    "\n",
    "We can build a data frame from a dictionary where the _columns_ are entries in a dictionary. Each dictionary _key_ is a column header, and the associated _value_ is a list. The `pd.DataFrame()` function creates a data frame.\n",
    "\n",
    "```\n",
    "nucls = pd.DataFrame({'letter': [ 'A', 'C', 'G', 'T' ],\n",
    "                      'name': ['adenine', 'cytosine', 'guanine', 'thymine'],\n",
    "                      'ring': ['purine', 'pyrimidine', 'purine', 'pyrimidine']})\n",
    "```"
   ]
  },
  {
   "cell_type": "code",
   "execution_count": null,
   "metadata": {},
   "outputs": [],
   "source": []
  },
  {
   "cell_type": "markdown",
   "metadata": {},
   "source": [
    "We can extract one column of a `DataFrame` as a `Series` using square brackets to index it by the name of the column:\n",
    "```\n",
    "nucls['name']\n",
    "```"
   ]
  },
  {
   "cell_type": "code",
   "execution_count": null,
   "metadata": {},
   "outputs": [],
   "source": []
  },
  {
   "cell_type": "markdown",
   "metadata": {},
   "source": [
    "We can then index by row into the `Series` with a second set of square brackets\n",
    "```\n",
    "nucls['letter'][2]\n",
    "```\n"
   ]
  },
  {
   "cell_type": "code",
   "execution_count": null,
   "metadata": {},
   "outputs": [],
   "source": []
  },
  {
   "cell_type": "markdown",
   "metadata": {},
   "source": [
    "Here is some Python code to create a data frame with observed nucleotide counts from 389 TATA boxes taken from eukaryotic promoters (Bucher, J Mol Biol (1990) 212, 563-578).\n",
    "```\n",
    "tata_counts = pd.DataFrame({'A': [  16, 352,   3, 354, 268, 360, 222, 155],\n",
    "                            'C': [  46,   0,  10,   0,   0,   3,   2,  44],\n",
    "                            'G': [  18,   2,   2,   5,   0,  20,  44, 157],\n",
    "                            'T': [ 309,  35, 374,  30, 121,   6, 121,  33]})\n",
    "```\n",
    "Each row is a position in the TATA motif, and each column is a nucleotide. It's possible to read off the consensus sequence of TATA(A/T)A(A/T)(A/G), sometimes written TATAWAWR, just from looking at the counts in the table."
   ]
  },
  {
   "cell_type": "code",
   "execution_count": null,
   "metadata": {},
   "outputs": [],
   "source": []
  },
  {
   "cell_type": "markdown",
   "metadata": {},
   "source": [
    "Data frames have many useful methods. For instance, we can use the .sum() method to take the sums across rows or columns. The argument `0` will calculate column sums and the argument `1` will calculate row sums."
   ]
  },
  {
   "cell_type": "code",
   "execution_count": null,
   "metadata": {},
   "outputs": [],
   "source": []
  },
  {
   "cell_type": "markdown",
   "metadata": {},
   "source": [
    "We can then turn these counts into probabilities by dividing each nucleotide count by the total number of sequences counted. That is if 35 out of 389 TATA-box sequences have a `T` at the second position, then the probability of a `T` at position 1 in a random TATA-box sequence is 35/389, just under 10%.\n",
    "\n",
    "```\n",
    "tata_counts / 389\n",
    "```\n",
    "\n",
    "will make a new data frame dividing each individual entry in our data frame by 389. We'll use this to make a new `tata_probs` data frame with the _probabilities_ of each nucleotide."
   ]
  },
  {
   "cell_type": "code",
   "execution_count": null,
   "metadata": {},
   "outputs": [],
   "source": []
  },
  {
   "cell_type": "markdown",
   "metadata": {},
   "source": [
    "We can now look up, e.g., the probability of a `T` at the second position, which is position 1 in Python counting\n",
    "```\n",
    "tata_probs['T'][1]\n",
    "```"
   ]
  },
  {
   "cell_type": "code",
   "execution_count": null,
   "metadata": {},
   "outputs": [],
   "source": []
  },
  {
   "cell_type": "markdown",
   "metadata": {},
   "source": [
    "We're most of the way to a probabilistic model of a TATA box. We will assume that each of the nucleotides in the TATA box is independent, so we can multiply these probabilities together\n",
    "$$P(\\;\\mathtt{TATAAAG}\\;|\\;\\mathrm{TATA-box}\\;) = \n",
    "P(\\;\\mathtt{T}\\mathrm{\\,at\\,0\\;}) \\times\n",
    "P(\\;\\mathtt{A}\\mathrm{\\,at\\,1\\;}) \\times\n",
    "P(\\;\\mathtt{T}\\mathrm{\\,at\\,2\\;}) \\times\n",
    "P(\\;\\mathtt{A}\\mathrm{\\,at\\,3\\;}) \\times\n",
    "P(\\;\\mathtt{A}\\mathrm{\\,at\\,4\\;}) \\times\n",
    "P(\\;\\mathtt{A}\\mathrm{\\,at\\,5\\;}) \\times\n",
    "P(\\;\\mathtt{G}\\mathrm{\\,at\\,6\\;})\n",
    "$$\n",
    "\n",
    "We need to keep track of which position is which, because $P(\\;\\mathtt{T}\\mathrm{\\,at\\,0\\;}) \\neq P(\\;\\mathtt{T}\\mathrm{\\,at\\,1\\;})$. The `enumerate()` function lets us keep track of a position when we're iterating over a sequence.\n",
    "\n",
    "```\n",
    "for position, nt in enumerate(sequ):\n",
    "    print('position = ' + str(position) + ', nt = ' + str(nt))\n",
    "```"
   ]
  },
  {
   "cell_type": "code",
   "execution_count": null,
   "metadata": {},
   "outputs": [],
   "source": []
  },
  {
   "cell_type": "markdown",
   "metadata": {},
   "source": [
    "Now, we'll write a `for` loop to iterate over the positions in a sequence and compute a running probability.\n",
    "\n",
    "We'll start with probability 1\n",
    "```\n",
    "prob = 1\n",
    "```\n",
    "and then multiply the probability for each independent position\n",
    "```\n",
    "for position, nt in enumerate(sequ):\n",
    "   p = tata_probs[nt][position]\n",
    "   prob = prob * p\n",
    "   print(position, nt, p, prob)\n",
    "```\n",
    "\n",
    "We can use this to compute the probability of a \"very good\" TATA-box like `TATATATA`. We can also try the worst possible TATA box, `ACGCGCCT`."
   ]
  },
  {
   "cell_type": "code",
   "execution_count": null,
   "metadata": {},
   "outputs": [],
   "source": []
  },
  {
   "cell_type": "markdown",
   "metadata": {},
   "source": [
    "Our final probability is 0! While $P(\\;\\mathtt{ACGCGCCT}\\;|\\;\\textrm{TATA-box}\\;)$ is definitely very small, it's probably not 0. We see zero `C` nucleotides at position 1 out of 389 TATA-boxes, but what if we counted 389,000? Would we find 100, 10, or 1? \n",
    "\n",
    "We often handle these situations by adding a _pseudocount_ to our data. We add a fake count for each nucleotide, at each position, in order to eliminate zeros. The impact of this pseudocount depends on the number of real counts. If we add a pseudocount with 9 real observations, it represents 10% of our overall counts, but if we add a pseudocount with 999 real observations, it's only 0.1%.\n",
    "\n",
    "We can just add 1 to every entry and use this table with pseudocounts to make our new data.\n",
    "\n",
    "```\n",
    "tata_counts_pseudo = tata_counts + 1\n",
    "```"
   ]
  },
  {
   "cell_type": "code",
   "execution_count": null,
   "metadata": {},
   "outputs": [],
   "source": []
  },
  {
   "cell_type": "markdown",
   "metadata": {},
   "source": [
    "Now we can use the new tata_probs to compute the probability of the best TATA-box, which is pretty similar. We can also compute the worst TATA-box, which is very low but not zero."
   ]
  },
  {
   "cell_type": "code",
   "execution_count": null,
   "metadata": {},
   "outputs": [],
   "source": []
  },
  {
   "cell_type": "markdown",
   "metadata": {},
   "source": [
    "It's getting tedious to write the same for loop every time we want to try a different sequence.\n",
    "\n",
    "We can write our own function, `likelihood_tata()`, that will compute the likelihood of a sequence under our TATA-box probability model. We define a function with def followed by the function name. The arguments to the function are named in parentheses, and inside the function, these become variables that take on a different value each time we use the function. The `return` keyword gives the computed \"value\" for the function.\n",
    "\n",
    "```\n",
    "def likelihood_tata(sequ):\n",
    "    prob = 1\n",
    "    for position, nt in enumerate(sequ):\n",
    "        p = tata_probs[nt][position]\n",
    "        prob = prob * p\n",
    "        print(position, nt, p, prob)\n",
    "    return(prob)\n",
    "```"
   ]
  },
  {
   "cell_type": "code",
   "execution_count": null,
   "metadata": {},
   "outputs": [],
   "source": []
  },
  {
   "cell_type": "markdown",
   "metadata": {},
   "source": [
    "Now we can easily use our function to compute the likelihood of some other possible TATA-box sequences. For example, the three sequences below are \"very good\" TATA-boxes that differ from the \"best\" TATA box at one of the three \"degenerate\" positions in the motif. Notice that the overall probability of getting one of these three imperfect motifs is substantially higher than the probability of the perfect TATA-box. In fact, although the TATA-box is a strong motif, fewer than 10% of the sequences generated according to our model will actually match the \"best\" sequence.\n",
    "```\n",
    "TATATAAG\n",
    "TATAAATG\n",
    "TATAAAAA\n",
    "```"
   ]
  },
  {
   "cell_type": "markdown",
   "metadata": {},
   "source": [
    "If we want to use our Bayesian framework to think about TATA-boxes, we need some additional information. What is $P(\\;\\mathtt{TATAAAAG}\\;|\\;\\textit{not}\\,\\textrm{TATA-box}\\;)$? We need a model for all the other sequences in the genome, often called a \"background\" model.\n",
    "\n",
    "The easy background model is independent nucleotides, with probabilities determined by the overall composition of the genome. We just counted the overall number of `A`s etc in the yeast genome. A rough estimate is\n",
    "\n",
    "```\n",
    "background = pd.Series({'A': 0.31, 'C': 0.19, 'G': 0.19, 'T': 0.31})\n",
    "```"
   ]
  },
  {
   "cell_type": "code",
   "execution_count": null,
   "metadata": {},
   "outputs": [],
   "source": []
  },
  {
   "cell_type": "markdown",
   "metadata": {},
   "source": [
    "_Exercise_ Use the `background` defined above to write a `likelihood_background()` function that calculates the likelihood of generating a given sequence under the model of random yeast genome."
   ]
  },
  {
   "cell_type": "code",
   "execution_count": null,
   "metadata": {},
   "outputs": [],
   "source": []
  },
  {
   "cell_type": "markdown",
   "metadata": {},
   "source": [
    "Since the \"worst\" TATA-box is GC-rich and the \"best\" TATA-box is AT-rich, the odds of getting the \"best\" TATA-box by chance in random sequence is somewhat higher. Of course, the chance of getting the \"best\" sequence under our TATA-box probabilistic model is dramatically higher than the chance of getting the \"worst\" sequence. We can use the _ratio of the likelihoods_ as a measure of how well two different models fit a given sequence.\n",
    "\n",
    "Below, we compute the likelihood ratios for the \"best\" sequence TATAAAAG, the \"worst\" sequence ACGCGCCT, and getting any one of the three very-good sequences TATAAATG and TATAAAAA.\n",
    "```\n",
    "print(likelihood_tata('TATAAAAG') / likelihood_background('TATAAAAG'))\n",
    "print(likelihood_tata('ACGCGCCT') / likelihood_background('ACGCGCCT'))\n",
    "\n",
    "print( (likelihood_tata('TATATAAG') + likelihood_tata('TATAAATG') + likelihood_tata('TATAAAAA'))\n",
    "       / (likelihood_background('TATATAAG') + likelihood_background('TATAAATG') + likelihood_background('TATAAAAA')) )\n",
    "```"
   ]
  },
  {
   "cell_type": "code",
   "execution_count": null,
   "metadata": {},
   "outputs": [],
   "source": []
  },
  {
   "cell_type": "markdown",
   "metadata": {},
   "source": [
    "We can go one step further and turn this likelihood ratio into a function\n",
    "```\n",
    "def likelihood_ratio(sequ):\n",
    "    return(likelihood_tata(sequ) / likelihood_background(sequ))\n",
    "```"
   ]
  },
  {
   "cell_type": "code",
   "execution_count": null,
   "metadata": {},
   "outputs": [],
   "source": []
  },
  {
   "cell_type": "code",
   "execution_count": null,
   "metadata": {},
   "outputs": [],
   "source": []
  },
  {
   "cell_type": "markdown",
   "metadata": {},
   "source": [
    "We might want to scan a whole promoter to find a TATA-box. Here is the promoter region for the yeast _CDC19_ gene.\n",
    "```\n",
    "cdc19_prm = 'TATGATGCTAGGTACCTTTAGTGTCTTCCTAAAAAAAAAAAAAGGCTCGCCATCAAAACGATATTCGTTGGCTTTTTTTTCTGAATTATAAATACTCTTTGGTAACTTTTCATTTCCAAGAACCTCTTTTTTCCAGTTATATCATG'\n",
    "```\n",
    "We need to extract 8-nucleotide chunks out of the promoter. Square brackets can extract a _range_ of values from a string or a list. To do this, we do `[start:end]` where the start is _included_ and the end is _excluded_.\n",
    "\n",
    "```\n",
    "alphabet = 'abcdefghijklmnopqrstuvwxyz'\n",
    "alphabet[2:6]\n",
    "```\n",
    "\n",
    "This code goes from index 2 (the 3rd entry, `c`) to index 5 (`f`) and does not include index 6 (`g`)."
   ]
  },
  {
   "cell_type": "code",
   "execution_count": null,
   "metadata": {},
   "outputs": [],
   "source": []
  },
  {
   "cell_type": "markdown",
   "metadata": {},
   "source": [
    "We can use this to run\n",
    "```\n",
    "likelihood_ratio(cdc19_prm[0:8])\n",
    "likelihood_ratio(cdc19_prm[1:9])\n",
    "```"
   ]
  },
  {
   "cell_type": "code",
   "execution_count": null,
   "metadata": {},
   "outputs": [],
   "source": []
  },
  {
   "cell_type": "markdown",
   "metadata": {},
   "source": [
    "Now we can loop over each starting position in `cdc19_prm` and compute its likelihood.\n",
    "\n",
    "We start at position 0 and we run until the _end_ of our 8-position window is at the end of the promoter. This happens when `start+8 = len(cdc19_prm)` or equivalently `start = len(cdc19_prm) - 8`.\n",
    "\n",
    "The `range(start, end)` function creates a series of numbers.\n",
    "\n",
    "To start, we can write the loop\n",
    "```\n",
    "for start in range(0, len(cdc19_prm) - 8):\n",
    "    print(str(start) + ' ' + cdc19_prm[start:start+8])\n",
    "```\n",
    "and if all of that looks good we can add in a `likelihood_ratio()`.\n",
    "\n",
    "Then we can build a _list_ of these likelihoods and covert it into a Pandas `Series`."
   ]
  },
  {
   "cell_type": "code",
   "execution_count": null,
   "metadata": {},
   "outputs": [],
   "source": []
  },
  {
   "cell_type": "markdown",
   "metadata": {},
   "source": []
  }
 ],
 "metadata": {
  "kernelspec": {
   "display_name": "Python 3",
   "language": "python",
   "name": "python3"
  },
  "language_info": {
   "codemirror_mode": {
    "name": "ipython",
    "version": 3
   },
   "file_extension": ".py",
   "mimetype": "text/x-python",
   "name": "python",
   "nbconvert_exporter": "python",
   "pygments_lexer": "ipython3",
   "version": "3.7.7"
  }
 },
 "nbformat": 4,
 "nbformat_minor": 2
}
