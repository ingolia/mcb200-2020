{
 "cells": [
  {
   "cell_type": "markdown",
   "metadata": {},
   "source": [
    "### Conditionals (`if` statements)"
   ]
  },
  {
   "cell_type": "markdown",
   "metadata": {},
   "source": [
    "We can perform true/false tests, like comparing two numbers or checking whether two strings are equal. The code below gives the example of comparing two numbers.\n",
    "```\n",
    "3 > 2\n",
    "```"
   ]
  },
  {
   "cell_type": "code",
   "execution_count": 2,
   "metadata": {},
   "outputs": [
    {
     "data": {
      "text/plain": [
       "bool"
      ]
     },
     "execution_count": 2,
     "metadata": {},
     "output_type": "execute_result"
    }
   ],
   "source": [
    "type(3 > 2)"
   ]
  },
  {
   "cell_type": "markdown",
   "metadata": {},
   "source": [
    "These `True` / `False` results are a data type called `bool`, short for Boolean, which refers to a systematic approach to this sort of true/false logic.\n",
    "\n",
    "In Boolean logic, true/false values can be combined using _and_ and *or*, and transformed using _not_. Python has exact equivalents of these, allowing us to build more complex tests. Note that Python's `or` is \"inclusive\", that is, `a or b` is `true` when at least one of `a` or `b` are true, including when both are true.\n",
    "```\n",
    "print( 3 > 2 and 3 < 4 )\n",
    "print( 3 > 2 or  3 < 4 )\n",
    "print( 3 > 2 and 3 < 1 )\n",
    "```"
   ]
  },
  {
   "cell_type": "code",
   "execution_count": 8,
   "metadata": {},
   "outputs": [
    {
     "name": "stdout",
     "output_type": "stream",
     "text": [
      "True\n",
      "True\n",
      "False\n",
      "True\n",
      "True\n"
     ]
    },
    {
     "ename": "AttributeError",
     "evalue": "'list' object has no attribute 'empty'",
     "output_type": "error",
     "traceback": [
      "\u001b[0;31m---------------------------------------------------------------------------\u001b[0m",
      "\u001b[0;31mAttributeError\u001b[0m                            Traceback (most recent call last)",
      "\u001b[0;32m<ipython-input-8-a0b957cd6dfd>\u001b[0m in \u001b[0;36m<module>\u001b[0;34m\u001b[0m\n\u001b[1;32m      6\u001b[0m \u001b[0mprint\u001b[0m\u001b[0;34m(\u001b[0m\u001b[0;32mFalse\u001b[0m \u001b[0;32mor\u001b[0m \u001b[0;32mFalse\u001b[0m \u001b[0;32mor\u001b[0m \u001b[0;32mFalse\u001b[0m \u001b[0;32mor\u001b[0m \u001b[0;32mFalse\u001b[0m \u001b[0;32mor\u001b[0m \u001b[0;32mTrue\u001b[0m\u001b[0;34m)\u001b[0m\u001b[0;34m\u001b[0m\u001b[0;34m\u001b[0m\u001b[0m\n\u001b[1;32m      7\u001b[0m \u001b[0;34m\u001b[0m\u001b[0m\n\u001b[0;32m----> 8\u001b[0;31m \u001b[0;34m[\u001b[0m\u001b[0;34m]\u001b[0m\u001b[0;34m.\u001b[0m\u001b[0mempty\u001b[0m\u001b[0;34m(\u001b[0m\u001b[0;34m)\u001b[0m\u001b[0;34m\u001b[0m\u001b[0;34m\u001b[0m\u001b[0m\n\u001b[0m",
      "\u001b[0;31mAttributeError\u001b[0m: 'list' object has no attribute 'empty'"
     ]
    }
   ],
   "source": [
    "print( 3 > 2 and 3 < 4 )\n",
    "print( 3 > 2 or  3 < 4 )\n",
    "\n",
    "print( 3 > 2 and 3 < 1 )\n",
    "print( 3 > 2 or  3 < 1 )\n",
    "print(False or False or False or False or True)\n",
    "\n"
   ]
  },
  {
   "cell_type": "markdown",
   "metadata": {},
   "source": [
    "To test whether two values are equal to each other, we use a double equal sign symbol, `==`. This symbol distinguishes _testing_ whether two values are equal from _assigning_ a value to a variable, which uses a single equal sign (_e.g._, `x = 3`).\n",
    "\n",
    "For instance, we can compare integers and strings as shown below\n",
    "```\n",
    "print(3 == 4)\n",
    "print(2*2 == 4)\n",
    "print('4' == 4)\n",
    "print('4' == str(4))\n",
    "```"
   ]
  },
  {
   "cell_type": "code",
   "execution_count": 14,
   "metadata": {},
   "outputs": [
    {
     "name": "stdout",
     "output_type": "stream",
     "text": [
      "False\n",
      "True\n",
      "False\n",
      "True\n"
     ]
    },
    {
     "data": {
      "text/plain": [
       "True"
      ]
     },
     "execution_count": 14,
     "metadata": {},
     "output_type": "execute_result"
    }
   ],
   "source": [
    "print(3 == 4)\n",
    "print(2*2 == 4)\n",
    "print('4' == 4)\n",
    "print('4' == str(4))\n",
    "[1, 'A'] == [1, 'A']"
   ]
  },
  {
   "cell_type": "markdown",
   "metadata": {},
   "source": [
    "The `!=` operator tests whether two values are not equal, like this\n",
    "```\n",
    "print(3 != 4)\n",
    "```"
   ]
  },
  {
   "cell_type": "code",
   "execution_count": 22,
   "metadata": {},
   "outputs": [
    {
     "name": "stdout",
     "output_type": "stream",
     "text": [
      "65\n",
      "B\n",
      "True\n",
      "True\n"
     ]
    }
   ],
   "source": [
    "print(ord('A'))\n",
    "print(chr(66))\n",
    "\n",
    "print(not (3 == 4))\n",
    "print(3 != 4)"
   ]
  },
  {
   "cell_type": "markdown",
   "metadata": {},
   "source": [
    "An `if` statement runs the Python code in its _body_ when a **condition** is `True`, and skips it when the condition is `False`. The body of the `if` statement is indented, like the body of a `for` statement.\n",
    "\n",
    "```\n",
    "if x > 0:\n",
    "    print('x is positive!')\n",
    "```\n",
    "\n",
    "We'll test this with a positive value for `x` and a negative value. Then, we'll add a second `if` statement to print a different message when `x` is negative."
   ]
  },
  {
   "cell_type": "code",
   "execution_count": 27,
   "metadata": {},
   "outputs": [
    {
     "name": "stdout",
     "output_type": "stream",
     "text": [
      "x is negative!\n"
     ]
    }
   ],
   "source": [
    "x = -3\n",
    "if x > 0:\n",
    "    print('x is positive!')\n",
    "if x < 0:\n",
    "    print('x is negative!')"
   ]
  },
  {
   "cell_type": "markdown",
   "metadata": {},
   "source": [
    "We can do more than just `print()` something in the body of an `if` statement. For instance, we can change the value of a variable and then use that variable outside the `if` statement.\n",
    "```\n",
    "sign = 'zero'\n",
    "if x > 0:\n",
    "    sign = 'positive'\n",
    "```"
   ]
  },
  {
   "cell_type": "code",
   "execution_count": 32,
   "metadata": {},
   "outputs": [
    {
     "data": {
      "text/plain": [
       "'negative'"
      ]
     },
     "execution_count": 32,
     "metadata": {},
     "output_type": "execute_result"
    }
   ],
   "source": [
    "x = -3\n",
    "sign = 'zero'\n",
    "if x > 0:\n",
    "    sign = 'positive'\n",
    "if x < 0:\n",
    "    sign = 'negative'\n",
    "sign"
   ]
  },
  {
   "cell_type": "markdown",
   "metadata": {},
   "source": [
    "In the examples above, we're picking between one of a few alternatives. We can use a special \"if-else\" construction to do this more easily. In this example, `elif` is short for else-if.\n",
    "```\n",
    "nt = 'C'\n",
    "if nt == 'A':\n",
    "    base = 'Adenine'\n",
    "elif nt == 'C':\n",
    "    base = 'Cytosine'\n",
    "elif nt == 'G':\n",
    "    base = 'Guanine'\n",
    "elif nt == 'T':\n",
    "    base = 'Thymine'\n",
    "```\n",
    "We can also add an `else` clause that is run when none of the other alternatives are.\n",
    "```\n",
    "else:\n",
    "    base = 'Unknown'\n",
    "```"
   ]
  },
  {
   "cell_type": "code",
   "execution_count": 38,
   "metadata": {},
   "outputs": [
    {
     "name": "stdout",
     "output_type": "stream",
     "text": [
      "Unknown\n"
     ]
    }
   ],
   "source": [
    "nt = 'B'\n",
    "if nt == 'A':\n",
    "    base = 'Adenine'\n",
    "elif nt == 'C':\n",
    "    base = 'Cytosine'\n",
    "elif nt == 'G':\n",
    "    base = 'Guanine'\n",
    "elif nt == 'T':\n",
    "    base = 'Thymine'\n",
    "else:\n",
    "    base = 'Unknown'\n",
    "print(base)"
   ]
  },
  {
   "cell_type": "markdown",
   "metadata": {},
   "source": [
    "We can also combine `if` and `for` to carry out complex operations.\n",
    "\n",
    "The recognition sequence for the restriction enzyme EcoRI is G/AATTC. Here we will use a `for` loop to iterate over each nucleotide in this site and print the name of the base.\n",
    "\n",
    "```\n",
    "ecori = 'GAATTC'\n",
    "for nt in ecori:\n",
    "    if nt == 'A':\n",
    "    ...\n",
    "    print(base)\n",
    "```"
   ]
  },
  {
   "cell_type": "code",
   "execution_count": 40,
   "metadata": {},
   "outputs": [
    {
     "name": "stdout",
     "output_type": "stream",
     "text": [
      "Guanine\n",
      "Adenine\n",
      "Adenine\n",
      "Thymine\n",
      "Thymine\n",
      "Cytosine\n"
     ]
    }
   ],
   "source": [
    "ecori = 'GAATTC'\n",
    "for nt in ecori:\n",
    "    if nt == 'A':\n",
    "        base = 'Adenine'\n",
    "    elif nt == 'C':\n",
    "        base = 'Cytosine'\n",
    "    elif nt == 'G':\n",
    "        base = 'Guanine'\n",
    "    elif nt == 'T':\n",
    "        base = 'Thymine'\n",
    "    else:\n",
    "        base = 'Unknown'\n",
    "    print(base)\n"
   ]
  },
  {
   "cell_type": "markdown",
   "metadata": {},
   "source": [
    "_Exercise_ Here is the protein sequence of the yeast gene _MFA1_, encoding a secreted mating pheromone.\n",
    "\n",
    "```\n",
    "mfa1='MQPSTATAAPKEKTSSEKKDNYIIKGVFWDPACVIA'\n",
    "```\n",
    "\n",
    "Write a `for` loop to count the number of lysine residues (one-letter code `K`) in `mfa1`."
   ]
  },
  {
   "cell_type": "code",
   "execution_count": 42,
   "metadata": {},
   "outputs": [
    {
     "data": {
      "text/plain": [
       "5"
      ]
     },
     "execution_count": 42,
     "metadata": {},
     "output_type": "execute_result"
    }
   ],
   "source": [
    "mfa1='MQPSTATAAPKEKTSSEKKDNYIIKGVFWDPACVIA'\n",
    "num_lys = 0\n",
    "for aa in mfa1:\n",
    "    if aa == 'K':\n",
    "        num_lys = num_lys + 1\n",
    "        # num_lys += 1\n",
    "num_lys"
   ]
  },
  {
   "cell_type": "markdown",
   "metadata": {},
   "source": [
    "### Dictionaries\n",
    "\n",
    "**Dictionaries**, often called **dicts** for short, are useful and versatile data structures that link a _key_ with a _value_. It's fast and easy to look up the _value_ based on the _key_, like you look up a definition from a word in a dictionary. \n",
    "\n",
    "Dictionaries have one entry per key, and keys can be almost anything -- numbers, strings, and so forth.\n",
    "\n",
    "The code below creates a dictionary where the _keys_ are one-letter amino acid codes and the _values_ are the names of the amino acid.\n",
    "\n",
    "```\n",
    "amino_acids = { 'A': 'alanine', 'C': 'cysteine', 'D': 'aspartic acid' }\n",
    "```"
   ]
  },
  {
   "cell_type": "code",
   "execution_count": 43,
   "metadata": {},
   "outputs": [
    {
     "data": {
      "text/plain": [
       "{'A': 'alanine', 'C': 'cysteine', 'D': 'aspartic acid'}"
      ]
     },
     "execution_count": 43,
     "metadata": {},
     "output_type": "execute_result"
    }
   ],
   "source": [
    "amino_acids = { 'A': 'alanine', 'C': 'cysteine', 'D': 'aspartic acid'}\n",
    "amino_acids"
   ]
  },
  {
   "cell_type": "markdown",
   "metadata": {},
   "source": [
    "Looking up dictionary entries is done by _indexing_ wiht square brackets, just as we saw for lists. An example is given below\n",
    "\n",
    "```\n",
    "amino_acids['C']\n",
    "```"
   ]
  },
  {
   "cell_type": "code",
   "execution_count": 47,
   "metadata": {},
   "outputs": [
    {
     "data": {
      "text/plain": [
       "True"
      ]
     },
     "execution_count": 47,
     "metadata": {},
     "output_type": "execute_result"
    }
   ],
   "source": [
    "'C' in amino_acids"
   ]
  },
  {
   "cell_type": "markdown",
   "metadata": {},
   "source": [
    "Indexing can also be used to add or replace entries. For example, the code below replaces the name of protonated aspartic acid with the deprotonated form typically found in water, and also adds an entry for glutamate.\n",
    "\n",
    "```\n",
    "amino_acids['D'] = 'aspartate'\n",
    "amino_acids['E'] = 'glutamate'\n",
    "```"
   ]
  },
  {
   "cell_type": "code",
   "execution_count": 51,
   "metadata": {},
   "outputs": [
    {
     "data": {
      "text/plain": [
       "{'A': 'alanine', 'C': 'cysteine', 'D': 'aspartate', 'E': 'glutamate'}"
      ]
     },
     "execution_count": 51,
     "metadata": {},
     "output_type": "execute_result"
    }
   ],
   "source": [
    "amino_acids['D'] = 'aspartate'\n",
    "amino_acids['E'] = 'glutamate'\n",
    "amino_acids"
   ]
  },
  {
   "cell_type": "markdown",
   "metadata": {},
   "source": [
    "Dictionaries are another kind of **collection**, and so we can iterate over them. A `for` loop will iterate over the _keys_ in a dictionary.\n",
    "```\n",
    "for aa in amino_acids:\n",
    "    print(aa)\n",
    "```"
   ]
  },
  {
   "cell_type": "code",
   "execution_count": 52,
   "metadata": {},
   "outputs": [
    {
     "name": "stdout",
     "output_type": "stream",
     "text": [
      "A\n",
      "C\n",
      "D\n",
      "E\n"
     ]
    }
   ],
   "source": [
    "for aa in amino_acids:\n",
    "    print(aa)"
   ]
  },
  {
   "cell_type": "markdown",
   "metadata": {},
   "source": [
    "It's straightforward to use the keys in a for loop to look up the values.\n",
    "```\n",
    "for aa in amino_acids:\n",
    "    print(amino_acids[aa])\n",
    "```"
   ]
  },
  {
   "cell_type": "code",
   "execution_count": 53,
   "metadata": {},
   "outputs": [
    {
     "name": "stdout",
     "output_type": "stream",
     "text": [
      "A is alanine\n",
      "C is cysteine\n",
      "D is aspartate\n",
      "E is glutamate\n"
     ]
    }
   ],
   "source": [
    "for aa in amino_acids:\n",
    "    print(aa + ' is ' + amino_acids[aa])"
   ]
  },
  {
   "cell_type": "markdown",
   "metadata": {},
   "source": [
    "Dictionaries also have an `items()` method that iterates over keys and values _together_.\n",
    "\n",
    "This requires _two_ loop variables, one for the key and one for the value. These two loop variables are separated with a comma, as shown below:\n",
    "\n",
    "```\n",
    "for key, value in amino_acids.items():\n",
    "    print(key)\n",
    "    print(value)\n",
    "```"
   ]
  },
  {
   "cell_type": "code",
   "execution_count": 54,
   "metadata": {},
   "outputs": [
    {
     "name": "stdout",
     "output_type": "stream",
     "text": [
      "key is A\n",
      "value is alanine\n",
      "key is C\n",
      "value is cysteine\n",
      "key is D\n",
      "value is aspartate\n",
      "key is E\n",
      "value is glutamate\n"
     ]
    }
   ],
   "source": [
    "for key, value in amino_acids.items():\n",
    "    print('key is ' + key)\n",
    "    print('value is ' + value)"
   ]
  },
  {
   "cell_type": "markdown",
   "metadata": {},
   "source": [
    "There's an operator called `in` that tests whether a key is contained in a dictionary. For example, the code below tests whether 'B' is a key in our dictionary of amino acids.\n",
    "\n",
    "```\n",
    "'B' in amino_acids\n",
    "```"
   ]
  },
  {
   "cell_type": "code",
   "execution_count": 55,
   "metadata": {},
   "outputs": [
    {
     "name": "stdout",
     "output_type": "stream",
     "text": [
      "True\n",
      "False\n"
     ]
    }
   ],
   "source": [
    "print('C' in amino_acids)\n",
    "print('B' in amino_acids)"
   ]
  },
  {
   "cell_type": "markdown",
   "metadata": {},
   "source": [
    "The `del` operator will delete an entry from a dictionary. Here is an example of using `del`\n",
    "```\n",
    "del amino_acids['C']\n",
    "```"
   ]
  },
  {
   "cell_type": "code",
   "execution_count": 56,
   "metadata": {},
   "outputs": [
    {
     "data": {
      "text/plain": [
       "{'A': 'alanine', 'D': 'aspartate', 'E': 'glutamate'}"
      ]
     },
     "execution_count": 56,
     "metadata": {},
     "output_type": "execute_result"
    }
   ],
   "source": [
    "del amino_acids['C']\n",
    "amino_acids"
   ]
  },
  {
   "cell_type": "markdown",
   "metadata": {},
   "source": [
    "### Counting with dictionaries\n",
    "\n",
    "Dictionaries are useful for counting things. We counted the occurrences of lysine in one small yeast protein. Now, we're going to count all amino acids in the protein.\n",
    "\n",
    "The basic strategy is to create an empty dictionary, and then update the entries to keep a running count of the number of times we see each amino acid.\n",
    "```\n",
    "mfa1 = 'MQPSTATAAPKEKTSSEKKDNYIIKGVFWDPACVIA'\n",
    "aa_count = {}\n",
    "for aa in mfa1:\n",
    "    aa_count[aa] = aa_count[aa] + 1\n",
    "    print(aa_count)\n",
    "```"
   ]
  },
  {
   "cell_type": "code",
   "execution_count": 57,
   "metadata": {},
   "outputs": [
    {
     "ename": "KeyError",
     "evalue": "'M'",
     "output_type": "error",
     "traceback": [
      "\u001b[0;31m---------------------------------------------------------------------------\u001b[0m",
      "\u001b[0;31mKeyError\u001b[0m                                  Traceback (most recent call last)",
      "\u001b[0;32m<ipython-input-57-02d13edcf6e2>\u001b[0m in \u001b[0;36m<module>\u001b[0;34m\u001b[0m\n\u001b[1;32m      2\u001b[0m \u001b[0maa_count\u001b[0m \u001b[0;34m=\u001b[0m \u001b[0;34m{\u001b[0m\u001b[0;34m}\u001b[0m\u001b[0;34m\u001b[0m\u001b[0;34m\u001b[0m\u001b[0m\n\u001b[1;32m      3\u001b[0m \u001b[0;32mfor\u001b[0m \u001b[0maa\u001b[0m \u001b[0;32min\u001b[0m \u001b[0mmfa1\u001b[0m\u001b[0;34m:\u001b[0m\u001b[0;34m\u001b[0m\u001b[0;34m\u001b[0m\u001b[0m\n\u001b[0;32m----> 4\u001b[0;31m     \u001b[0maa_count\u001b[0m\u001b[0;34m[\u001b[0m\u001b[0maa\u001b[0m\u001b[0;34m]\u001b[0m \u001b[0;34m=\u001b[0m \u001b[0maa_count\u001b[0m\u001b[0;34m[\u001b[0m\u001b[0maa\u001b[0m\u001b[0;34m]\u001b[0m \u001b[0;34m+\u001b[0m \u001b[0;36m1\u001b[0m\u001b[0;34m\u001b[0m\u001b[0;34m\u001b[0m\u001b[0m\n\u001b[0m\u001b[1;32m      5\u001b[0m \u001b[0mprint\u001b[0m\u001b[0;34m(\u001b[0m\u001b[0maa_count\u001b[0m\u001b[0;34m)\u001b[0m\u001b[0;34m\u001b[0m\u001b[0;34m\u001b[0m\u001b[0m\n",
      "\u001b[0;31mKeyError\u001b[0m: 'M'"
     ]
    }
   ],
   "source": [
    "mfa1 = 'MQPSTATAAPKEKTSSEKKDNYIIKGVFWDPACVIA'\n",
    "aa_count = {}\n",
    "for aa in mfa1:\n",
    "    aa_count[aa] = aa_count[aa] + 1\n",
    "print(aa_count)"
   ]
  },
  {
   "cell_type": "markdown",
   "metadata": {},
   "source": [
    "_But_ this code gives us an error.\n",
    "\n",
    "We need to do something special when we see an amino acid for the first time. There are two ways to handle this situation. One is to test whether an amino acid is already in the dictionary, and add the amino acid if it isn't already there.\n",
    "```\n",
    "    ...\n",
    "    if not (aa in aa_count):\n",
    "        aa_count[aa] = 0\n",
    "    ...\n",
    "```"
   ]
  },
  {
   "cell_type": "code",
   "execution_count": 58,
   "metadata": {},
   "outputs": [
    {
     "name": "stdout",
     "output_type": "stream",
     "text": [
      "{'M': 1, 'Q': 1, 'P': 3, 'S': 3, 'T': 3, 'A': 5, 'K': 5, 'E': 2, 'D': 2, 'N': 1, 'Y': 1, 'I': 3, 'G': 1, 'V': 2, 'F': 1, 'W': 1, 'C': 1}\n"
     ]
    }
   ],
   "source": [
    "mfa1 = 'MQPSTATAAPKEKTSSEKKDNYIIKGVFWDPACVIA'\n",
    "aa_count = {}\n",
    "for aa in mfa1:\n",
    "    if not (aa in aa_count):\n",
    "        aa_count[aa] = 0\n",
    "    aa_count[aa] = aa_count[aa] + 1\n",
    "print(aa_count)"
   ]
  },
  {
   "cell_type": "markdown",
   "metadata": {},
   "source": [
    "Another is to use the `get()` method instead of indexing with square brackets. This method looks up a key and returns its value, or uses the default value when the key is absent.\n",
    "\n",
    "Here's an example with a dictionary of nucleoside names.\n",
    "\n",
    "```\n",
    "nucleotides = { 'A': 'adenosine', 'C': 'cytidine', 'G': 'guanosine', 'T': 'thymidine' }\n",
    "print('A is ' + nucleotides.get('A', 'unknown'))\n",
    "print('E is ' + nucleotides.get('E', 'unknown'))\n",
    "```"
   ]
  },
  {
   "cell_type": "code",
   "execution_count": 63,
   "metadata": {},
   "outputs": [
    {
     "data": {
      "text/plain": [
       "'unknown'"
      ]
     },
     "execution_count": 63,
     "metadata": {},
     "output_type": "execute_result"
    }
   ],
   "source": [
    "nucleotides = { 'A': 'adenosine', 'C': 'cytidine', 'G': 'guanosine', 'T': 'thymidine' }\n",
    "nucleotides.get('E', 'unknown')"
   ]
  },
  {
   "cell_type": "markdown",
   "metadata": {},
   "source": [
    "We can use the `get()` method to write a shorter and clearer version of our counting loop.\n",
    "```\n",
    "    ...\n",
    "    aa_count[aa] = aa_count.get(aa, 0) + 1\n",
    "    ...\n",
    "```"
   ]
  },
  {
   "cell_type": "code",
   "execution_count": 64,
   "metadata": {},
   "outputs": [
    {
     "name": "stdout",
     "output_type": "stream",
     "text": [
      "{'M': 1, 'Q': 1, 'P': 3, 'S': 3, 'T': 3, 'A': 5, 'K': 5, 'E': 2, 'D': 2, 'N': 1, 'Y': 1, 'I': 3, 'G': 1, 'V': 2, 'F': 1, 'W': 1, 'C': 1}\n"
     ]
    }
   ],
   "source": [
    "mfa1 = 'MQPSTATAAPKEKTSSEKKDNYIIKGVFWDPACVIA'\n",
    "aa_count = {}\n",
    "for aa in mfa1:\n",
    "    aa_count[aa] = aa_count.get(aa, 0) + 1\n",
    "print(aa_count)"
   ]
  },
  {
   "cell_type": "markdown",
   "metadata": {},
   "source": [
    "### BioPython\n",
    "\n",
    "Next, we'll move on to counting amino acids in the whole yeast proteome. We don't want to include all ~6,000 protein sequences in this notebook, and so we'll use existing Python tools to read it from a file. First, we need to install the biopython package.\n",
    "\n",
    "Doing this within a Jupyter notebook requires the following, somewhat cryptic python code that I copied and pasted from an informative web page\n",
    "\n",
    "```\n",
    "import sys\n",
    "!{sys.executable} -m pip install biopython\n",
    "```"
   ]
  },
  {
   "cell_type": "code",
   "execution_count": 65,
   "metadata": {},
   "outputs": [
    {
     "name": "stdout",
     "output_type": "stream",
     "text": [
      "Collecting biopython\n",
      "  Downloading biopython-1.78-cp38-cp38-manylinux1_x86_64.whl (2.3 MB)\n",
      "\u001b[K     |████████████████████████████████| 2.3 MB 3.4 MB/s eta 0:00:01\n",
      "\u001b[?25hRequirement already satisfied: numpy in /opt/conda/lib/python3.8/site-packages (from biopython) (1.18.5)\n",
      "Installing collected packages: biopython\n",
      "Successfully installed biopython-1.78\n"
     ]
    }
   ],
   "source": [
    "import sys\n",
    "!{sys.executable} -m pip install biopython"
   ]
  },
  {
   "cell_type": "markdown",
   "metadata": {},
   "source": [
    "The biopython module `Bio` has a sub-module specialized for reading and writing files of sequence data, called `SeqIO`. The code below imports this one sub-module.\n",
    "\n",
    "```\n",
    "from Bio import SeqIO\n",
    "```"
   ]
  },
  {
   "cell_type": "code",
   "execution_count": 66,
   "metadata": {},
   "outputs": [],
   "source": [
    "from Bio import SeqIO"
   ]
  },
  {
   "cell_type": "markdown",
   "metadata": {},
   "source": [
    "The SeqIO module has a function called `parse()` that reads sequence entries from a Fasta-format file. The Fasta format is pretty simple: each sequence has a name on a line starting with a >, followed by the sequence itself. So, a Fasta file might look like:\n",
    "\n",
    "```\n",
    ">one\n",
    "AGCTACGT...\n",
    ">two\n",
    "TGACTGCA...\n",
    "...\n",
    "```\n",
    "\n",
    "The `parse()` function returns, in essence, an iterator that can loop over all the entries in the file. We just want to look at the first one, though, so we'll use `next` to take just one entry.\n",
    "\n",
    "```\n",
    "proteins = SeqIO.parse(\"../S288C_R64-2-1/orf_trans_all_R64-2-1_20150113.fasta\", \"fasta\")\n",
    "protein = next(proteins)\n",
    "```"
   ]
  },
  {
   "cell_type": "code",
   "execution_count": 68,
   "metadata": {},
   "outputs": [
    {
     "data": {
      "text/plain": [
       "SeqRecord(seq=Seq('MVLTIYPDELVQIVSDKIASNKGKITLNQLWDISGKYFDLSDKKVKQFVLSCVI...ST*'), id='YAL001C', name='YAL001C', description='YAL001C TFC3 SGDID:S000000001, Chr I from 151006-147594,151166-151097, Genome Release 64-2-1, reverse complement, Verified ORF, \"Subunit of RNA polymerase III transcription initiation factor complex; part of the TauB domain of TFIIIC that binds DNA at the BoxB promoter sites of tRNA and similar genes; cooperates with Tfc6p in DNA binding; largest of six subunits of the RNA polymerase III transcription initiation factor complex (TFIIIC)\"', dbxrefs=[])"
      ]
     },
     "execution_count": 68,
     "metadata": {},
     "output_type": "execute_result"
    }
   ],
   "source": [
    "proteins = SeqIO.parse(\"../S288C_R64-2-1/orf_trans_all_R64-2-1_20150113.fasta\", \"fasta\")\n",
    "protein = next(proteins)\n",
    "protein"
   ]
  },
  {
   "cell_type": "markdown",
   "metadata": {},
   "source": [
    "The `parse()` function will turn each of these into a `SeqRecord`, a custom data type that bundles together the name and the sequence. You can get the sequence name from record using `record.id` and the sequence itself using `record.seq`. This sequence isn't an ordinary Python string -- it's another custom data type, called a `Seq`, but you can convert it into a string using `str(record.seq)`.\n",
    "\n",
    "```\n",
    "print('ID = ' + protein.id)\n",
    "print('Seq = ' + str(protein.seq))\n",
    "```"
   ]
  },
  {
   "cell_type": "code",
   "execution_count": 73,
   "metadata": {},
   "outputs": [
    {
     "name": "stdout",
     "output_type": "stream",
     "text": [
      "ID = YAL001C\n",
      "Sequence is MVLTIYPDELVQIVSDKIASNKGKITLNQLWDISGKYFDLSDKKVKQFVLSCVILKKDIEVYCDGAITTKNVTDIIGDANHSYSVGITEDSLWTLLTGYTKKESTIGNSAFELLLEVAKSGEKGINTMDLAQVTGQDPRSVTGRIKKINHLLTSSQLIYKGHVVKQLKLKKFSHDGVDSNPYINIRDHLATIVEVVKRSKNGIRQIIDLKRELKFDKEKRLSKAFIAAIAWLDEKEYLKKVLVVSPKNPAIKIRCVKYVKDIPDSKGSPSFEYDSNSADEDSVSDSKAAFEDEDLVEGLDNFNATDLLQNQGLVMEEKEDAVKNEVLLNRFYPLQNQTYDIADKSGLKGISTMDVVNRITGKEFQRAFTKSSEYYLESVDKQKENTGGYRLFRIYDFEGKKKFFRLFTAQNFQKLTNAEDEISVPKGFDELGKSRTDLKTLNEDNFVALNNTVRFTTDSDGQDIFFWHGELKIPPNSKKTPNKNKRKRQVKNSTNASVAGNISNPKRIKLEQHVSTAQEPKSAEDSPSSNGGTVVKGKVVNFGGFSARSLRSLQRQRAILKVMNTIGGVAYLREQFYESVSKYMGSTTTLDKKTVRGDVDLMVESEKLGARTEPVSGRKIIFLPTVGEDAIQRYILKEKDSKKATFTDVIHDTEIYFFDQTEKNRFHRGKKSVERIRKFQNRQKNAKIKASDDAISKKSTSVNVSDGKIKRRDKKVSAGRTTVVVENTKEDKTVYHAGTKDGVQALIRAVVVTKSIKNEIMWDKITKLFPNNSLDNLKKKWTARRVRMGHSGWRAYVDKWKKMLVLAIKSEKISLRDVEELDLIKLLDIWTSFDEKEIKRPLFLYKNYEENRKKFTLVRDDTLTHSGNDLAMSSMIQREISSLKKTYTRKISASTKDLSKSQSDDYIRTVIRSILIESPSTTRNEIEALKNVGNESIDNVIMDMAKEKQIYLHGSKLECTDTLPDILENRGNYKDFGVAFQYRCKVNELLEAGNAIVINQEPSDISSWVLIDLISGELLNMDVIPMVRNVRPLTYTSRRFEIRTLTPPLIIYANSQTKLNTARKSAVKVPLGKPFSRLWVNGSGSIRPNIWKQVVTMVVNEIIFHPGITLSRLQSRCREVLSLHEISEICKWLLERQVLITTDFDGYWVNHNWYSIYEST*\n"
     ]
    }
   ],
   "source": [
    "print('ID = ' + protein.id)\n",
    "print('Sequence is ' + str(protein.seq))"
   ]
  },
  {
   "cell_type": "markdown",
   "metadata": {},
   "source": [
    "Now let's run our amino acid counting loop on this protein.\n",
    "```\n",
    "...\n",
    "for aa in str(protein.seq):\n",
    "    ...\n",
    "```"
   ]
  },
  {
   "cell_type": "code",
   "execution_count": 74,
   "metadata": {},
   "outputs": [
    {
     "name": "stdout",
     "output_type": "stream",
     "text": [
      "{'M': 17, 'V': 87, 'L': 97, 'T': 75, 'I': 87, 'Y': 35, 'P': 30, 'D': 79, 'E': 73, 'Q': 37, 'S': 97, 'K': 125, 'A': 52, 'N': 66, 'G': 59, 'W': 15, 'F': 42, 'C': 7, 'H': 16, 'R': 64, '*': 1}\n"
     ]
    }
   ],
   "source": [
    "aa_count = {}\n",
    "for aa in str(protein.seq):\n",
    "    aa_count[aa] = aa_count.get(aa, 0) + 1\n",
    "print(aa_count)"
   ]
  },
  {
   "cell_type": "markdown",
   "metadata": {},
   "source": [
    "Finally, lets loop over every protein in the proteome and count all of the amino acids.\n",
    "```\n",
    "proteins = SeqIO.parse(\"../S288C_R64-2-1/orf_trans_all_R64-2-1_20150113.fasta\", \"fasta\")\n",
    "...\n",
    "for protein in proteins:\n",
    "    ...\n",
    "```"
   ]
  },
  {
   "cell_type": "code",
   "execution_count": 75,
   "metadata": {
    "scrolled": true
   },
   "outputs": [
    {
     "name": "stdout",
     "output_type": "stream",
     "text": [
      "{'M': 63456, 'V': 168498, 'L': 289192, 'T': 178461, 'I': 198360, 'Y': 102230, 'P': 132450, 'D': 173876, 'E': 194277, 'Q': 118175, 'S': 273472, 'K': 219640, 'A': 165323, 'N': 184437, 'G': 149491, 'W': 31565, 'F': 136324, 'C': 39841, 'H': 65849, 'R': 134591, '*': 6743}\n"
     ]
    }
   ],
   "source": [
    "proteins = SeqIO.parse(\"../S288C_R64-2-1/orf_trans_all_R64-2-1_20150113.fasta\", \"fasta\")\n",
    "aa_count = {}\n",
    "for protein in proteins:\n",
    "    for aa in str(protein.seq):\n",
    "        aa_count[aa] = aa_count.get(aa, 0) + 1\n",
    "print(aa_count)"
   ]
  },
  {
   "cell_type": "markdown",
   "metadata": {},
   "source": [
    "What are the most and least common amino acids?"
   ]
  },
  {
   "cell_type": "markdown",
   "metadata": {},
   "source": [
    "### Pandas\n",
    "\n",
    "Dictionaries are great tools, but it's tedious to read a dictionary. Pandas is the Python Data Analysis library, a module that is excellent for many kinds of data analysis. We'll import Pandas to start working with it.\n",
    "```\n",
    "import pandas as pd\n",
    "```"
   ]
  },
  {
   "cell_type": "code",
   "execution_count": 76,
   "metadata": {},
   "outputs": [],
   "source": [
    "import pandas as pd"
   ]
  },
  {
   "cell_type": "markdown",
   "metadata": {},
   "source": [
    "We can use our dictionary of counts to create a Pandas `Series`, which is a list of data values with a label for each entry. For us, the labels are the amino acids and the data values are the counts. We can create a `Series` directly from our dictionary using the `pd.Series()` function.\n",
    "```\n",
    "aa_series = pd.Series(aa_count)\n",
    "```"
   ]
  },
  {
   "cell_type": "code",
   "execution_count": 77,
   "metadata": {},
   "outputs": [
    {
     "data": {
      "text/plain": [
       "M     63456\n",
       "V    168498\n",
       "L    289192\n",
       "T    178461\n",
       "I    198360\n",
       "Y    102230\n",
       "P    132450\n",
       "D    173876\n",
       "E    194277\n",
       "Q    118175\n",
       "S    273472\n",
       "K    219640\n",
       "A    165323\n",
       "N    184437\n",
       "G    149491\n",
       "W     31565\n",
       "F    136324\n",
       "C     39841\n",
       "H     65849\n",
       "R    134591\n",
       "*      6743\n",
       "dtype: int64"
      ]
     },
     "execution_count": 77,
     "metadata": {},
     "output_type": "execute_result"
    }
   ],
   "source": [
    "aa_series = pd.Series(aa_count)\n",
    "aa_series"
   ]
  },
  {
   "cell_type": "markdown",
   "metadata": {},
   "source": [
    "Our `aa_series` is still in an arbitrary order. The `Series` type has two sorting methods. `Series.sort_index()` sorts the series by its index (here, by the amino acid) and `Series.sort_values()` sorts the series by the data values.\n",
    "```\n",
    "print(aa_series.sort_index())\n",
    "print(aa_series.sort_values())\n",
    "```\n",
    "These output tables are useful for answering questions like \"how many glycines are there in the yeast genome\" or \"what are the most and least common amino acids\"?"
   ]
  },
  {
   "cell_type": "code",
   "execution_count": 82,
   "metadata": {},
   "outputs": [
    {
     "data": {
      "text/plain": [
       "*      6743\n",
       "W     31565\n",
       "C     39841\n",
       "M     63456\n",
       "H     65849\n",
       "Y    102230\n",
       "Q    118175\n",
       "P    132450\n",
       "R    134591\n",
       "F    136324\n",
       "G    149491\n",
       "A    165323\n",
       "V    168498\n",
       "D    173876\n",
       "T    178461\n",
       "N    184437\n",
       "E    194277\n",
       "I    198360\n",
       "K    219640\n",
       "S    273472\n",
       "L    289192\n",
       "dtype: int64"
      ]
     },
     "execution_count": 82,
     "metadata": {},
     "output_type": "execute_result"
    }
   ],
   "source": [
    "aa_series.sort_values()"
   ]
  },
  {
   "cell_type": "markdown",
   "metadata": {},
   "source": [
    "### matplotlib\n",
    "\n",
    "It's also pretty easy to make plots of data in a `Series`. To do this, we need to import another module\n",
    "```\n",
    "import matplotlib.pyplot as plt\n",
    "```"
   ]
  },
  {
   "cell_type": "code",
   "execution_count": 83,
   "metadata": {},
   "outputs": [],
   "source": [
    "import matplotlib.pyplot as plt"
   ]
  },
  {
   "cell_type": "markdown",
   "metadata": {},
   "source": [
    "Now, we can use a `plot()` method on our data series. The default plot is a line plot, but a bar plot makes more sense for this kind of data and so we use the `kind='bar'` argument to the `Series.plot()` method.\n",
    "```\n",
    "aa_series.plot(kind='bar')\n",
    "```\n",
    "You may find it makes more sense to plot the sorted versions of these `Series`"
   ]
  },
  {
   "cell_type": "code",
   "execution_count": 87,
   "metadata": {},
   "outputs": [
    {
     "data": {
      "text/plain": [
       "<matplotlib.axes._subplots.AxesSubplot at 0x7f4716792a90>"
      ]
     },
     "execution_count": 87,
     "metadata": {},
     "output_type": "execute_result"
    },
    {
     "data": {
      "image/png": "[encoded data removed]",
      "text/plain": [
       "<Figure size 432x288 with 1 Axes>"
      ]
     },
     "metadata": {
      "needs_background": "light"
     },
     "output_type": "display_data"
    }
   ],
   "source": [
    "aa_series.sort_values().plot(kind='bar')"
   ]
  },
  {
   "cell_type": "markdown",
   "metadata": {},
   "source": [
    "_Exercise_ The file `\"../S288C_R64-2-1/S288C_reference_sequence_R64-2-1_20150113.fsa\"` has the nucleotide sequence of the yeast genome. Count the nucleotide frequencies in the genome."
   ]
  },
  {
   "cell_type": "code",
   "execution_count": 98,
   "metadata": {},
   "outputs": [
    {
     "data": {
      "text/plain": [
       "{'C': 2320576, 'A': 3766349, 'T': 3753080, 'G': 2317100}"
      ]
     },
     "execution_count": 98,
     "metadata": {},
     "output_type": "execute_result"
    }
   ],
   "source": [
    "chroms = SeqIO.parse(\"../S288C_R64-2-1/S288C_reference_sequence_R64-2-1_20150113.fsa\", \"fasta\")\n",
    "\n",
    "nt_count = {}\n",
    "for chrom in chroms:\n",
    "    for nt in str(chrom.seq):\n",
    "        nt_count[nt] = nt_count.get(nt, 0) + 1\n",
    "nt_count"
   ]
  },
  {
   "cell_type": "markdown",
   "metadata": {},
   "source": []
  }
 ],
 "metadata": {
  "kernelspec": {
   "display_name": "Python 3",
   "language": "python",
   "name": "python3"
  },
  "language_info": {
   "codemirror_mode": {
    "name": "ipython",
    "version": 3
   },
   "file_extension": ".py",
   "mimetype": "text/x-python",
   "name": "python",
   "nbconvert_exporter": "python",
   "pygments_lexer": "ipython3",
   "version": "3.8.5"
  }
 },
 "nbformat": 4,
 "nbformat_minor": 2
}
