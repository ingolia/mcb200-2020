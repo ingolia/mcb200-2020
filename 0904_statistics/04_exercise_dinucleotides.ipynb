{
 "cells": [
  {
   "cell_type": "markdown",
   "metadata": {},
   "source": [
    "## Dinucleotides and dipeptides\n",
    "\n",
    "We counted the occurrence of individual nucleotides in the genome and residues in the proteome.\n",
    "\n",
    "In real biological sequences, adjacent positions are rarely independent. We have the tools to measure this directly.\n",
    "\n",
    "First we need to import the `Bio.SeqIO` module from `biopython` so we can read in our yeast sequences."
   ]
  },
  {
   "cell_type": "code",
   "execution_count": null,
   "metadata": {},
   "outputs": [],
   "source": [
    "import sys\n",
    "!{sys.executable} -m pip install biopython\n",
    "from Bio import SeqIO"
   ]
  },
  {
   "cell_type": "markdown",
   "metadata": {},
   "source": [
    "Then we need to import the `pandas` module for our `Series` and `DataFrame` types, and the `matplotlib.pyplot` module to make graphs."
   ]
  },
  {
   "cell_type": "code",
   "execution_count": null,
   "metadata": {},
   "outputs": [],
   "source": [
    "import pandas as pd\n",
    "import matplotlib.pyplot as plt "
   ]
  },
  {
   "cell_type": "markdown",
   "metadata": {},
   "source": [
    "Here is a copy of our code to\n",
    "1. Create `chroms` as an iterator over all the chromosomes\n",
    "2. Create an empty dictionary to hold single-nucleotide counts\n",
    "3. Loop over each chromosome\n",
    "    1. Assign the sequence of the chromosome to `chrom_seq`\n",
    "    1. Loop over each position in the chromosome\n",
    "        1. Assign the nucleotide at that position to `nt`\n",
    "        1. Add that nucleotide to the running tally\n",
    "4. Convert the count dictionary into a `Series`\n",
    "5. Print the sorted version of our count series\n",
    "6. Plot a bar graph of our counts"
   ]
  },
  {
   "cell_type": "code",
   "execution_count": null,
   "metadata": {},
   "outputs": [],
   "source": [
    "chroms = SeqIO.parse(\"../S288C_R64-2-1/S288C_reference_sequence_R64-2-1_20150113.fsa\", \"fasta\")\n",
    "nt_count = {}\n",
    "for chrom in chroms:\n",
    "    chrom_seq = str(chrom.seq)\n",
    "    for position in range(0, len(chrom_seq)):\n",
    "        nt = chrom_seq[position]\n",
    "        nt_count[nt] = nt_count.get(nt, 0) + 1\n",
    "nt_series = pd.Series(nt_count)\n",
    "print(nt_series.sort_index())\n",
    "nt_series.sort_index().plot(kind='bar')"
   ]
  },
  {
   "cell_type": "markdown",
   "metadata": {},
   "source": [
    "### Dinucleotides\n",
    "\n",
    "Convert this to count every adjacent pair of dinucleotides. You'll need to \"slice\" these out of the the chromosome sequences."
   ]
  },
  {
   "cell_type": "code",
   "execution_count": null,
   "metadata": {},
   "outputs": [],
   "source": []
  },
  {
   "cell_type": "markdown",
   "metadata": {},
   "source": [
    "#### Probabilities\n",
    "\n",
    "Convert the counts to probabilities by \n",
    "1. Using the `.sum()` method to find the total number of dinucleotides counted\n",
    "2. Dividing the `nt_series` series by this sum to get \"normalized\" probabilities"
   ]
  },
  {
   "cell_type": "code",
   "execution_count": null,
   "metadata": {},
   "outputs": [],
   "source": []
  },
  {
   "cell_type": "markdown",
   "metadata": {},
   "source": [
    "#### Marginal probabilities\n",
    "\n",
    "The table of dinucleotide probabilities give the _joint_ distribution.\n",
    "\n",
    "There are two way to compute the _marginal_ probability of an `A`. Compute this both ways and compare it to the value we got from the single-nucleotide counting above."
   ]
  },
  {
   "cell_type": "code",
   "execution_count": null,
   "metadata": {},
   "outputs": [],
   "source": []
  },
  {
   "cell_type": "code",
   "execution_count": null,
   "metadata": {},
   "outputs": [],
   "source": []
  },
  {
   "cell_type": "markdown",
   "metadata": {},
   "source": [
    "Write a `for` loop to compute all four marginal probabilities. It's probably easiest to create an empty dictionary, then loop over each nucleotide option, compute its marginal probability, and store it in the dictionary. \n",
    "\n",
    "There are many reasonable ways to approach this, though"
   ]
  },
  {
   "cell_type": "code",
   "execution_count": null,
   "metadata": {},
   "outputs": [],
   "source": []
  },
  {
   "cell_type": "markdown",
   "metadata": {},
   "source": [
    "#### Conditional probabilities\n",
    "\n",
    "Compute the _conditional_ probability of a `C` following a first `A`. Is this higher or lower than the unconditional (marginal) probability of a `C`?"
   ]
  },
  {
   "cell_type": "code",
   "execution_count": null,
   "metadata": {},
   "outputs": [],
   "source": []
  },
  {
   "cell_type": "markdown",
   "metadata": {},
   "source": [
    "If you want to take this a bit further: write a pair of nested for loops to compute all of the conditional probabilities for the 2nd nucleotide of a dinucleotide, conditional on the identity of the first.\n",
    "\n",
    "What nucleotide combinations have conditional probabilities that are very different from the marginal?\n",
    "\n",
    "Another way of looking at this is to compute the ratio `P(MN) / (P(M) * P(N))`, which is the ratio between the observed dinucleotide probability and the expected dinucleotide probabilty under the assumption of independence."
   ]
  },
  {
   "cell_type": "code",
   "execution_count": null,
   "metadata": {},
   "outputs": [],
   "source": []
  },
  {
   "cell_type": "markdown",
   "metadata": {},
   "source": [
    "#### Dipeptides\n",
    "\n",
    "If you want to take this a lot further, you can run the same sort of analysis on dipeptides in the yeast proteome. \n",
    "Here's a slightly updated version of our loop to count amino acid frequencies in the yeast proteome, if you want ot try this out."
   ]
  },
  {
   "cell_type": "code",
   "execution_count": null,
   "metadata": {},
   "outputs": [],
   "source": [
    "proteins = SeqIO.parse(\"../S288C_R64-2-1/orf_trans_all_R64-2-1_20150113.fasta\", \"fasta\")\n",
    "aa_count = {}\n",
    "for protein in proteins:\n",
    "    protseq = str(protein.seq)\n",
    "    for pos in range(0, len(protseq)):\n",
    "        aa = protseq[pos]\n",
    "        aa_count[aa] = aa_count.get(aa, 0) + 1\n",
    "print(aa_count)"
   ]
  },
  {
   "cell_type": "code",
   "execution_count": null,
   "metadata": {},
   "outputs": [],
   "source": []
  }
 ],
 "metadata": {
  "kernelspec": {
   "display_name": "Python 3",
   "language": "python",
   "name": "python3"
  },
  "language_info": {
   "codemirror_mode": {
    "name": "ipython",
    "version": 3
   },
   "file_extension": ".py",
   "mimetype": "text/x-python",
   "name": "python",
   "nbconvert_exporter": "python",
   "pygments_lexer": "ipython3",
   "version": "3.7.7"
  }
 },
 "nbformat": 4,
 "nbformat_minor": 2
}
