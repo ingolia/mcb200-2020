{
 "cells": [
  {
   "cell_type": "markdown",
   "metadata": {},
   "source": [
    "### Lists\n",
    "\n",
    "In Python, we can build a **list** of individual data values.\n",
    "\n",
    "Here is the Python code to create a list of the five English vowels. Python lists are written inside square brackets with commas separating each element.\n",
    "\n",
    "```\n",
    "vowels = ['a', 'e', 'i', 'o', 'u']\n",
    "vowels\n",
    "```"
   ]
  },
  {
   "cell_type": "code",
   "execution_count": 1,
   "metadata": {},
   "outputs": [
    {
     "name": "stdout",
     "output_type": "stream",
     "text": [
      "['a', 'e', 'i', 'o', 'u']\n"
     ]
    }
   ],
   "source": [
    "vowels = ['a', 'e', 'i', 'o', 'u']\n",
    "print(vowels)"
   ]
  },
  {
   "cell_type": "markdown",
   "metadata": {},
   "source": [
    "Conceptually, the elements of the list are numbered **starting with 0**. In the `vowels` list, the first entry, corresponding to the vowel \"a\", is numbered 0. Looking up an element of the list by number is called **indexing**.\n",
    "\n",
    "Here is the Python code to find the third entry in the list `vowels`, which has index 2.\n",
    "\n",
    "```\n",
    "vowels[2]\n",
    "```\n",
    "\n",
    "Below we index into the list of vowels to get the third entry, which has index 2."
   ]
  },
  {
   "cell_type": "code",
   "execution_count": 2,
   "metadata": {},
   "outputs": [
    {
     "data": {
      "text/plain": [
       "'i'"
      ]
     },
     "execution_count": 2,
     "metadata": {},
     "output_type": "execute_result"
    }
   ],
   "source": [
    "vowels[2]"
   ]
  },
  {
   "cell_type": "markdown",
   "metadata": {},
   "source": [
    "As a note, we can index into a string as well. Lists, strings, and many other individual Python data types are all **sequences** that share some common features.\n",
    "\n",
    "For instance, below we find the 3rd item in the string `'MCB200'`."
   ]
  },
  {
   "cell_type": "code",
   "execution_count": 3,
   "metadata": {},
   "outputs": [
    {
     "data": {
      "text/plain": [
       "'B'"
      ]
     },
     "execution_count": 3,
     "metadata": {},
     "output_type": "execute_result"
    }
   ],
   "source": [
    "'MCB200'[2]"
   ]
  },
  {
   "cell_type": "markdown",
   "metadata": {},
   "source": [
    "Another feature of lists, strings, and other sequences is the `len()` function. Thus, it can be used to find the length of a list, just as we used it to find the length of a string.\n",
    "\n",
    "Note that, since items are numbered starting from zero, the items in a list go from `0` through `len(...)-1` inclusive."
   ]
  },
  {
   "cell_type": "code",
   "execution_count": 4,
   "metadata": {},
   "outputs": [
    {
     "name": "stdout",
     "output_type": "stream",
     "text": [
      "6\n",
      "5\n"
     ]
    }
   ],
   "source": [
    "print(len('MCB200'))\n",
    "print(len(vowels))"
   ]
  },
  {
   "cell_type": "markdown",
   "metadata": {},
   "source": [
    "Lists are **mutable**, in contrast to strings. For example, we can change one item in the list of vowels. To change an item in a list, assign a new value to it just as if it were a variable.\n",
    "\n",
    "To change an entry in a list, we can assign a value to the entry just as we assign a value to a variable. For example, here is the Python code to replace the entry for \"i\" with an upper-case \"I\".\n",
    "\n",
    "```\n",
    "vowels[2] = 'I'\n",
    "```\n"
   ]
  },
  {
   "cell_type": "code",
   "execution_count": 7,
   "metadata": {},
   "outputs": [
    {
     "name": "stdout",
     "output_type": "stream",
     "text": [
      "['a', 'e', 'I', 'o', 'u']\n"
     ]
    },
    {
     "ename": "TypeError",
     "evalue": "'str' object does not support item assignment",
     "output_type": "error",
     "traceback": [
      "\u001b[0;31m---------------------------------------------------------------------------\u001b[0m",
      "\u001b[0;31mTypeError\u001b[0m                                 Traceback (most recent call last)",
      "\u001b[0;32m<ipython-input-7-d7a59f5e864c>\u001b[0m in \u001b[0;36m<module>\u001b[0;34m\u001b[0m\n\u001b[1;32m      3\u001b[0m \u001b[0;34m\u001b[0m\u001b[0m\n\u001b[1;32m      4\u001b[0m \u001b[0mstring\u001b[0m \u001b[0;34m=\u001b[0m \u001b[0;34m'MCB200'\u001b[0m\u001b[0;34m\u001b[0m\u001b[0;34m\u001b[0m\u001b[0m\n\u001b[0;32m----> 5\u001b[0;31m \u001b[0mstring\u001b[0m\u001b[0;34m[\u001b[0m\u001b[0;36m2\u001b[0m\u001b[0;34m]\u001b[0m \u001b[0;34m=\u001b[0m \u001b[0;34m'b'\u001b[0m\u001b[0;34m\u001b[0m\u001b[0;34m\u001b[0m\u001b[0m\n\u001b[0m",
      "\u001b[0;31mTypeError\u001b[0m: 'str' object does not support item assignment"
     ]
    }
   ],
   "source": [
    "vowels[2] = 'I'\n",
    "print(vowels)\n",
    "\n",
    "string = 'MCB200'\n",
    "string[2] = 'b'"
   ]
  },
  {
   "cell_type": "markdown",
   "metadata": {},
   "source": [
    "We can also change the list itself, by adding more items. The `append()` method puts a new item on the end of a list.\n",
    "\n",
    "The Python code to add a \"y\" to our list of vowels is\n",
    "\n",
    "```\n",
    "vowels.append('y')\n",
    "```"
   ]
  },
  {
   "cell_type": "code",
   "execution_count": 8,
   "metadata": {},
   "outputs": [],
   "source": [
    "vowels.append('y')"
   ]
  },
  {
   "cell_type": "code",
   "execution_count": 9,
   "metadata": {},
   "outputs": [
    {
     "name": "stdout",
     "output_type": "stream",
     "text": [
      "['a', 'e', 'I', 'o', 'u', 'y']\n"
     ]
    }
   ],
   "source": [
    "print(vowels)"
   ]
  },
  {
   "cell_type": "markdown",
   "metadata": {},
   "source": [
    "A list can hold different types of items, including other lists!\n",
    "\n",
    "Below we create a list with an integer, a floating-point number, a string, and another list:"
   ]
  },
  {
   "cell_type": "code",
   "execution_count": 16,
   "metadata": {},
   "outputs": [
    {
     "name": "stdout",
     "output_type": "stream",
     "text": [
      "[17, 3.14159, 'MCB200', ['bbbb', 'cccc', 'dddd']]\n",
      "['bbbb', 'cccc', 'dddd']\n",
      "4\n",
      "3\n",
      "cccc\n",
      "c\n"
     ]
    }
   ],
   "source": [
    "stuff = [17, 3.14159, 'MCB200', ['bbbb', 'cccc', 'dddd']]\n",
    "print(stuff)\n",
    "print(stuff[3])\n",
    "print(len(stuff))\n",
    "print(len(stuff[3]))\n",
    "\n",
    "print(stuff[3][1])\n",
    "\n",
    "print(stuff[3][1][0])"
   ]
  },
  {
   "cell_type": "code",
   "execution_count": 20,
   "metadata": {},
   "outputs": [
    {
     "name": "stdout",
     "output_type": "stream",
     "text": [
      "[3, 2, 4, 7, 5]\n",
      "[2, 3, 4, 5, 7]\n"
     ]
    },
    {
     "data": {
      "text/plain": [
       "[2, 4.0, 5, 7.0, 23]"
      ]
     },
     "execution_count": 20,
     "metadata": {},
     "output_type": "execute_result"
    }
   ],
   "source": [
    "x = [ 3,2,4,7,5]\n",
    "print(x)\n",
    "x.sort()\n",
    "print(x)\n",
    "\n",
    "y = [ 23, 2, 4.0, 7.0, 5]\n",
    "y.sort()\n",
    "y"
   ]
  },
  {
   "cell_type": "markdown",
   "metadata": {},
   "source": [
    "### Iteration (`for` loops)\n",
    "\n",
    "The `for` loop in Python allows us to repeat an action for each element of a list, in order. Within the `for` loop, there is a special **loop variable** that will hold the value of the list item.\n",
    "\n",
    "The **body** of the `for` loop is the block of Python executed once for each item in the list. The loop body is indented underneath the line starting the `for` loop. In the example below, we loop over each vowel in our list of vowels and print that vowel. We name the loop variable here `v`.\n",
    "\n",
    "```\n",
    "for v in vowels:\n",
    "    print(v)\n",
    "```"
   ]
  },
  {
   "cell_type": "code",
   "execution_count": 21,
   "metadata": {},
   "outputs": [
    {
     "name": "stdout",
     "output_type": "stream",
     "text": [
      "a\n",
      "e\n",
      "I\n",
      "o\n",
      "u\n",
      "y\n"
     ]
    }
   ],
   "source": [
    "for v in vowels:\n",
    "    print(v)"
   ]
  },
  {
   "cell_type": "markdown",
   "metadata": {},
   "source": [
    "Just as with indexing, we can loop over the characters in a string just like we loop over items in a list. Here we loop over each individual character in the string `'MCB200'` and print that character."
   ]
  },
  {
   "cell_type": "code",
   "execution_count": 22,
   "metadata": {},
   "outputs": [
    {
     "name": "stdout",
     "output_type": "stream",
     "text": [
      "M\n",
      "C\n",
      "B\n",
      "2\n",
      "0\n",
      "0\n"
     ]
    }
   ],
   "source": [
    "for x in 'MCB200':\n",
    "    print(x)"
   ]
  },
  {
   "cell_type": "markdown",
   "metadata": {},
   "source": [
    "A `for` loop **iterates** over each item in a list or a string. We can iterate over sequences, and more generally, over the items in other kinds of **collections** that we'll learn about later."
   ]
  },
  {
   "cell_type": "markdown",
   "metadata": {},
   "source": [
    "We can _nest_ one `for` loop inside another one. On each pass through the outer `for` loop, we'll run the entire inner `for` loop. The body of the inner `for` loop is indented _twice_ to indicate that it;s \n",
    "\n",
    "Here is Python code that uses two nested `for` loops to print every combination of two nucleotides.\n",
    "\n",
    "```\n",
    "for nt1 in ['A', 'C', 'G', 'T']:\n",
    "    for nt2 in ['A', 'C', 'G', 'T']:\n",
    "        print(nt1 + nt2)\n",
    "```"
   ]
  },
  {
   "cell_type": "code",
   "execution_count": 24,
   "metadata": {},
   "outputs": [
    {
     "name": "stdout",
     "output_type": "stream",
     "text": [
      "AA\n",
      "AC\n",
      "AG\n",
      "AT\n",
      "CA\n",
      "CC\n",
      "CG\n",
      "CT\n",
      "GA\n",
      "GC\n",
      "GG\n",
      "GT\n",
      "TA\n",
      "TC\n",
      "TG\n",
      "TT\n"
     ]
    }
   ],
   "source": [
    "for nt1 in ['A', 'C', 'G', 'T']:\n",
    "    for nt2 in ['A', 'C', 'G', 'T']:\n",
    "        print(nt1 + nt2)"
   ]
  },
  {
   "cell_type": "markdown",
   "metadata": {},
   "source": [
    "We can use the `for` loop to do more than just print items from a list. For example, we can use a `for` loop to compute a running total of items in a list. To do this, we'll make a (non-loop) variable to hold the running sum and initialize it to zero. \n",
    "\n",
    "```\n",
    "total = 0\n",
    "```\n",
    "\n",
    "Then, we'll iterate through the items in the list and add each item to this running sum. \n",
    "\n",
    "```\n",
    "for i in [1,2,3,4,5,6,7,8,9,10]:\n",
    "    total = total + i\n",
    "    print(total)\n",
    "```"
   ]
  },
  {
   "cell_type": "code",
   "execution_count": 26,
   "metadata": {},
   "outputs": [
    {
     "name": "stdout",
     "output_type": "stream",
     "text": [
      "i = 1\n",
      "1\n",
      "i = 2\n",
      "3\n",
      "i = 3\n",
      "6\n",
      "i = 4\n",
      "10\n",
      "i = 5\n",
      "15\n",
      "i = 6\n",
      "21\n",
      "i = 7\n",
      "28\n",
      "i = 8\n",
      "36\n",
      "i = 9\n",
      "45\n",
      "i = 10\n",
      "55\n"
     ]
    }
   ],
   "source": [
    "total = 0\n",
    "for i in [1,2,3,4,5,6,7,8,9,10]:\n",
    "    print('i = ' + str(i))\n",
    "    total = total + i\n",
    "    print(total)"
   ]
  },
  {
   "cell_type": "markdown",
   "metadata": {},
   "source": [
    "Recall that $ \\sum\\limits_{i=1}^{n} i = \\frac{n \\cdot (n+1)}{2}$ and so our final result $\\frac{10\\cdot11}{2} = 55$ is correct. The intermediate values $\\frac{1\\cdot2}{2} = 1, \\frac{2\\cdot3}{2} = 3, \\cdots$ all check out too."
   ]
  },
  {
   "cell_type": "markdown",
   "metadata": {},
   "source": [
    "_Exercise_ Re-work the `for` loop above to build a _string_ that holds each of the numbers in the list. Building a string looks a lot like computing a sum. Remember that `str()` converts a number into a string."
   ]
  },
  {
   "cell_type": "code",
   "execution_count": 28,
   "metadata": {},
   "outputs": [
    {
     "name": "stdout",
     "output_type": "stream",
     "text": [
      "i = 1\n",
      "1 \n",
      "i = 2\n",
      "1 2 \n",
      "i = 3\n",
      "1 2 3 \n",
      "i = 4\n",
      "1 2 3 4 \n",
      "i = 5\n",
      "1 2 3 4 5 \n",
      "i = 6\n",
      "1 2 3 4 5 6 \n",
      "i = 7\n",
      "1 2 3 4 5 6 7 \n",
      "i = 8\n",
      "1 2 3 4 5 6 7 8 \n",
      "i = 9\n",
      "1 2 3 4 5 6 7 8 9 \n",
      "i = 10\n",
      "1 2 3 4 5 6 7 8 9 10 \n"
     ]
    }
   ],
   "source": [
    "total = ''\n",
    "for i in [1,2,3,4,5,6,7,8,9,10]:\n",
    "    print('i = ' + str(i))\n",
    "    total = total + str(i) + ' '\n",
    "    print(total)"
   ]
  },
  {
   "cell_type": "markdown",
   "metadata": {},
   "source": [
    "_Exercise_ Re-work the `for` loop above to _build a new list_ that has the _square_ of each number in the starting list. Building a list is just one step more complicated than building a string -- we learned above about `append()`\n",
    "\n",
    "\n",
    "_Note_ Although we didn't discuss it, we can also use `+` to add together two lists. Just keep in mind that `append()` adds an _item_ to a _list_, but `+` will add _two lists_ together."
   ]
  },
  {
   "cell_type": "code",
   "execution_count": 29,
   "metadata": {},
   "outputs": [
    {
     "name": "stdout",
     "output_type": "stream",
     "text": [
      "i = 1\n",
      "[1]\n",
      "i = 2\n",
      "[1, 4]\n",
      "i = 3\n",
      "[1, 4, 9]\n",
      "i = 4\n",
      "[1, 4, 9, 16]\n",
      "i = 5\n",
      "[1, 4, 9, 16, 25]\n",
      "i = 6\n",
      "[1, 4, 9, 16, 25, 36]\n",
      "i = 7\n",
      "[1, 4, 9, 16, 25, 36, 49]\n",
      "i = 8\n",
      "[1, 4, 9, 16, 25, 36, 49, 64]\n",
      "i = 9\n",
      "[1, 4, 9, 16, 25, 36, 49, 64, 81]\n",
      "i = 10\n",
      "[1, 4, 9, 16, 25, 36, 49, 64, 81, 100]\n"
     ]
    }
   ],
   "source": [
    "total = []\n",
    "for i in [1,2,3,4,5,6,7,8,9,10]:\n",
    "    print('i = ' + str(i))\n",
    "    total.append(i*i)\n",
    "    print(total)"
   ]
  }
 ],
 "metadata": {
  "kernelspec": {
   "display_name": "Python 3",
   "language": "python",
   "name": "python3"
  },
  "language_info": {
   "codemirror_mode": {
    "name": "ipython",
    "version": 3
   },
   "file_extension": ".py",
   "mimetype": "text/x-python",
   "name": "python",
   "nbconvert_exporter": "python",
   "pygments_lexer": "ipython3",
   "version": "3.8.5"
  }
 },
 "nbformat": 4,
 "nbformat_minor": 2
}
