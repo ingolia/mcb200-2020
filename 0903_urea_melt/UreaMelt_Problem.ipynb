{
 "cells": [
  {
   "cell_type": "code",
   "execution_count": null,
   "metadata": {},
   "outputs": [],
   "source": [
    "import pandas as pd\n",
    "import numpy as np\n",
    "import scipy as sc\n",
    "import scipy.optimize as op\n",
    "import matplotlib.pyplot as plt"
   ]
  },
  {
   "cell_type": "code",
   "execution_count": null,
   "metadata": {},
   "outputs": [],
   "source": [
    "df = pd.read_csv(# write in the path to the data file)\n",
    "df.head()"
   ]
  },
  {
   "cell_type": "code",
   "execution_count": null,
   "metadata": {},
   "outputs": [],
   "source": [
    "plt.plot(df['Urea'], df['CD Signal'], 'o', markersize=2)"
   ]
  },
  {
   "cell_type": "code",
   "execution_count": null,
   "metadata": {},
   "outputs": [],
   "source": [
    "# A function is a program that can be run elsewhere in the code. You will use this function to fit the data. \n",
    "def urea_fit(gdn, #write your parameter variables here):\n",
    "    R = 0.00198588\n",
    "    T = 298\n",
    "    # Write the equation you want to fit to in terms of yobs\n",
    "    yobs = #your equation\n",
    "    # Now that you've written your equation, make sure all of the paramter variables are in the function definition above\n",
    "    return yobs"
   ]
  },
  {
   "cell_type": "code",
   "execution_count": null,
   "metadata": {},
   "outputs": [],
   "source": [
    "# This is a curve fitting algorithm from the scipy package.\n",
    "# You can run this exact command to fit the function you wrote above\n",
    "# All of the fitted parameters end up in a list called popt\n",
    "# Do not worry about pcov, it gives you an array of covariance parameters\n",
    "[parameters, pcov] = op.curve_fit(urea_fit, df['Urea'], df['CD Signal'], p0 = (1, 0, 0.2, 0, 3, 3))\n"
   ]
  },
  {
   "cell_type": "code",
   "execution_count": null,
   "metadata": {},
   "outputs": [],
   "source": [
    "print(parameters)"
   ]
  },
  {
   "cell_type": "code",
   "execution_count": null,
   "metadata": {},
   "outputs": [],
   "source": [
    "# The order of parameters is the order that they appear in the function header you wrote\n",
    "# Now that have the fitted parameters you should have the information needed to answer the question on the problem set\n"
   ]
  },
  {
   "cell_type": "code",
   "execution_count": null,
   "metadata": {},
   "outputs": [],
   "source": [
    "# Now let's plot the fit and see how good it is\n",
    "# For our fit, let's generate linearly spaced x points between 0 and 9\n",
    "xs = np.linspace(0, 9, 100)\n",
    "# We can then feed this generated x data to our function above (urea_fit) along with the parameters from our model\n",
    "ys = urea_fit(xs, parameters[0] #... fill in the rest of the parameters from the fit here"
   ]
  },
  {
   "cell_type": "code",
   "execution_count": null,
   "metadata": {},
   "outputs": [],
   "source": [
    "plt.plot(df['Urea'], df['CD Signal'], 'o', markersize=2, label = 'Raw Data')\n",
    "plt.plot(xs, ys, label = \"Fit\")\n",
    "plt.xlabel(\"[Urea]\")\n",
    "plt.ylabel(\"Intensity\")\n",
    "plt.title(\"Urea Melt of a Protein\")\n",
    "plt.legend()"
   ]
  },
  {
   "cell_type": "code",
   "execution_count": null,
   "metadata": {},
   "outputs": [],
   "source": []
  }
 ],
 "metadata": {
  "kernelspec": {
   "display_name": "Python 3",
   "language": "python",
   "name": "python3"
  },
  "language_info": {
   "codemirror_mode": {
    "name": "ipython",
    "version": 3
   },
   "file_extension": ".py",
   "mimetype": "text/x-python",
   "name": "python",
   "nbconvert_exporter": "python",
   "pygments_lexer": "ipython3",
   "version": "3.7.3"
  }
 },
 "nbformat": 4,
 "nbformat_minor": 2
}
