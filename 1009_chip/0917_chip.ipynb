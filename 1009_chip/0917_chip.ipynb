{
 "cells": [
  {
   "cell_type": "markdown",
   "metadata": {},
   "source": [
    "# Reading BED files into Pandas\n",
    "\n",
    "BED format files are just a special kind of tab-delimited data file, and so we can read them in using Pandas. Start by importing pandas with `import pandas as pd`."
   ]
  },
  {
   "cell_type": "code",
   "execution_count": null,
   "metadata": {},
   "outputs": [],
   "source": []
  },
  {
   "cell_type": "markdown",
   "metadata": {},
   "source": [
    "We can read in this data using the `read_csv()` function in Pandas, with `sep=\"\\t\"` because it's tab-delimited.\n",
    "\n",
    "```\n",
    "peaks = pd.read_csv(\"ChIP_1M_peaks.bed\", sep=\"\\t\")\n",
    "```\n"
   ]
  },
  {
   "cell_type": "code",
   "execution_count": null,
   "metadata": {},
   "outputs": [],
   "source": []
  },
  {
   "cell_type": "markdown",
   "metadata": {},
   "source": [
    "Reading in the peaks file as a tab-delimited file will use the first line for column names by default.\n",
    "\n",
    "We can use `header=None` to indicate that there is no header."
   ]
  },
  {
   "cell_type": "code",
   "execution_count": null,
   "metadata": {},
   "outputs": [],
   "source": []
  },
  {
   "cell_type": "markdown",
   "metadata": {},
   "source": [
    "This gives us numbered columns. We can give the columns our own names instead with the `names=[...]` parameter.\n",
    "\n",
    "The first five columns of a BED file are:\n",
    "1. `chrom` is the name of the chromosome\n",
    "1. `start` is the starting position of the feature in 0-based coordinates\n",
    "1. `end` is the ending position of the feature in Python style -- the first position _after_ the end\n",
    "1. `name` is the name of the feature\n",
    "1. `score` can be used to provide a numeric score. MACS uses this to score peaks.\n",
    "\n",
    "We can use the argument `names=[\"chrom\", \"start\", \"end\", \"name\", \"score\"]` to set these names."
   ]
  },
  {
   "cell_type": "code",
   "execution_count": null,
   "metadata": {},
   "outputs": [],
   "source": []
  },
  {
   "cell_type": "markdown",
   "metadata": {},
   "source": [
    "The peaks are listed in order of their genomic position. We want to look at the \"best\" peaks, and so we want to sort them by score, with the highest score first.\n",
    "\n",
    "```\n",
    "peaks_sorted = peaks.sort_values(by=\"score\", ascending=False)\n",
    "```"
   ]
  },
  {
   "cell_type": "code",
   "execution_count": null,
   "metadata": {},
   "outputs": [],
   "source": []
  },
  {
   "cell_type": "markdown",
   "metadata": {},
   "source": [
    "We can also look at the \"summits\", which are 1-base-wide features within the peaks. This is just the same as looking at the peaks, but with a different filename:\n",
    "```\n",
    "summits = pd.read_csv(\"ChIP_1M_summits.bed\", ...)\n",
    "```"
   ]
  },
  {
   "cell_type": "code",
   "execution_count": null,
   "metadata": {
    "scrolled": true
   },
   "outputs": [],
   "source": []
  },
  {
   "cell_type": "markdown",
   "metadata": {},
   "source": [
    "# Connecting ChIP peaks to genes using bedtools\n",
    "\n",
    "Start by installing the Python bedtools package `pybedtools`. You should only need to do this once in your datahub account.\n",
    "```\n",
    "import sys\n",
    "!{sys.executable} -m pip install pybedtools\n",
    "```"
   ]
  },
  {
   "cell_type": "code",
   "execution_count": null,
   "metadata": {},
   "outputs": [],
   "source": []
  },
  {
   "cell_type": "markdown",
   "metadata": {},
   "source": [
    "Import `pybedtools` and configure it to run on the datahub. You'll need to do this in every notebook where you use bedtools.\n",
    "```\n",
    "import pybedtools\n",
    "pybedtools.helpers.set_bedtools_path(\"/home/jovyan/mcb200-2019/bedtools2/bin/\")\n",
    "```"
   ]
  },
  {
   "cell_type": "code",
   "execution_count": null,
   "metadata": {},
   "outputs": [],
   "source": []
  },
  {
   "cell_type": "markdown",
   "metadata": {},
   "source": [
    "Now take the _best_ (highest-scoring) 5 summits from the sorted list of summits as a starting point.\n",
    "```\n",
    "summits_best = summits_sorted.head(5)\n",
    "```\n"
   ]
  },
  {
   "cell_type": "code",
   "execution_count": null,
   "metadata": {},
   "outputs": [],
   "source": []
  },
  {
   "cell_type": "markdown",
   "metadata": {},
   "source": [
    "Convert the data frame of the best 25 ChIP-Seq peak summits into a BedTools object of genome locations. This uses the function `pybedtools.BedTool.from_dataframe()`.\n",
    "```\n",
    "summits_bed = pybedtools.BedTool.from_dataframe(summits_best)\n",
    "```"
   ]
  },
  {
   "cell_type": "code",
   "execution_count": null,
   "metadata": {},
   "outputs": [],
   "source": []
  },
  {
   "cell_type": "markdown",
   "metadata": {},
   "source": [
    "In addition to the yeast genome data I uploaded for you, I also uploaded a BED file of all the yeast genes. We can read this file directly as a BED file using BedTools, without going through a data frame first, using the `pybedtools.BedTool()` function.\n",
    "```\n",
    "genes = pybedtools.BedTool('../S288C_R64-2-1/saccharomyces_cerevisiae_R64-2-1_20150113_mrna.bed')\n",
    "```"
   ]
  },
  {
   "cell_type": "code",
   "execution_count": null,
   "metadata": {},
   "outputs": [],
   "source": []
  },
  {
   "cell_type": "markdown",
   "metadata": {},
   "source": [
    "Now we can use powerful BedTools methods to quickly find the closest genes to each of our BED summits.\n",
    "\n",
    "The `closest()` method on a BedTools object handles this task. It runs on one BedTools object representing a set of _query_ locations. A second BedTools object, representing the _reference_ locations, is passed as an argument to the function. By default, `closest()` will find the one reference location that is closest to each query location.\n",
    "```\n",
    "summits_bed.closest(genes)\n",
    "```\n",
    "\n",
    "In our situation, the Hsf1 binding sites typically lie between two genes, and don't necessary regulate the very closest gene. For this reason, we'll ask for the *2* closest reference (gene) locations for each query (ChIP) location using the `k=2` parameter.\n",
    "```\n",
    "summits_bed.closest(genes, k = 2)\n",
    "```\n",
    "\n",
    "Also note that the BedTools methods must be _sorted_ so that `closest()` can work efficiently.\n",
    "```\n",
    "summits_bed = summits_bed.sort()\n",
    "genes = genes.sort()\n",
    "...\n",
    "```"
   ]
  },
  {
   "cell_type": "code",
   "execution_count": null,
   "metadata": {},
   "outputs": [],
   "source": []
  },
  {
   "cell_type": "markdown",
   "metadata": {},
   "source": [
    "Generate a data frame version of the output BedTools object using the `.to_dataframe()` method.\n",
    "```\n",
    "neighbors = neighbors_bed.to_dataframe()\n",
    "```"
   ]
  },
  {
   "cell_type": "code",
   "execution_count": null,
   "metadata": {},
   "outputs": [],
   "source": []
  },
  {
   "cell_type": "markdown",
   "metadata": {},
   "source": [
    "We'd like to know a bit about these genes without needing to look them all up individually on SGD.\n",
    "\n",
    "We can get this information from another data table from the yeast genome database that maps systematic names (e.g., YAL005C) to standard names (e.g. SSA1) and includes a brief synopsis of the gene function.\n",
    "\n",
    "This file, named `\"SGD_features.tab\"`, is another table we can read with `read_csv()`.\n",
    "```\n",
    "features = pd.read_csv(\"../S288C_R64-2-1/SGD_features.tab\", sep=\"\\t\", header=None)\n",
    "```"
   ]
  },
  {
   "cell_type": "code",
   "execution_count": null,
   "metadata": {},
   "outputs": [],
   "source": []
  },
  {
   "cell_type": "markdown",
   "metadata": {},
   "source": [
    "Now we need to merge, or join, the data frame of neighboring genes with the data frame of gene names. Conceptually, for each row in `neighbors`, we want to look up the row of `features` with the matching gene name and combine these. \n",
    "\n",
    "We use a _left_ join because we want to keep every row in the left data frame, `neighbors`.\n",
    "\n",
    "We join `itemRgb` from `neighbors` (which contains systematic names) with `3` from `features` (which contains systematic names).\n",
    "```\n",
    "neighbors.merge(features, left_on=\"itemRgb\", right_on=3, how=\"left\")\n",
    "```\n",
    "\n",
    "As a note, column 3 has the systematic name, 4 has the standard name, and 15 has the description. We can select these columns out of the overall table to make it a bit more readable..."
   ]
  },
  {
   "cell_type": "code",
   "execution_count": null,
   "metadata": {},
   "outputs": [],
   "source": []
  },
  {
   "cell_type": "markdown",
   "metadata": {},
   "source": [
    "It looks like we have some genes with the same underlying function -- but are there more than we expect by chance?\n",
    "\n",
    "We can write a table of all the gene names with nearby Hsf1 binding sites. The gene names are in the `\"itemRgb\"` column. We can just `print()` this column from `neighbors`, but it adds a row number by default. We can get rid of that using the `.to_string()` method with the `index=False` argument.\n",
    "\n",
    "The results can be pasted directly in to a gene ontology web tool."
   ]
  },
  {
   "cell_type": "code",
   "execution_count": null,
   "metadata": {},
   "outputs": [],
   "source": []
  }
 ],
 "metadata": {
  "kernelspec": {
   "display_name": "Python 3",
   "language": "python",
   "name": "python3"
  },
  "language_info": {
   "codemirror_mode": {
    "name": "ipython",
    "version": 3
   },
   "file_extension": ".py",
   "mimetype": "text/x-python",
   "name": "python",
   "nbconvert_exporter": "python",
   "pygments_lexer": "ipython3",
   "version": "3.7.7"
  }
 },
 "nbformat": 4,
 "nbformat_minor": 2
}
