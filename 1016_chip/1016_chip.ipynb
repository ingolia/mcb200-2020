{
 "cells": [
  {
   "cell_type": "markdown",
   "metadata": {},
   "source": [
    "# Reading BED files into Pandas\n",
    "\n",
    "BED format files are just a special kind of tab-delimited data file, and so we can read them in using Pandas. \n",
    "\n",
    "We can read in these files by importing pandas\n",
    "```\n",
    "import pandas as pd\n",
    "```\n",
    "and then using the `read_csv()` function with the appropriate arguments for a BED file.\n",
    "```\n",
    "peaks = pd.read_csv(\"ChIP_1M_peaks.bed\", \n",
    "                    sep=\"\\t\", header=None, \n",
    "                    names = [ \"chrom\", \"start\", \"end\", \"name\", \"score\"])\n",
    "```"
   ]
  },
  {
   "cell_type": "code",
   "execution_count": 3,
   "metadata": {},
   "outputs": [
    {
     "data": {
      "text/html": [
       "<div>\n",
       "<style scoped>\n",
       "    .dataframe tbody tr th:only-of-type {\n",
       "        vertical-align: middle;\n",
       "    }\n",
       "\n",
       "    .dataframe tbody tr th {\n",
       "        vertical-align: top;\n",
       "    }\n",
       "\n",
       "    .dataframe thead th {\n",
       "        text-align: right;\n",
       "    }\n",
       "</style>\n",
       "<table border=\"1\" class=\"dataframe\">\n",
       "  <thead>\n",
       "    <tr style=\"text-align: right;\">\n",
       "      <th></th>\n",
       "      <th>chrom</th>\n",
       "      <th>start</th>\n",
       "      <th>end</th>\n",
       "      <th>name</th>\n",
       "      <th>score</th>\n",
       "    </tr>\n",
       "  </thead>\n",
       "  <tbody>\n",
       "    <tr>\n",
       "      <td>0</td>\n",
       "      <td>chrI</td>\n",
       "      <td>72280</td>\n",
       "      <td>73586</td>\n",
       "      <td>MACS_peak_1</td>\n",
       "      <td>70.72</td>\n",
       "    </tr>\n",
       "    <tr>\n",
       "      <td>1</td>\n",
       "      <td>chrI</td>\n",
       "      <td>100877</td>\n",
       "      <td>101489</td>\n",
       "      <td>MACS_peak_2</td>\n",
       "      <td>74.70</td>\n",
       "    </tr>\n",
       "    <tr>\n",
       "      <td>2</td>\n",
       "      <td>chrI</td>\n",
       "      <td>141083</td>\n",
       "      <td>142278</td>\n",
       "      <td>MACS_peak_3</td>\n",
       "      <td>574.05</td>\n",
       "    </tr>\n",
       "    <tr>\n",
       "      <td>3</td>\n",
       "      <td>chrI</td>\n",
       "      <td>222800</td>\n",
       "      <td>223346</td>\n",
       "      <td>MACS_peak_4</td>\n",
       "      <td>90.32</td>\n",
       "    </tr>\n",
       "    <tr>\n",
       "      <td>4</td>\n",
       "      <td>chrII</td>\n",
       "      <td>137479</td>\n",
       "      <td>138048</td>\n",
       "      <td>MACS_peak_5</td>\n",
       "      <td>71.61</td>\n",
       "    </tr>\n",
       "    <tr>\n",
       "      <td>...</td>\n",
       "      <td>...</td>\n",
       "      <td>...</td>\n",
       "      <td>...</td>\n",
       "      <td>...</td>\n",
       "      <td>...</td>\n",
       "    </tr>\n",
       "    <tr>\n",
       "      <td>83</td>\n",
       "      <td>chrXVI</td>\n",
       "      <td>74544</td>\n",
       "      <td>75658</td>\n",
       "      <td>MACS_peak_84</td>\n",
       "      <td>182.91</td>\n",
       "    </tr>\n",
       "    <tr>\n",
       "      <td>84</td>\n",
       "      <td>chrXVI</td>\n",
       "      <td>98512</td>\n",
       "      <td>99488</td>\n",
       "      <td>MACS_peak_85</td>\n",
       "      <td>155.72</td>\n",
       "    </tr>\n",
       "    <tr>\n",
       "      <td>85</td>\n",
       "      <td>chrXVI</td>\n",
       "      <td>345490</td>\n",
       "      <td>347056</td>\n",
       "      <td>MACS_peak_86</td>\n",
       "      <td>87.23</td>\n",
       "    </tr>\n",
       "    <tr>\n",
       "      <td>86</td>\n",
       "      <td>chrXVI</td>\n",
       "      <td>352005</td>\n",
       "      <td>352789</td>\n",
       "      <td>MACS_peak_87</td>\n",
       "      <td>93.79</td>\n",
       "    </tr>\n",
       "    <tr>\n",
       "      <td>87</td>\n",
       "      <td>chrXVI</td>\n",
       "      <td>700781</td>\n",
       "      <td>702071</td>\n",
       "      <td>MACS_peak_88</td>\n",
       "      <td>93.58</td>\n",
       "    </tr>\n",
       "  </tbody>\n",
       "</table>\n",
       "<p>88 rows × 5 columns</p>\n",
       "</div>"
      ],
      "text/plain": [
       "     chrom   start     end          name   score\n",
       "0     chrI   72280   73586   MACS_peak_1   70.72\n",
       "1     chrI  100877  101489   MACS_peak_2   74.70\n",
       "2     chrI  141083  142278   MACS_peak_3  574.05\n",
       "3     chrI  222800  223346   MACS_peak_4   90.32\n",
       "4    chrII  137479  138048   MACS_peak_5   71.61\n",
       "..     ...     ...     ...           ...     ...\n",
       "83  chrXVI   74544   75658  MACS_peak_84  182.91\n",
       "84  chrXVI   98512   99488  MACS_peak_85  155.72\n",
       "85  chrXVI  345490  347056  MACS_peak_86   87.23\n",
       "86  chrXVI  352005  352789  MACS_peak_87   93.79\n",
       "87  chrXVI  700781  702071  MACS_peak_88   93.58\n",
       "\n",
       "[88 rows x 5 columns]"
      ]
     },
     "execution_count": 3,
     "metadata": {},
     "output_type": "execute_result"
    }
   ],
   "source": [
    "import pandas as pd\n",
    "peaks = pd.read_csv(\"ChIP_1M_peaks.bed\", \n",
    "                    sep=\"\\t\", header=None, \n",
    "                    names = [ \"chrom\", \"start\", \"end\", \"name\", \"score\"])\n",
    "peaks"
   ]
  },
  {
   "cell_type": "markdown",
   "metadata": {},
   "source": [
    "The peaks are listed in order of their genomic position. We want to look at the \"best\" peaks, and so we want to sort them by score, with the highest score first.\n",
    "\n",
    "```\n",
    "peaks_sorted = peaks.sort_values(by=\"score\", ascending=False)\n",
    "```"
   ]
  },
  {
   "cell_type": "code",
   "execution_count": 4,
   "metadata": {},
   "outputs": [],
   "source": [
    "peaks_sorted = peaks.sort_values(by=\"score\", ascending=False)"
   ]
  },
  {
   "cell_type": "markdown",
   "metadata": {},
   "source": [
    "We can also look at the \"summits\", which are 1-base-wide features within the peaks. This is just the same as looking at the peaks, but with a different filename:\n",
    "```\n",
    "summits = pd.read_csv(\"ChIP_1M_summits.bed\", ...)\n",
    "```"
   ]
  },
  {
   "cell_type": "code",
   "execution_count": 5,
   "metadata": {
    "scrolled": true
   },
   "outputs": [
    {
     "data": {
      "text/html": [
       "<div>\n",
       "<style scoped>\n",
       "    .dataframe tbody tr th:only-of-type {\n",
       "        vertical-align: middle;\n",
       "    }\n",
       "\n",
       "    .dataframe tbody tr th {\n",
       "        vertical-align: top;\n",
       "    }\n",
       "\n",
       "    .dataframe thead th {\n",
       "        text-align: right;\n",
       "    }\n",
       "</style>\n",
       "<table border=\"1\" class=\"dataframe\">\n",
       "  <thead>\n",
       "    <tr style=\"text-align: right;\">\n",
       "      <th></th>\n",
       "      <th>chrom</th>\n",
       "      <th>start</th>\n",
       "      <th>end</th>\n",
       "      <th>name</th>\n",
       "      <th>score</th>\n",
       "    </tr>\n",
       "  </thead>\n",
       "  <tbody>\n",
       "    <tr>\n",
       "      <td>2</td>\n",
       "      <td>chrI</td>\n",
       "      <td>141772</td>\n",
       "      <td>141773</td>\n",
       "      <td>MACS_peak_3</td>\n",
       "      <td>105.0</td>\n",
       "    </tr>\n",
       "    <tr>\n",
       "      <td>59</td>\n",
       "      <td>chrXII</td>\n",
       "      <td>490220</td>\n",
       "      <td>490221</td>\n",
       "      <td>MACS_peak_60</td>\n",
       "      <td>86.0</td>\n",
       "    </tr>\n",
       "    <tr>\n",
       "      <td>39</td>\n",
       "      <td>chrVII</td>\n",
       "      <td>915019</td>\n",
       "      <td>915020</td>\n",
       "      <td>MACS_peak_40</td>\n",
       "      <td>59.0</td>\n",
       "    </tr>\n",
       "    <tr>\n",
       "      <td>31</td>\n",
       "      <td>chrVI</td>\n",
       "      <td>210370</td>\n",
       "      <td>210371</td>\n",
       "      <td>MACS_peak_32</td>\n",
       "      <td>53.0</td>\n",
       "    </tr>\n",
       "    <tr>\n",
       "      <td>56</td>\n",
       "      <td>chrXII</td>\n",
       "      <td>97708</td>\n",
       "      <td>97709</td>\n",
       "      <td>MACS_peak_57</td>\n",
       "      <td>51.0</td>\n",
       "    </tr>\n",
       "    <tr>\n",
       "      <td>...</td>\n",
       "      <td>...</td>\n",
       "      <td>...</td>\n",
       "      <td>...</td>\n",
       "      <td>...</td>\n",
       "      <td>...</td>\n",
       "    </tr>\n",
       "    <tr>\n",
       "      <td>13</td>\n",
       "      <td>chrIII</td>\n",
       "      <td>227880</td>\n",
       "      <td>227881</td>\n",
       "      <td>MACS_peak_14</td>\n",
       "      <td>12.0</td>\n",
       "    </tr>\n",
       "    <tr>\n",
       "      <td>85</td>\n",
       "      <td>chrXVI</td>\n",
       "      <td>345902</td>\n",
       "      <td>345903</td>\n",
       "      <td>MACS_peak_86</td>\n",
       "      <td>12.0</td>\n",
       "    </tr>\n",
       "    <tr>\n",
       "      <td>63</td>\n",
       "      <td>chrXIII</td>\n",
       "      <td>24669</td>\n",
       "      <td>24670</td>\n",
       "      <td>MACS_peak_64</td>\n",
       "      <td>11.0</td>\n",
       "    </tr>\n",
       "    <tr>\n",
       "      <td>29</td>\n",
       "      <td>chrVI</td>\n",
       "      <td>31287</td>\n",
       "      <td>31288</td>\n",
       "      <td>MACS_peak_30</td>\n",
       "      <td>11.0</td>\n",
       "    </tr>\n",
       "    <tr>\n",
       "      <td>24</td>\n",
       "      <td>chrIX</td>\n",
       "      <td>325731</td>\n",
       "      <td>325732</td>\n",
       "      <td>MACS_peak_25</td>\n",
       "      <td>11.0</td>\n",
       "    </tr>\n",
       "  </tbody>\n",
       "</table>\n",
       "<p>88 rows × 5 columns</p>\n",
       "</div>"
      ],
      "text/plain": [
       "      chrom   start     end          name  score\n",
       "2      chrI  141772  141773   MACS_peak_3  105.0\n",
       "59   chrXII  490220  490221  MACS_peak_60   86.0\n",
       "39   chrVII  915019  915020  MACS_peak_40   59.0\n",
       "31    chrVI  210370  210371  MACS_peak_32   53.0\n",
       "56   chrXII   97708   97709  MACS_peak_57   51.0\n",
       "..      ...     ...     ...           ...    ...\n",
       "13   chrIII  227880  227881  MACS_peak_14   12.0\n",
       "85   chrXVI  345902  345903  MACS_peak_86   12.0\n",
       "63  chrXIII   24669   24670  MACS_peak_64   11.0\n",
       "29    chrVI   31287   31288  MACS_peak_30   11.0\n",
       "24    chrIX  325731  325732  MACS_peak_25   11.0\n",
       "\n",
       "[88 rows x 5 columns]"
      ]
     },
     "execution_count": 5,
     "metadata": {},
     "output_type": "execute_result"
    }
   ],
   "source": [
    "summits = pd.read_csv(\"ChIP_1M_summits.bed\", sep=\"\\t\", header=None, names=[\"chrom\", \"start\", \"end\", \"name\", \"score\"])\n",
    "summits_sorted = summits.sort_values(by = \"score\", ascending = False)\n",
    "summits_sorted"
   ]
  },
  {
   "cell_type": "markdown",
   "metadata": {},
   "source": [
    "# Connecting ChIP peaks to genes using bedtools\n",
    "\n",
    "Start by installing the Python bedtools package `pybedtools`. You should only need to do this once in your datahub account.\n",
    "```\n",
    "import sys\n",
    "!{sys.executable} -m pip install pybedtools\n",
    "```"
   ]
  },
  {
   "cell_type": "code",
   "execution_count": null,
   "metadata": {},
   "outputs": [],
   "source": []
  },
  {
   "cell_type": "markdown",
   "metadata": {},
   "source": [
    "Import `pybedtools` and configure it to run on the datahub. You'll need to do this in every notebook where you use bedtools.\n",
    "```\n",
    "import pybedtools\n",
    "pybedtools.helpers.set_bedtools_path(\"/home/jovyan/mcb200-2019/bedtools2/bin/\")\n",
    "```"
   ]
  },
  {
   "cell_type": "code",
   "execution_count": null,
   "metadata": {},
   "outputs": [],
   "source": []
  },
  {
   "cell_type": "markdown",
   "metadata": {},
   "source": [
    "Now take the _best_ (highest-scoring) 5 summits from the sorted list of summits as a starting point.\n",
    "```\n",
    "summits_best = summits_sorted.head(5)\n",
    "```\n"
   ]
  },
  {
   "cell_type": "code",
   "execution_count": null,
   "metadata": {},
   "outputs": [],
   "source": []
  },
  {
   "cell_type": "markdown",
   "metadata": {},
   "source": [
    "Convert the data frame of the best 25 ChIP-Seq peak summits into a BedTools object of genome locations. This uses the function `pybedtools.BedTool.from_dataframe()`.\n",
    "```\n",
    "summits_bed = pybedtools.BedTool.from_dataframe(summits_best)\n",
    "```"
   ]
  },
  {
   "cell_type": "code",
   "execution_count": null,
   "metadata": {},
   "outputs": [],
   "source": []
  },
  {
   "cell_type": "markdown",
   "metadata": {},
   "source": [
    "In addition to the yeast genome data I uploaded for you, I also uploaded a BED file of all the yeast genes. We can read this file directly as a BED file using BedTools, without going through a data frame first, using the `pybedtools.BedTool()` function.\n",
    "```\n",
    "genes = pybedtools.BedTool('../S288C_R64-2-1/saccharomyces_cerevisiae_R64-2-1_20150113_mrna.bed')\n",
    "```"
   ]
  },
  {
   "cell_type": "code",
   "execution_count": null,
   "metadata": {},
   "outputs": [],
   "source": []
  },
  {
   "cell_type": "markdown",
   "metadata": {},
   "source": [
    "Now we can use powerful BedTools methods to quickly find the closest genes to each of our BED summits.\n",
    "\n",
    "The `closest()` method on a BedTools object handles this task. It runs on one BedTools object representing a set of _query_ locations. A second BedTools object, representing the _reference_ locations, is passed as an argument to the function. By default, `closest()` will find the one reference location that is closest to each query location.\n",
    "```\n",
    "summits_bed.closest(genes)\n",
    "```\n",
    "\n",
    "In our situation, the Hsf1 binding sites typically lie between two genes, and don't necessary regulate the very closest gene. For this reason, we'll ask for the *2* closest reference (gene) locations for each query (ChIP) location using the `k=2` parameter.\n",
    "```\n",
    "summits_bed.closest(genes, k = 2)\n",
    "```\n",
    "\n",
    "Also note that the BedTools methods must be _sorted_ so that `closest()` can work efficiently.\n",
    "```\n",
    "summits_bed = summits_bed.sort()\n",
    "genes = genes.sort()\n",
    "...\n",
    "```"
   ]
  },
  {
   "cell_type": "code",
   "execution_count": null,
   "metadata": {},
   "outputs": [],
   "source": []
  },
  {
   "cell_type": "markdown",
   "metadata": {},
   "source": [
    "Generate a data frame version of the output BedTools object using the `.to_dataframe()` method.\n",
    "```\n",
    "neighbors = neighbors_bed.to_dataframe()\n",
    "```"
   ]
  },
  {
   "cell_type": "code",
   "execution_count": null,
   "metadata": {},
   "outputs": [],
   "source": []
  },
  {
   "cell_type": "markdown",
   "metadata": {},
   "source": [
    "We'd like to know a bit about these genes without needing to look them all up individually on SGD.\n",
    "\n",
    "We can get this information from another data table from the yeast genome database that maps systematic names (e.g., YAL005C) to standard names (e.g. SSA1) and includes a brief synopsis of the gene function.\n",
    "\n",
    "This file, named `\"SGD_features.tab\"`, is another table we can read with `read_csv()`.\n",
    "```\n",
    "features = pd.read_csv(\"../S288C_R64-2-1/SGD_features.tab\", sep=\"\\t\", header=None)\n",
    "```"
   ]
  },
  {
   "cell_type": "code",
   "execution_count": null,
   "metadata": {},
   "outputs": [],
   "source": []
  },
  {
   "cell_type": "markdown",
   "metadata": {},
   "source": [
    "Now we need to merge, or join, the data frame of neighboring genes with the data frame of gene names. Conceptually, for each row in `neighbors`, we want to look up the row of `features` with the matching gene name and combine these. \n",
    "\n",
    "We use a _left_ join because we want to keep every row in the left data frame, `neighbors`.\n",
    "\n",
    "We join `itemRgb` from `neighbors` (which contains systematic names) with `3` from `features` (which contains systematic names).\n",
    "```\n",
    "neighbors.merge(features, left_on=\"itemRgb\", right_on=3, how=\"left\")\n",
    "```\n",
    "\n",
    "As a note, column 3 has the systematic name, 4 has the standard name, and 15 has the description. We can select these columns out of the overall table to make it a bit more readable..."
   ]
  },
  {
   "cell_type": "code",
   "execution_count": null,
   "metadata": {},
   "outputs": [],
   "source": []
  },
  {
   "cell_type": "markdown",
   "metadata": {},
   "source": [
    "It looks like we have some genes with the same underlying function -- but are there more than we expect by chance?\n",
    "\n",
    "We can write a table of all the gene names with nearby Hsf1 binding sites. The gene names are in the `\"itemRgb\"` column. We can just `print()` this column from `neighbors`, but it adds a row number by default. We can get rid of that using the `.to_string()` method with the `index=False` argument.\n",
    "\n",
    "The results can be pasted directly in to a gene ontology web tool."
   ]
  },
  {
   "cell_type": "code",
   "execution_count": null,
   "metadata": {},
   "outputs": [],
   "source": []
  },
  {
   "cell_type": "markdown",
   "metadata": {},
   "source": [
    "_Exercise_\n",
    "\n",
    "* Use the summits from the full `\"Hsf1_heatshock\"` data set\n",
    "* Use the top 25 summits and the 50 closest genes\n",
    "* What biological processes are enriched among these genes?"
   ]
  },
  {
   "cell_type": "code",
   "execution_count": null,
   "metadata": {},
   "outputs": [],
   "source": []
  }
 ],
 "metadata": {
  "kernelspec": {
   "display_name": "Python 3",
   "language": "python",
   "name": "python3"
  },
  "language_info": {
   "codemirror_mode": {
    "name": "ipython",
    "version": 3
   },
   "file_extension": ".py",
   "mimetype": "text/x-python",
   "name": "python",
   "nbconvert_exporter": "python",
   "pygments_lexer": "ipython3",
   "version": "3.7.7"
  }
 },
 "nbformat": 4,
 "nbformat_minor": 2
}
