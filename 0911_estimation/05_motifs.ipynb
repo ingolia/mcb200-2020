{
 "cells": [
  {
   "cell_type": "markdown",
   "metadata": {},
   "source": [
    "### Data frames\n",
    "\n",
    "In addition to the `Series`, Pandas also provides a `DataFrame` which has rows and columns, like a table or a spreadsheet. They're similar to (and based on) data frames in the statistics programming language R.\n",
    "\n",
    "We can build a data frame from a dictionary where the _columns_ are entries in a dictionary. Each dictionary _key_ is a column header, and the associated _value_ is a list. The `pd.DataFrame()` function creates a data frame.\n",
    "\n",
    "```\n",
    "nucls = pd.DataFrame({'letter': [ 'A', 'C', 'G', 'T' ],\n",
    "                      'name': ['adenine', 'cytosine', 'guanine', 'thymine'],\n",
    "                      'ring': ['purine', 'pyrimidine', 'purine', 'pyrimidine']})\n",
    "```"
   ]
  },
  {
   "cell_type": "code",
   "execution_count": null,
   "metadata": {},
   "outputs": [],
   "source": []
  },
  {
   "cell_type": "markdown",
   "metadata": {},
   "source": [
    "We can extract one column of a `DataFrame` as a `Series` using square brackets to index it by the name of the column:\n",
    "```\n",
    "nucls['name']\n",
    "```"
   ]
  },
  {
   "cell_type": "code",
   "execution_count": null,
   "metadata": {},
   "outputs": [],
   "source": []
  },
  {
   "cell_type": "markdown",
   "metadata": {},
   "source": [
    "We can then index by row into the `Series` with a second set of square brackets\n",
    "```\n",
    "nucls['letter'][2]\n",
    "```\n"
   ]
  },
  {
   "cell_type": "code",
   "execution_count": null,
   "metadata": {},
   "outputs": [],
   "source": []
  },
  {
   "cell_type": "markdown",
   "metadata": {},
   "source": [
    "Here is some Python code to create a data frame with observed nucleotide counts from 389 TATA boxes taken from eukaryotic promoters (Bucher, J Mol Biol (1990) 212, 563-578).\n",
    "```\n",
    "tata_counts = pd.DataFrame({'A': [  16, 352,   3, 354, 268, 360, 222, 155],\n",
    "                            'C': [  46,   0,  10,   0,   0,   3,   2,  44],\n",
    "                            'G': [  18,   2,   2,   5,   0,  20,  44, 157],\n",
    "                            'T': [ 309,  35, 374,  30, 121,   6, 121,  33]})\n",
    "```\n",
    "Each row is a position in the TATA motif, and each column is a nucleotide. It's possible to read off the consensus sequence of TATA(A/T)A(A/T)(A/G), sometimes written TATAWAWR, just from looking at the counts in the table."
   ]
  },
  {
   "cell_type": "code",
   "execution_count": null,
   "metadata": {},
   "outputs": [],
   "source": []
  },
  {
   "cell_type": "markdown",
   "metadata": {},
   "source": [
    "Data frames have many useful methods. For instance, we can use the .sum() method to take the sums across rows or columns. The argument `0` will calculate column sums and the argument `1` will calculate row sums."
   ]
  },
  {
   "cell_type": "code",
   "execution_count": null,
   "metadata": {},
   "outputs": [],
   "source": []
  },
  {
   "cell_type": "markdown",
   "metadata": {},
   "source": [
    "We can then turn these counts into probabilities by dividing each nucleotide count by the total number of sequences counted. That is if 35 out of 389 TATA-box sequences have a `T` at the second position, then the probability of a `T` at position 1 in a random TATA-box sequence is 35/389, just under 10%.\n",
    "\n",
    "```\n",
    "tata_counts / 389\n",
    "```\n",
    "\n",
    "will make a new data frame dividing each individual entry in our data frame by 389. We'll use this to make a new `tata_probs` data frame with the _probabilities_ of each nucleotide."
   ]
  },
  {
   "cell_type": "code",
   "execution_count": null,
   "metadata": {},
   "outputs": [],
   "source": []
  },
  {
   "cell_type": "markdown",
   "metadata": {},
   "source": [
    "We can now look up, e.g., the probability of a `T` at the second position, which is position 1 in Python counting\n",
    "```\n",
    "tata_probs['T'][1]\n",
    "```"
   ]
  },
  {
   "cell_type": "code",
   "execution_count": null,
   "metadata": {},
   "outputs": [],
   "source": []
  },
  {
   "cell_type": "markdown",
   "metadata": {},
   "source": [
    "We're most of the way to a probabilistic model of a TATA box. We will assume that each of the nucleotides in the TATA box is independent, so we can multiply these probabilities together\n",
    "$$P(\\;\\mathtt{TATAAAG}\\;|\\;\\mathrm{TATA-box}\\;) = \n",
    "P(\\;\\mathtt{T}\\mathrm{\\,at\\,0\\;}) \\times\n",
    "P(\\;\\mathtt{A}\\mathrm{\\,at\\,1\\;}) \\times\n",
    "P(\\;\\mathtt{T}\\mathrm{\\,at\\,2\\;}) \\times\n",
    "P(\\;\\mathtt{A}\\mathrm{\\,at\\,3\\;}) \\times\n",
    "P(\\;\\mathtt{A}\\mathrm{\\,at\\,4\\;}) \\times\n",
    "P(\\;\\mathtt{A}\\mathrm{\\,at\\,5\\;}) \\times\n",
    "P(\\;\\mathtt{G}\\mathrm{\\,at\\,6\\;})\n",
    "$$\n",
    "\n",
    "We need to keep track of which position is which, because $P(\\;\\mathtt{T}\\mathrm{\\,at\\,0\\;}) \\neq P(\\;\\mathtt{T}\\mathrm{\\,at\\,1\\;})$. The `enumerate()` function lets us keep track of a position when we're iterating over a sequence.\n",
    "\n",
    "```\n",
    "for position, nt in enumerate(sequ):\n",
    "    print('position = ' + str(position) + ', nt = ' + str(nt))\n",
    "```"
   ]
  },
  {
   "cell_type": "code",
   "execution_count": null,
   "metadata": {},
   "outputs": [],
   "source": []
  },
  {
   "cell_type": "markdown",
   "metadata": {},
   "source": [
    "Now, we'll write a `for` loop to iterate over the positions in a sequence and compute a running probability.\n",
    "\n",
    "We'll start with probability 1\n",
    "```\n",
    "prob = 1\n",
    "```\n",
    "and then multiply the probability for each independent position\n",
    "```\n",
    "for position, nt in enumerate(sequ):\n",
    "   p = tata_probs[nt][position]\n",
    "   prob = prob * p\n",
    "   print(position, nt, p, prob)\n",
    "```\n",
    "\n",
    "We can use this to compute the probability of a \"very good\" TATA-box like `TATATATA`. We can also try the worst possible TATA box, `ACGCGCCT`."
   ]
  },
  {
   "cell_type": "code",
   "execution_count": null,
   "metadata": {},
   "outputs": [],
   "source": []
  },
  {
   "cell_type": "markdown",
   "metadata": {},
   "source": [
    "Our final probability is 0! While $P(\\;\\mathtt{ACGCGCCT}\\;|\\;\\textrm{TATA-box}\\;)$ is definitely very small, it's probably not 0. We see zero `C` nucleotides at position 1 out of 389 TATA-boxes, but what if we counted 389,000? Would we find 100, 10, or 1? \n",
    "\n",
    "We often handle these situations by adding a _pseudocount_ to our data. We add a fake count for each nucleotide, at each position, in order to eliminate zeros. The impact of this pseudocount depends on the number of real counts. If we add a pseudocount with 9 real observations, it represents 10% of our overall counts, but if we add a pseudocount with 999 real observations, it's only 0.1%.\n",
    "\n",
    "We can just add 1 to every entry and use this table with pseudocounts to make our new data.\n",
    "\n",
    "```\n",
    "tata_counts_pseudo = tata_counts + 1\n",
    "```"
   ]
  },
  {
   "cell_type": "code",
   "execution_count": null,
   "metadata": {},
   "outputs": [],
   "source": []
  },
  {
   "cell_type": "markdown",
   "metadata": {},
   "source": [
    "Now we can use the new tata_probs to compute the probability of the best TATA-box, which is pretty similar. We can also compute the worst TATA-box, which is very low but not zero."
   ]
  },
  {
   "cell_type": "code",
   "execution_count": null,
   "metadata": {},
   "outputs": [],
   "source": []
  },
  {
   "cell_type": "markdown",
   "metadata": {},
   "source": [
    "It's getting tedious to write the same for loop every time we want to try a different sequence.\n",
    "\n",
    "We can write our own function, `likelihood_tata()`, that will compute the likelihood of a sequence under our TATA-box probability model. We define a function with def followed by the function name. The arguments to the function are named in parentheses, and inside the function, these become variables that take on a different value each time we use the function. The `return` keyword gives the computed \"value\" for the function.\n",
    "\n",
    "```\n",
    "def likelihood_tata(sequ):\n",
    "    prob = 1\n",
    "    for position, nt in enumerate(sequ):\n",
    "        p = tata_probs[nt][position]\n",
    "        prob = prob * p\n",
    "        print(position, nt, p, prob)\n",
    "    return(prob)\n",
    "```"
   ]
  },
  {
   "cell_type": "code",
   "execution_count": null,
   "metadata": {},
   "outputs": [],
   "source": []
  },
  {
   "cell_type": "markdown",
   "metadata": {},
   "source": [
    "Now we can easily use our function to compute the likelihood of some other possible TATA-box sequences. For example, the three sequences below are \"very good\" TATA-boxes that differ from the \"best\" TATA box at one of the three \"degenerate\" positions in the motif. Notice that the overall probability of getting one of these three imperfect motifs is substantially higher than the probability of the perfect TATA-box. In fact, although the TATA-box is a strong motif, fewer than 10% of the sequences generated according to our model will actually match the \"best\" sequence.\n",
    "```\n",
    "TATATAAG\n",
    "TATAAATG\n",
    "TATAAAAA\n",
    "```"
   ]
  },
  {
   "cell_type": "markdown",
   "metadata": {},
   "source": [
    "If we want to use our Bayesian framework to think about TATA-boxes, we need some additional information. What is $P(\\;\\mathtt{TATAAAAG}\\;|\\;\\textit{not}\\,\\textrm{TATA-box}\\;)$? We need a model for all the other sequences in the genome, often called a \"background\" model.\n",
    "\n",
    "The easy background model is independent nucleotides, with probabilities determined by the overall composition of the genome. We just counted the overall number of `A`s etc in the yeast genome. A rough estimate is\n",
    "\n",
    "```\n",
    "background = pd.Series({'A': 0.31, 'C': 0.19, 'G': 0.19, 'T': 0.31})\n",
    "```"
   ]
  },
  {
   "cell_type": "code",
   "execution_count": null,
   "metadata": {},
   "outputs": [],
   "source": []
  },
  {
   "cell_type": "markdown",
   "metadata": {},
   "source": [
    "_Exercise_ Use the `background` defined above to write a `likelihood_background()` function that calculates the likelihood of generating a given sequence under the model of random yeast genome."
   ]
  },
  {
   "cell_type": "code",
   "execution_count": null,
   "metadata": {},
   "outputs": [],
   "source": []
  },
  {
   "cell_type": "code",
   "execution_count": null,
   "metadata": {},
   "outputs": [],
   "source": []
  },
  {
   "cell_type": "code",
   "execution_count": null,
   "metadata": {},
   "outputs": [],
   "source": []
  },
  {
   "cell_type": "markdown",
   "metadata": {},
   "source": [
    "Since the \"worst\" TATA-box is GC-rich and the \"best\" TATA-box is AT-rich, the odds of getting the \"best\" TATA-box by chance in random sequence is somewhat higher. Of course, the chance of getting the \"best\" sequence under our TATA-box probabilistic model is dramatically higher than the chance of getting the \"worst\" sequence. We can use the _ratio of the likelihoods_ as a measure of how well two different models fit a given sequence.\n",
    "\n",
    "Below, we compute the likelihood ratios for the \"best\" sequence TATAAAAG, the \"worst\" sequence ACGCGCCT, and getting any one of the three very-good sequences TATAAATG and TATAAAAA.\n",
    "```\n",
    "print(likelihood_tata('TATAAAAG') / likelihood_background('TATAAAAG'))\n",
    "print(likelihood_tata('ACGCGCCT') / likelihood_background('ACGCGCCT'))\n",
    "\n",
    "print( (likelihood_tata('TATATAAG') + likelihood_tata('TATAAATG') + likelihood_tata('TATAAAAA'))\n",
    "       / (likelihood_background('TATATAAG') + likelihood_background('TATAAATG') + likelihood_background('TATAAAAA')) )\n",
    "```"
   ]
  },
  {
   "cell_type": "code",
   "execution_count": null,
   "metadata": {},
   "outputs": [],
   "source": []
  },
  {
   "cell_type": "markdown",
   "metadata": {},
   "source": [
    "We can go one step further and turn this likelihood ratio into a function\n",
    "```\n",
    "def likelihood_ratio(sequ):\n",
    "    return(likelihood_tata(sequ) / likelihood_background(sequ))\n",
    "```"
   ]
  },
  {
   "cell_type": "code",
   "execution_count": null,
   "metadata": {},
   "outputs": [],
   "source": []
  },
  {
   "cell_type": "markdown",
   "metadata": {},
   "source": [
    "We might want to scan a whole promoter to find a TATA-box. Here is the promoter region for the yeast _CDC19_ gene.\n",
    "```\n",
    "cdc19_prm = 'TATGATGCTAGGTACCTTTAGTGTCTTCCTAAAAAAAAAAAAAGGCTCGCCATCAAAACGATATTCGTTGGCTTTTTTTTCTGAATTATAAATACTCTTTGGTAACTTTTCATTTCCAAGAACCTCTTTTTTCCAGTTATATCATG'\n",
    "```\n",
    "We need to extract 8-nucleotide chunks out of the promoter. Square brackets can extract a _range_ of values from a string or a list. To do this, we do `[start:end]` where the start is _included_ and the end is _excluded_.\n",
    "\n",
    "```\n",
    "alphabet = 'abcdefghijklmnopqrstuvwxyz'\n",
    "alphabet[2:6]\n",
    "```\n",
    "\n",
    "This code goes from index 2 (the 3rd entry, `c`) to index 5 (`f`) and does not include index 6 (`g`)."
   ]
  },
  {
   "cell_type": "code",
   "execution_count": null,
   "metadata": {},
   "outputs": [],
   "source": []
  },
  {
   "cell_type": "markdown",
   "metadata": {},
   "source": [
    "We can use this to run\n",
    "```\n",
    "likelihood_ratio(cdc19_prm[0:8])\n",
    "likelihood_ratio(cdc19_prm[1:9])\n",
    "```"
   ]
  },
  {
   "cell_type": "code",
   "execution_count": null,
   "metadata": {},
   "outputs": [],
   "source": []
  },
  {
   "cell_type": "markdown",
   "metadata": {},
   "source": [
    "Now we can loop over each starting position in `cdc19_prm` and compute its likelihood.\n",
    "\n",
    "We start at position 0 and we run until the _end_ of our 8-position window is at the end of the promoter. This happens when `start+8 = len(cdc19_prm)` or equivalently `start = len(cdc19_prm) - 8`.\n",
    "\n",
    "The `range(start, end)` function creates a series of numbers.\n",
    "\n",
    "To start, we can write the loop\n",
    "```\n",
    "for start in range(0, len(cdc19_prm) - 8):\n",
    "    print(str(start) + ' ' + cdc19_prm[start:start+8])\n",
    "```\n",
    "and if all of that looks good we can add in a `likelihood_ratio()`.\n",
    "\n",
    "Then we can build a _list_ of these likelihoods and covert it into a Pandas `Series`."
   ]
  },
  {
   "cell_type": "code",
   "execution_count": null,
   "metadata": {},
   "outputs": [],
   "source": []
  },
  {
   "cell_type": "markdown",
   "metadata": {},
   "source": []
  }
 ],
 "metadata": {
  "kernelspec": {
   "display_name": "Python 3",
   "language": "python",
   "name": "python3"
  },
  "language_info": {
   "codemirror_mode": {
    "name": "ipython",
    "version": 3
   },
   "file_extension": ".py",
   "mimetype": "text/x-python",
   "name": "python",
   "nbconvert_exporter": "python",
   "pygments_lexer": "ipython3",
   "version": "3.7.7"
  }
 },
 "nbformat": 4,
 "nbformat_minor": 2
}
