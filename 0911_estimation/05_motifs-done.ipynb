{
 "cells": [
  {
   "cell_type": "markdown",
   "metadata": {},
   "source": [
    "### Data frames\n",
    "\n",
    "In addition to the `Series`, Pandas also provides a `DataFrame` which has rows and columns, like a table or a spreadsheet. They're similar to (and based on) data frames in the statistics programming language R.\n",
    "\n",
    "We can build a data frame from a dictionary where the _columns_ are entries in a dictionary. Each dictionary _key_ is a column header, and the associated _value_ is a list. The `pd.DataFrame()` function creates a data frame.\n",
    "\n",
    "```\n",
    "nucls = pd.DataFrame({'letter': [ 'A', 'C', 'G', 'T' ],\n",
    "                      'name': ['adenine', 'cytosine', 'guanine', 'thymine'],\n",
    "                      'ring': ['purine', 'pyrimidine', 'purine', 'pyrimidine']})\n",
    "```"
   ]
  },
  {
   "cell_type": "code",
   "execution_count": 5,
   "metadata": {},
   "outputs": [
    {
     "data": {
      "text/html": [
       "<div>\n",
       "<style scoped>\n",
       "    .dataframe tbody tr th:only-of-type {\n",
       "        vertical-align: middle;\n",
       "    }\n",
       "\n",
       "    .dataframe tbody tr th {\n",
       "        vertical-align: top;\n",
       "    }\n",
       "\n",
       "    .dataframe thead th {\n",
       "        text-align: right;\n",
       "    }\n",
       "</style>\n",
       "<table border=\"1\" class=\"dataframe\">\n",
       "  <thead>\n",
       "    <tr style=\"text-align: right;\">\n",
       "      <th></th>\n",
       "      <th>letter</th>\n",
       "      <th>name</th>\n",
       "      <th>ring</th>\n",
       "    </tr>\n",
       "  </thead>\n",
       "  <tbody>\n",
       "    <tr>\n",
       "      <th>0</th>\n",
       "      <td>A</td>\n",
       "      <td>adenine</td>\n",
       "      <td>purine</td>\n",
       "    </tr>\n",
       "    <tr>\n",
       "      <th>1</th>\n",
       "      <td>C</td>\n",
       "      <td>cytosine</td>\n",
       "      <td>pyrimidine</td>\n",
       "    </tr>\n",
       "    <tr>\n",
       "      <th>2</th>\n",
       "      <td>G</td>\n",
       "      <td>guanine</td>\n",
       "      <td>purine</td>\n",
       "    </tr>\n",
       "    <tr>\n",
       "      <th>3</th>\n",
       "      <td>T</td>\n",
       "      <td>thymine</td>\n",
       "      <td>pyrimidine</td>\n",
       "    </tr>\n",
       "  </tbody>\n",
       "</table>\n",
       "</div>"
      ],
      "text/plain": [
       "  letter      name        ring\n",
       "0      A   adenine      purine\n",
       "1      C  cytosine  pyrimidine\n",
       "2      G   guanine      purine\n",
       "3      T   thymine  pyrimidine"
      ]
     },
     "execution_count": 5,
     "metadata": {},
     "output_type": "execute_result"
    }
   ],
   "source": [
    "import pandas as pd\n",
    "nucls = pd.DataFrame({ 'letter': [ 'A', 'C', 'G', 'T'], \n",
    "                      'name': ['adenine', 'cytosine', 'guanine', 'thymine'],\n",
    "                     'ring': ['purine', 'pyrimidine', 'purine', 'pyrimidine']})\n",
    "nucls"
   ]
  },
  {
   "cell_type": "markdown",
   "metadata": {},
   "source": [
    "We can extract one column of a `DataFrame` as a `Series` using square brackets to index it by the name of the column:\n",
    "```\n",
    "nucls['name']\n",
    "```"
   ]
  },
  {
   "cell_type": "code",
   "execution_count": 7,
   "metadata": {},
   "outputs": [
    {
     "data": {
      "text/plain": [
       "0    A\n",
       "1    C\n",
       "2    G\n",
       "3    T\n",
       "Name: letter, dtype: object"
      ]
     },
     "execution_count": 7,
     "metadata": {},
     "output_type": "execute_result"
    }
   ],
   "source": [
    "nucls['letter']"
   ]
  },
  {
   "cell_type": "markdown",
   "metadata": {},
   "source": [
    "We can then index by row into the `Series` with a second set of square brackets\n",
    "```\n",
    "nucls['letter'][2]\n",
    "```\n"
   ]
  },
  {
   "cell_type": "code",
   "execution_count": 8,
   "metadata": {},
   "outputs": [
    {
     "data": {
      "text/plain": [
       "'G'"
      ]
     },
     "execution_count": 8,
     "metadata": {},
     "output_type": "execute_result"
    }
   ],
   "source": [
    "nucls['letter'][2]"
   ]
  },
  {
   "cell_type": "code",
   "execution_count": 10,
   "metadata": {},
   "outputs": [
    {
     "data": {
      "text/html": [
       "<div>\n",
       "<style scoped>\n",
       "    .dataframe tbody tr th:only-of-type {\n",
       "        vertical-align: middle;\n",
       "    }\n",
       "\n",
       "    .dataframe tbody tr th {\n",
       "        vertical-align: top;\n",
       "    }\n",
       "\n",
       "    .dataframe thead th {\n",
       "        text-align: right;\n",
       "    }\n",
       "</style>\n",
       "<table border=\"1\" class=\"dataframe\">\n",
       "  <thead>\n",
       "    <tr style=\"text-align: right;\">\n",
       "      <th></th>\n",
       "      <th>letter</th>\n",
       "      <th>name</th>\n",
       "      <th>ring</th>\n",
       "    </tr>\n",
       "  </thead>\n",
       "  <tbody>\n",
       "    <tr>\n",
       "      <th>2</th>\n",
       "      <td>G</td>\n",
       "      <td>guanine</td>\n",
       "      <td>purine</td>\n",
       "    </tr>\n",
       "    <tr>\n",
       "      <th>3</th>\n",
       "      <td>T</td>\n",
       "      <td>thymine</td>\n",
       "      <td>pyrimidine</td>\n",
       "    </tr>\n",
       "  </tbody>\n",
       "</table>\n",
       "</div>"
      ],
      "text/plain": [
       "  letter     name        ring\n",
       "2      G  guanine      purine\n",
       "3      T  thymine  pyrimidine"
      ]
     },
     "execution_count": 10,
     "metadata": {},
     "output_type": "execute_result"
    }
   ],
   "source": [
    "nucls[2:4]"
   ]
  },
  {
   "cell_type": "markdown",
   "metadata": {},
   "source": [
    "Here is some Python code to create a data frame with observed nucleotide counts from 389 TATA boxes taken from eukaryotic promoters (Bucher, J Mol Biol (1990) 212, 563-578).\n",
    "```\n",
    "tata_counts = pd.DataFrame({'A': [  16, 352,   3, 354, 268, 360, 222, 155],\n",
    "                            'C': [  46,   0,  10,   0,   0,   3,   2,  44],\n",
    "                            'G': [  18,   2,   2,   5,   0,  20,  44, 157],\n",
    "                            'T': [ 309,  35, 374,  30, 121,   6, 121,  33]})\n",
    "```\n",
    "Each row is a position in the TATA motif, and each column is a nucleotide. It's possible to read off the consensus sequence of TATA(A/T)A(A/T)(A/G), sometimes written TATAWAWR, just from looking at the counts in the table."
   ]
  },
  {
   "cell_type": "code",
   "execution_count": 11,
   "metadata": {},
   "outputs": [
    {
     "data": {
      "text/html": [
       "<div>\n",
       "<style scoped>\n",
       "    .dataframe tbody tr th:only-of-type {\n",
       "        vertical-align: middle;\n",
       "    }\n",
       "\n",
       "    .dataframe tbody tr th {\n",
       "        vertical-align: top;\n",
       "    }\n",
       "\n",
       "    .dataframe thead th {\n",
       "        text-align: right;\n",
       "    }\n",
       "</style>\n",
       "<table border=\"1\" class=\"dataframe\">\n",
       "  <thead>\n",
       "    <tr style=\"text-align: right;\">\n",
       "      <th></th>\n",
       "      <th>A</th>\n",
       "      <th>C</th>\n",
       "      <th>G</th>\n",
       "      <th>T</th>\n",
       "    </tr>\n",
       "  </thead>\n",
       "  <tbody>\n",
       "    <tr>\n",
       "      <th>0</th>\n",
       "      <td>16</td>\n",
       "      <td>46</td>\n",
       "      <td>18</td>\n",
       "      <td>309</td>\n",
       "    </tr>\n",
       "    <tr>\n",
       "      <th>1</th>\n",
       "      <td>352</td>\n",
       "      <td>0</td>\n",
       "      <td>2</td>\n",
       "      <td>35</td>\n",
       "    </tr>\n",
       "    <tr>\n",
       "      <th>2</th>\n",
       "      <td>3</td>\n",
       "      <td>10</td>\n",
       "      <td>2</td>\n",
       "      <td>374</td>\n",
       "    </tr>\n",
       "    <tr>\n",
       "      <th>3</th>\n",
       "      <td>354</td>\n",
       "      <td>0</td>\n",
       "      <td>5</td>\n",
       "      <td>30</td>\n",
       "    </tr>\n",
       "    <tr>\n",
       "      <th>4</th>\n",
       "      <td>268</td>\n",
       "      <td>0</td>\n",
       "      <td>0</td>\n",
       "      <td>121</td>\n",
       "    </tr>\n",
       "    <tr>\n",
       "      <th>5</th>\n",
       "      <td>360</td>\n",
       "      <td>3</td>\n",
       "      <td>20</td>\n",
       "      <td>6</td>\n",
       "    </tr>\n",
       "    <tr>\n",
       "      <th>6</th>\n",
       "      <td>222</td>\n",
       "      <td>2</td>\n",
       "      <td>44</td>\n",
       "      <td>121</td>\n",
       "    </tr>\n",
       "    <tr>\n",
       "      <th>7</th>\n",
       "      <td>155</td>\n",
       "      <td>44</td>\n",
       "      <td>157</td>\n",
       "      <td>33</td>\n",
       "    </tr>\n",
       "  </tbody>\n",
       "</table>\n",
       "</div>"
      ],
      "text/plain": [
       "     A   C    G    T\n",
       "0   16  46   18  309\n",
       "1  352   0    2   35\n",
       "2    3  10    2  374\n",
       "3  354   0    5   30\n",
       "4  268   0    0  121\n",
       "5  360   3   20    6\n",
       "6  222   2   44  121\n",
       "7  155  44  157   33"
      ]
     },
     "execution_count": 11,
     "metadata": {},
     "output_type": "execute_result"
    }
   ],
   "source": [
    "tata_counts = pd.DataFrame({'A': [  16, 352,   3, 354, 268, 360, 222, 155],\n",
    "                            'C': [  46,   0,  10,   0,   0,   3,   2,  44],\n",
    "                            'G': [  18,   2,   2,   5,   0,  20,  44, 157],\n",
    "                            'T': [ 309,  35, 374,  30, 121,   6, 121,  33]})\n",
    "tata_counts"
   ]
  },
  {
   "cell_type": "markdown",
   "metadata": {},
   "source": [
    "Data frames have many useful methods. For instance, we can use the .sum() method to take the sums across rows or columns. The argument `0` will calculate column sums and the argument `1` will calculate row sums."
   ]
  },
  {
   "cell_type": "code",
   "execution_count": 13,
   "metadata": {},
   "outputs": [
    {
     "data": {
      "text/plain": [
       "0    389\n",
       "1    389\n",
       "2    389\n",
       "3    389\n",
       "4    389\n",
       "5    389\n",
       "6    389\n",
       "7    389\n",
       "dtype: int64"
      ]
     },
     "execution_count": 13,
     "metadata": {},
     "output_type": "execute_result"
    }
   ],
   "source": [
    "tata_counts.sum(1)"
   ]
  },
  {
   "cell_type": "markdown",
   "metadata": {},
   "source": [
    "We can then turn these counts into probabilities by dividing each nucleotide count by the total number of sequences counted. That is if 35 out of 389 TATA-box sequences have a `T` at the second position, then the probability of a `T` at position 1 in a random TATA-box sequence is 35/389, just under 10%.\n",
    "\n",
    "```\n",
    "tata_counts / 389\n",
    "```\n",
    "\n",
    "will make a new data frame dividing each individual entry in our data frame by 389. We'll use this to make a new `tata_probs` data frame with the _probabilities_ of each nucleotide."
   ]
  },
  {
   "cell_type": "code",
   "execution_count": 18,
   "metadata": {},
   "outputs": [
    {
     "data": {
      "text/html": [
       "<div>\n",
       "<style scoped>\n",
       "    .dataframe tbody tr th:only-of-type {\n",
       "        vertical-align: middle;\n",
       "    }\n",
       "\n",
       "    .dataframe tbody tr th {\n",
       "        vertical-align: top;\n",
       "    }\n",
       "\n",
       "    .dataframe thead th {\n",
       "        text-align: right;\n",
       "    }\n",
       "</style>\n",
       "<table border=\"1\" class=\"dataframe\">\n",
       "  <thead>\n",
       "    <tr style=\"text-align: right;\">\n",
       "      <th></th>\n",
       "      <th>A</th>\n",
       "      <th>C</th>\n",
       "      <th>G</th>\n",
       "      <th>T</th>\n",
       "    </tr>\n",
       "  </thead>\n",
       "  <tbody>\n",
       "    <tr>\n",
       "      <th>0</th>\n",
       "      <td>0.041131</td>\n",
       "      <td>0.118252</td>\n",
       "      <td>0.046272</td>\n",
       "      <td>0.794344</td>\n",
       "    </tr>\n",
       "    <tr>\n",
       "      <th>1</th>\n",
       "      <td>0.904884</td>\n",
       "      <td>0.000000</td>\n",
       "      <td>0.005141</td>\n",
       "      <td>0.089974</td>\n",
       "    </tr>\n",
       "    <tr>\n",
       "      <th>2</th>\n",
       "      <td>0.007712</td>\n",
       "      <td>0.025707</td>\n",
       "      <td>0.005141</td>\n",
       "      <td>0.961440</td>\n",
       "    </tr>\n",
       "    <tr>\n",
       "      <th>3</th>\n",
       "      <td>0.910026</td>\n",
       "      <td>0.000000</td>\n",
       "      <td>0.012853</td>\n",
       "      <td>0.077121</td>\n",
       "    </tr>\n",
       "    <tr>\n",
       "      <th>4</th>\n",
       "      <td>0.688946</td>\n",
       "      <td>0.000000</td>\n",
       "      <td>0.000000</td>\n",
       "      <td>0.311054</td>\n",
       "    </tr>\n",
       "    <tr>\n",
       "      <th>5</th>\n",
       "      <td>0.925450</td>\n",
       "      <td>0.007712</td>\n",
       "      <td>0.051414</td>\n",
       "      <td>0.015424</td>\n",
       "    </tr>\n",
       "    <tr>\n",
       "      <th>6</th>\n",
       "      <td>0.570694</td>\n",
       "      <td>0.005141</td>\n",
       "      <td>0.113111</td>\n",
       "      <td>0.311054</td>\n",
       "    </tr>\n",
       "    <tr>\n",
       "      <th>7</th>\n",
       "      <td>0.398458</td>\n",
       "      <td>0.113111</td>\n",
       "      <td>0.403599</td>\n",
       "      <td>0.084833</td>\n",
       "    </tr>\n",
       "  </tbody>\n",
       "</table>\n",
       "</div>"
      ],
      "text/plain": [
       "          A         C         G         T\n",
       "0  0.041131  0.118252  0.046272  0.794344\n",
       "1  0.904884  0.000000  0.005141  0.089974\n",
       "2  0.007712  0.025707  0.005141  0.961440\n",
       "3  0.910026  0.000000  0.012853  0.077121\n",
       "4  0.688946  0.000000  0.000000  0.311054\n",
       "5  0.925450  0.007712  0.051414  0.015424\n",
       "6  0.570694  0.005141  0.113111  0.311054\n",
       "7  0.398458  0.113111  0.403599  0.084833"
      ]
     },
     "execution_count": 18,
     "metadata": {},
     "output_type": "execute_result"
    }
   ],
   "source": [
    "tata_probs = tata_counts / 389\n",
    "tata_probs"
   ]
  },
  {
   "cell_type": "markdown",
   "metadata": {},
   "source": [
    "We can now look up, e.g., the probability of a `T` at the second position, which is position 1 in Python counting\n",
    "```\n",
    "tata_probs['T'][1]\n",
    "```"
   ]
  },
  {
   "cell_type": "code",
   "execution_count": 19,
   "metadata": {},
   "outputs": [
    {
     "data": {
      "text/plain": [
       "0.08997429305912596"
      ]
     },
     "execution_count": 19,
     "metadata": {},
     "output_type": "execute_result"
    }
   ],
   "source": [
    "tata_probs['T'][1]"
   ]
  },
  {
   "cell_type": "markdown",
   "metadata": {},
   "source": [
    "We're most of the way to a probabilistic model of a TATA box. We will assume that each of the nucleotides in the TATA box is independent, so we can multiply these probabilities together\n",
    "$$P(\\;\\mathtt{TATAAAAG}\\;|\\;\\mathrm{TATA-box}\\;) = \n",
    "P(\\;\\mathtt{T}\\mathrm{\\,at\\,0\\;}) \\times\n",
    "P(\\;\\mathtt{A}\\mathrm{\\,at\\,1\\;}) \\times\n",
    "P(\\;\\mathtt{T}\\mathrm{\\,at\\,2\\;}) \\times\n",
    "P(\\;\\mathtt{A}\\mathrm{\\,at\\,3\\;}) \\times\n",
    "P(\\;\\mathtt{A}\\mathrm{\\,at\\,4\\;}) \\times\n",
    "P(\\;\\mathtt{A}\\mathrm{\\,at\\,5\\;}) \\times\n",
    "P(\\;\\mathtt{G}\\mathrm{\\,at\\,6\\;})\n",
    "$$\n",
    "\n",
    "We need to keep track of which position is which, because $P(\\;\\mathtt{T}\\mathrm{\\,at\\,0\\;}) \\neq P(\\;\\mathtt{T}\\mathrm{\\,at\\,1\\;})$. The `enumerate()` function lets us keep track of a position when we're iterating over a sequence.\n",
    "\n",
    "```\n",
    "for position, nt in enumerate(sequ):\n",
    "    print('position = ' + str(position) + ', nt = ' + str(nt))\n",
    "```"
   ]
  },
  {
   "cell_type": "code",
   "execution_count": 24,
   "metadata": {},
   "outputs": [
    {
     "name": "stdout",
     "output_type": "stream",
     "text": [
      "0 T\n",
      "1 A\n",
      "2 T\n",
      "3 A\n",
      "4 A\n",
      "5 A\n",
      "6 A\n",
      "7 G\n"
     ]
    }
   ],
   "source": [
    "for position, nt in enumerate('TATAAAAG'):\n",
    "    print(position, nt)"
   ]
  },
  {
   "cell_type": "markdown",
   "metadata": {},
   "source": [
    "Now, we'll write a `for` loop to iterate over the positions in a sequence and compute a running probability.\n",
    "\n",
    "We'll start with probability 1\n",
    "```\n",
    "prob = 1\n",
    "```\n",
    "and then multiply the probability for each independent position\n",
    "```\n",
    "for position, nt in enumerate(sequ):\n",
    "   p = tata_probs[nt][position]\n",
    "   prob = prob * p\n",
    "   print(position, nt, p, prob)\n",
    "```\n",
    "\n",
    "We can use this to compute the probability of a \"very good\" TATA-box like `TATATATA`. We can also try the worst possible TATA box, `ACGCGCCT`."
   ]
  },
  {
   "cell_type": "code",
   "execution_count": 28,
   "metadata": {},
   "outputs": [
    {
     "name": "stdout",
     "output_type": "stream",
     "text": [
      "0 A 0.04113110539845758 0.04113110539845758\n",
      "1 C 0.0 0.0\n",
      "2 G 0.005141388174807198 0.0\n",
      "3 C 0.0 0.0\n",
      "4 G 0.0 0.0\n",
      "5 C 0.007712082262210797 0.0\n",
      "6 C 0.005141388174807198 0.0\n",
      "7 T 0.08483290488431877 0.0\n"
     ]
    },
    {
     "data": {
      "text/plain": [
       "0.0"
      ]
     },
     "execution_count": 28,
     "metadata": {},
     "output_type": "execute_result"
    }
   ],
   "source": [
    "sequ = 'ACGCGCCT'\n",
    "prob = 1\n",
    "for position, nt in enumerate(sequ):\n",
    "    # P( nt at position | TATA-box )\n",
    "    p = tata_probs[nt][position]\n",
    "    prob = prob * p\n",
    "    print(position, nt, p, prob)\n",
    "prob"
   ]
  },
  {
   "cell_type": "markdown",
   "metadata": {},
   "source": [
    "Our final probability is 0! While $P(\\;\\mathtt{ACGCGCCT}\\;|\\;\\textrm{TATA-box}\\;)$ is definitely very small, it's probably not 0. We see zero `C` nucleotides at position 1 out of 389 TATA-boxes, but what if we counted 389,000? Would we find 100, 10, or 1? \n",
    "\n",
    "We often handle these situations by adding a _pseudocount_ to our data. We add a fake count for each nucleotide, at each position, in order to eliminate zeros. The impact of this pseudocount depends on the number of real counts. If we add a pseudocount with 9 real observations, it represents 10% of our overall counts, but if we add a pseudocount with 999 real observations, it's only 0.1%.\n",
    "\n",
    "We can just add 1 to every entry and use this table with pseudocounts to make our new data.\n",
    "\n",
    "```\n",
    "tata_counts_pseudo = tata_counts + 1\n",
    "```"
   ]
  },
  {
   "cell_type": "code",
   "execution_count": 30,
   "metadata": {},
   "outputs": [
    {
     "data": {
      "text/html": [
       "<div>\n",
       "<style scoped>\n",
       "    .dataframe tbody tr th:only-of-type {\n",
       "        vertical-align: middle;\n",
       "    }\n",
       "\n",
       "    .dataframe tbody tr th {\n",
       "        vertical-align: top;\n",
       "    }\n",
       "\n",
       "    .dataframe thead th {\n",
       "        text-align: right;\n",
       "    }\n",
       "</style>\n",
       "<table border=\"1\" class=\"dataframe\">\n",
       "  <thead>\n",
       "    <tr style=\"text-align: right;\">\n",
       "      <th></th>\n",
       "      <th>A</th>\n",
       "      <th>C</th>\n",
       "      <th>G</th>\n",
       "      <th>T</th>\n",
       "    </tr>\n",
       "  </thead>\n",
       "  <tbody>\n",
       "    <tr>\n",
       "      <th>0</th>\n",
       "      <td>17</td>\n",
       "      <td>47</td>\n",
       "      <td>19</td>\n",
       "      <td>310</td>\n",
       "    </tr>\n",
       "    <tr>\n",
       "      <th>1</th>\n",
       "      <td>353</td>\n",
       "      <td>1</td>\n",
       "      <td>3</td>\n",
       "      <td>36</td>\n",
       "    </tr>\n",
       "    <tr>\n",
       "      <th>2</th>\n",
       "      <td>4</td>\n",
       "      <td>11</td>\n",
       "      <td>3</td>\n",
       "      <td>375</td>\n",
       "    </tr>\n",
       "    <tr>\n",
       "      <th>3</th>\n",
       "      <td>355</td>\n",
       "      <td>1</td>\n",
       "      <td>6</td>\n",
       "      <td>31</td>\n",
       "    </tr>\n",
       "    <tr>\n",
       "      <th>4</th>\n",
       "      <td>269</td>\n",
       "      <td>1</td>\n",
       "      <td>1</td>\n",
       "      <td>122</td>\n",
       "    </tr>\n",
       "    <tr>\n",
       "      <th>5</th>\n",
       "      <td>361</td>\n",
       "      <td>4</td>\n",
       "      <td>21</td>\n",
       "      <td>7</td>\n",
       "    </tr>\n",
       "    <tr>\n",
       "      <th>6</th>\n",
       "      <td>223</td>\n",
       "      <td>3</td>\n",
       "      <td>45</td>\n",
       "      <td>122</td>\n",
       "    </tr>\n",
       "    <tr>\n",
       "      <th>7</th>\n",
       "      <td>156</td>\n",
       "      <td>45</td>\n",
       "      <td>158</td>\n",
       "      <td>34</td>\n",
       "    </tr>\n",
       "  </tbody>\n",
       "</table>\n",
       "</div>"
      ],
      "text/plain": [
       "     A   C    G    T\n",
       "0   17  47   19  310\n",
       "1  353   1    3   36\n",
       "2    4  11    3  375\n",
       "3  355   1    6   31\n",
       "4  269   1    1  122\n",
       "5  361   4   21    7\n",
       "6  223   3   45  122\n",
       "7  156  45  158   34"
      ]
     },
     "execution_count": 30,
     "metadata": {},
     "output_type": "execute_result"
    }
   ],
   "source": [
    "tata_counts_pseudo = tata_counts + 1\n",
    "tata_counts_pseudo"
   ]
  },
  {
   "cell_type": "markdown",
   "metadata": {},
   "source": [
    "Now we can use the new tata_probs to compute the probability of the best TATA-box, which is pretty similar. We can also compute the worst TATA-box, which is very low but not zero."
   ]
  },
  {
   "cell_type": "code",
   "execution_count": 34,
   "metadata": {},
   "outputs": [
    {
     "name": "stdout",
     "output_type": "stream",
     "text": [
      "0 A 0.043256997455470736 0.043256997455470736\n",
      "1 C 0.002544529262086514 0.00011006869581544718\n",
      "2 G 0.007633587786259542 8.402190520263142e-07\n",
      "3 C 0.002544529262086514 2.1379619644435476e-09\n",
      "4 G 0.002544529262086514 5.440106779754575e-12\n",
      "5 C 0.010178117048346057 5.5370043559843004e-14\n",
      "6 C 0.007633587786259542 4.2267208824307635e-16\n",
      "7 T 0.08651399491094147 3.656705089125851e-17\n"
     ]
    },
    {
     "data": {
      "text/plain": [
       "3.656705089125851e-17"
      ]
     },
     "execution_count": 34,
     "metadata": {},
     "output_type": "execute_result"
    }
   ],
   "source": [
    "tata_counts_pseudo.sum(1)\n",
    "tata_probs = tata_counts_pseudo / 393\n",
    "sequ = 'ACGCGCCT'\n",
    "prob = 1\n",
    "for position, nt in enumerate(sequ):\n",
    "    p = tata_probs[nt][position]\n",
    "    prob = prob * p\n",
    "    print(position, nt, p, prob)\n",
    "prob"
   ]
  },
  {
   "cell_type": "markdown",
   "metadata": {},
   "source": [
    "It's getting tedious to write the same for loop every time we want to try a different sequence.\n",
    "\n",
    "We can write our own function, `likelihood_tata()`, that will compute the likelihood of a sequence under our TATA-box probability model. We define a function with def followed by the function name. The arguments to the function are named in parentheses, and inside the function, these become variables that take on a different value each time we use the function. The `return` keyword gives the computed \"value\" for the function.\n",
    "\n",
    "```\n",
    "def likelihood_tata(sequ):\n",
    "    prob = 1\n",
    "    for position, nt in enumerate(sequ):\n",
    "        p = tata_probs[nt][position]\n",
    "        prob = prob * p\n",
    "        print(position, nt, p, prob)\n",
    "    return(prob)\n",
    "```"
   ]
  },
  {
   "cell_type": "code",
   "execution_count": 36,
   "metadata": {},
   "outputs": [
    {
     "data": {
      "text/plain": [
       "0.08759454254685192"
      ]
     },
     "execution_count": 36,
     "metadata": {},
     "output_type": "execute_result"
    }
   ],
   "source": [
    "# likelihood_tata('TATAAAAG')\n",
    "def likelihood_tata(sequ):\n",
    "    prob = 1\n",
    "    for position, nt in enumerate(sequ):\n",
    "        p = tata_probs[nt][position]\n",
    "        prob = prob * p\n",
    "    return(prob)\n",
    "likelihood_tata('TATAAAAG')"
   ]
  },
  {
   "cell_type": "markdown",
   "metadata": {},
   "source": [
    "Now we can easily use our function to compute the likelihood of some other possible TATA-box sequences. For example, the three sequences below are \"very good\" TATA-boxes that differ from the \"best\" TATA box at one of the three \"degenerate\" positions in the motif. Notice that the overall probability of getting one of these three imperfect motifs is substantially higher than the probability of the perfect TATA-box. In fact, although the TATA-box is a strong motif, fewer than 10% of the sequences generated according to our model will actually match the \"best\" sequence.\n",
    "```\n",
    "TATATAAG\n",
    "TATAAATG\n",
    "TATAAAAA\n",
    "```"
   ]
  },
  {
   "cell_type": "code",
   "execution_count": 40,
   "metadata": {},
   "outputs": [
    {
     "data": {
      "text/plain": [
       "0.17413432175660665"
      ]
     },
     "execution_count": 40,
     "metadata": {},
     "output_type": "execute_result"
    }
   ],
   "source": [
    "likelihood_tata('TATATAAG') + likelihood_tata('TATAAATG') + likelihood_tata('TATAAAAA')\n"
   ]
  },
  {
   "cell_type": "markdown",
   "metadata": {},
   "source": [
    "If we want to use our Bayesian framework to think about TATA-boxes, we need some additional information. What is $P(\\;\\mathtt{TATAAAAG}\\;|\\;\\textit{not}\\,\\textrm{TATA-box}\\;)$? We need a model for all the other sequences in the genome, often called a \"background\" model.\n",
    "\n",
    "The easy background model is independent nucleotides, with probabilities determined by the overall composition of the genome. We just counted the overall number of `A`s etc in the yeast genome. A rough estimate is\n",
    "\n",
    "```\n",
    "background = pd.Series({'A': 0.31, 'C': 0.19, 'G': 0.19, 'T': 0.31})\n",
    "```"
   ]
  },
  {
   "cell_type": "code",
   "execution_count": 43,
   "metadata": {},
   "outputs": [
    {
     "data": {
      "text/plain": [
       "0.19"
      ]
     },
     "execution_count": 43,
     "metadata": {},
     "output_type": "execute_result"
    }
   ],
   "source": [
    "background = pd.Series({ 'A': 0.31, 'C': 0.19, 'G': 0.19, 'T': 0.31})\n",
    "background\n",
    "background['C']"
   ]
  },
  {
   "cell_type": "markdown",
   "metadata": {},
   "source": [
    "_Exercise_ Use the `background` defined above to write a `likelihood_background()` function that calculates the likelihood of generating a given sequence under the model of random yeast genome."
   ]
  },
  {
   "cell_type": "code",
   "execution_count": 44,
   "metadata": {},
   "outputs": [],
   "source": [
    "def likelihood_background(sequ):\n",
    "    prob = 1\n",
    "    # for position, nt in enumerate(sequ)\n",
    "    for nt in sequ:\n",
    "        p = background[nt]\n",
    "        prob = prob * p\n",
    "    return prob"
   ]
  },
  {
   "cell_type": "code",
   "execution_count": 45,
   "metadata": {},
   "outputs": [
    {
     "data": {
      "text/plain": [
       "5.227396681090001e-05"
      ]
     },
     "execution_count": 45,
     "metadata": {},
     "output_type": "execute_result"
    }
   ],
   "source": [
    "likelihood_background('TATAAAAG')"
   ]
  },
  {
   "cell_type": "code",
   "execution_count": 46,
   "metadata": {},
   "outputs": [
    {
     "data": {
      "text/plain": [
       "4.5211091640999994e-06"
      ]
     },
     "execution_count": 46,
     "metadata": {},
     "output_type": "execute_result"
    }
   ],
   "source": [
    "likelihood_background('ACGCGCCT')"
   ]
  },
  {
   "cell_type": "markdown",
   "metadata": {},
   "source": [
    "Since the \"worst\" TATA-box is GC-rich and the \"best\" TATA-box is AT-rich, the odds of getting the \"best\" TATA-box by chance in random sequence is somewhat higher. Of course, the chance of getting the \"best\" sequence under our TATA-box probabilistic model is dramatically higher than the chance of getting the \"worst\" sequence. We can use the _ratio of the likelihoods_ as a measure of how well two different models fit a given sequence.\n",
    "\n",
    "Below, we compute the likelihood ratios for the \"best\" sequence TATAAAAG, the \"worst\" sequence ACGCGCCT, and getting any one of the three very-good sequences TATAAATG and TATAAAAA.\n",
    "```\n",
    "print(likelihood_tata('TATAAAAG') / likelihood_background('TATAAAAG'))\n",
    "print(likelihood_tata('ACGCGCCT') / likelihood_background('ACGCGCCT'))\n",
    "\n",
    "print( (likelihood_tata('TATATAAG') + likelihood_tata('TATAAATG') + likelihood_tata('TATAAAAA'))\n",
    "       / (likelihood_background('TATATAAG') + likelihood_background('TATAAATG') + likelihood_background('TATAAAAA')) )\n",
    "```"
   ]
  },
  {
   "cell_type": "code",
   "execution_count": 48,
   "metadata": {},
   "outputs": [
    {
     "data": {
      "text/plain": [
       "8.088070772902423e-12"
      ]
     },
     "execution_count": 48,
     "metadata": {},
     "output_type": "execute_result"
    }
   ],
   "source": [
    "likelihood_tata('ACGCGCCT') / likelihood_background('ACGCGCCT')"
   ]
  },
  {
   "cell_type": "markdown",
   "metadata": {},
   "source": [
    "We can go one step further and turn this likelihood ratio into a function\n",
    "```\n",
    "def likelihood_ratio(sequ):\n",
    "    return(likelihood_tata(sequ) / likelihood_background(sequ))\n",
    "```"
   ]
  },
  {
   "cell_type": "code",
   "execution_count": 49,
   "metadata": {},
   "outputs": [
    {
     "data": {
      "text/plain": [
       "251.60167494462385"
      ]
     },
     "execution_count": 49,
     "metadata": {},
     "output_type": "execute_result"
    }
   ],
   "source": [
    "def likelihood_ratio(sequ):\n",
    "    return( likelihood_tata(sequ) / likelihood_background(sequ) )\n",
    "likelihood_ratio('TATATATA')"
   ]
  },
  {
   "cell_type": "markdown",
   "metadata": {},
   "source": [
    "We might want to scan a whole promoter to find a TATA-box. Here is the promoter region for the yeast _CDC19_ gene.\n",
    "```\n",
    "cdc19_prm = 'TATGATGCTAGGTACCTTTAGTGTCTTCCTAAAAAAAAAAAAAGGCTCGCCATCAAAACGATATTCGTTGGCTTTTTTTTCTGAATTATAAATACTCTTTGGTAACTTTTCATTTCCAAGAACCTCTTTTTTCCAGTTATATCATG'\n",
    "```\n",
    "We need to extract 8-nucleotide chunks out of the promoter. Square brackets can extract a _range_ of values from a string or a list. To do this, we do `[start:end]` where the start is _included_ and the end is _excluded_.\n",
    "\n",
    "```\n",
    "alphabet = 'abcdefghijklmnopqrstuvwxyz'\n",
    "alphabet[2:6]\n",
    "```\n",
    "\n",
    "This code goes from index 2 (the 3rd entry, `c`) to index 5 (`f`) and does not include index 6 (`g`)."
   ]
  },
  {
   "cell_type": "code",
   "execution_count": 54,
   "metadata": {},
   "outputs": [
    {
     "data": {
      "text/plain": [
       "'ATGATGCT'"
      ]
     },
     "execution_count": 54,
     "metadata": {},
     "output_type": "execute_result"
    }
   ],
   "source": [
    "cdc19_prm = 'TATGATGCTAGGTACCTTTAGTGTCTTCCTAAAAAAAAAAAAAGGCTCGCCATCAAAACGATATTCGTTGGCTTTTTTTTCTGAATTATAAATACTCTTTGGTAACTTTTCATTTCCAAGAACCTCTTTTTTCCAGTTATATCATG'\n",
    "len(cdc19_prm)\n",
    "cdc19_prm[0:8]\n",
    "cdc19_prm[1:9]"
   ]
  },
  {
   "cell_type": "markdown",
   "metadata": {},
   "source": [
    "We can use this to run\n",
    "```\n",
    "likelihood_ratio(cdc19_prm[0:8])\n",
    "likelihood_ratio(cdc19_prm[1:9])\n",
    "```"
   ]
  },
  {
   "cell_type": "code",
   "execution_count": 56,
   "metadata": {},
   "outputs": [
    {
     "data": {
      "text/plain": [
       "1.5243007104870045e-05"
      ]
     },
     "execution_count": 56,
     "metadata": {},
     "output_type": "execute_result"
    }
   ],
   "source": [
    "likelihood_ratio(cdc19_prm[1:9])"
   ]
  },
  {
   "cell_type": "markdown",
   "metadata": {},
   "source": [
    "Now we can loop over each starting position in `cdc19_prm` and compute its likelihood.\n",
    "\n",
    "We start at position 0 and we run until the _end_ of our 8-position window is at the end of the promoter. This happens when `start+8 = len(cdc19_prm)` or equivalently `start = len(cdc19_prm) - 8`.\n",
    "\n",
    "The `range(start, end)` function creates a series of numbers.\n",
    "\n",
    "To start, we can write the loop\n",
    "```\n",
    "for start in range(0, len(cdc19_prm) - 8):\n",
    "    print(str(start) + ' ' + cdc19_prm[start:start+8])\n",
    "```\n",
    "and if all of that looks good we can add in a `likelihood_ratio()`.\n",
    "\n",
    "Then we can build a _list_ of these likelihoods and covert it into a Pandas `Series`."
   ]
  },
  {
   "cell_type": "code",
   "execution_count": 61,
   "metadata": {},
   "outputs": [
    {
     "name": "stdout",
     "output_type": "stream",
     "text": [
      "0 TATGATGC 0.08402037003121614\n",
      "1 ATGATGCT 1.5243007104870045e-05\n",
      "2 TGATGCTA 7.856685684214901e-07\n",
      "3 GATGCTAG 0.0005434620620826783\n",
      "4 ATGCTAGG 8.394749243658516e-05\n",
      "5 TGCTAGGT 0.00040021996619650475\n",
      "6 GCTAGGTA 0.00014760985830600325\n",
      "7 CTAGGTAC 4.1651000215254796e-07\n",
      "8 TAGGTACC 0.001710047300323067\n",
      "9 AGGTACCT 7.60088191631401e-08\n",
      "10 GGTACCTT 1.8383645356791617e-05\n",
      "11 GTACCTTT 7.1095678908228174e-09\n",
      "12 TACCTTTA 0.0010731331632946833\n",
      "13 ACCTTTAG 1.5610378954175922e-05\n",
      "14 CCTTTAGT 0.0032948800433311625\n",
      "15 CTTTAGTG 0.1916779419022246\n",
      "16 TTTAGTGT 0.0008727613759418125\n",
      "17 TTAGTGTC 0.00033714539424310264\n",
      "18 TAGTGTCT 6.502912112563353e-07\n",
      "19 AGTGTCTT 2.0787467771005432e-05\n",
      "20 GTGTCTTC 3.569503832491865e-07\n",
      "21 TGTCTTCC 5.870894461335304e-06\n",
      "22 GTCTTCCT 1.6952310264786767e-06\n",
      "23 TCTTCCTA 2.4552142763171573e-05\n",
      "24 CTTCCTAA 1.3827684211247231e-05\n",
      "25 TTCCTAAA 0.010316576568886387\n",
      "26 TCCTAAAA 0.019587871586508113\n",
      "27 CCTAAAAA 1.1593876079163083\n",
      "28 CTAAAAAA 0.2728674834631414\n",
      "29 TAAAAAAA 10.816325127584454\n",
      "30 AAAAAAAA 0.5931533134481795\n",
      "31 AAAAAAAA 0.5931533134481795\n",
      "32 AAAAAAAA 0.5931533134481795\n",
      "33 AAAAAAAA 0.5931533134481795\n",
      "34 AAAAAAAA 0.5931533134481795\n",
      "35 AAAAAAAA 0.5931533134481795\n",
      "36 AAAAAAAG 0.9801838492811008\n",
      "37 AAAAAAGG 0.32271807168919886\n",
      "38 AAAAAGGC 0.008723663365821753\n",
      "39 AAAAGGCT 1.6335098688582658e-06\n",
      "40 AAAGGCTC 4.618124342853626e-07\n",
      "41 AAGGCTCG 8.538449699044403e-08\n",
      "42 AGGCTCGC 5.8769349542515984e-08\n",
      "43 GGCTCGCC 3.494660525632878e-08\n",
      "44 GCTCGCCA 5.184481351834513e-09\n",
      "45 CTCGCCAT 8.068532940612602e-07\n",
      "46 TCGCCATC 4.3910563018749164e-07\n",
      "47 CGCCATCA 3.256225564713397e-07\n",
      "48 GCCATCAA 0.0001839171974220322\n",
      "49 CCATCAAA 6.5500788998123935e-06\n",
      "50 CATCAAAA 1.1528558467449483\n",
      "51 ATCAAAAC 0.12774136459071334\n",
      "52 TCAAAACG 0.0018133355954903436\n",
      "53 CAAAACGA 0.015925776482590748\n",
      "54 AAAACGAT 7.442130445540292e-05\n",
      "55 AAACGATA 9.046018698468444e-06\n",
      "56 AACGATAT 0.0003101586477232918\n",
      "57 ACGATATT 0.00018142057602749402\n",
      "58 CGATATTC 1.6175353747023177e-05\n",
      "59 GATATTCG 0.03234554435608385\n",
      "60 ATATTCGT 3.107896820845402e-06\n",
      "61 TATTCGTT 0.0060781251116620374\n",
      "62 ATTCGTTG 2.77132827323192e-06\n",
      "63 TTCGTTGG 0.0006530313327232485\n",
      "64 TCGTTGGC 3.563323943585197e-05\n",
      "65 CGTTGGCT 8.364462750233774e-07\n",
      "66 GTTGGCTT 3.7285139878563274e-06\n",
      "67 TTGGCTTT 5.219919582998856e-07\n",
      "68 TGGCTTTT 8.844863737859177e-07\n",
      "69 GGCTTTTT 6.1619217373752235e-06\n",
      "70 GCTTTTTT 4.2916610340956486e-05\n",
      "71 CTTTTTTT 0.002342416280545108\n",
      "72 TTTTTTTT 0.009469342410714267\n",
      "73 TTTTTTTC 0.020448502574220435\n",
      "74 TTTTTTCT 0.0003799175341658442\n",
      "75 TTTTTCTG 0.06693852338080648\n",
      "76 TTTTCTGA 0.0003496830169059324\n",
      "77 TTTCTGAA 0.02045908851170494\n",
      "78 TTCTGAAT 0.00057133626017267\n",
      "79 TCTGAATT 0.015410781881917697\n",
      "80 CTGAATTA 0.0035421499936925545\n",
      "81 TGAATTAT 0.00028746639514684884\n",
      "82 GAATTATA 0.02343557385399689\n",
      "83 AATTATAA 0.09415912543764504\n",
      "84 ATTATAAA 2.572015510307696\n",
      "85 TTATAAAT 0.020993999768842225\n",
      "86 TATAAATA 554.7610701647853\n",
      "87 ATAAATAC 0.0005520540528692657\n",
      "88 TAAATACT 0.023467460046603706\n",
      "89 AAATACTC 0.00024110829936030786\n",
      "90 AATACTCT 3.128698337530953e-05\n",
      "91 ATACTCTT 2.7180172913486677e-07\n",
      "92 TACTCTTT 5.943055664736215e-05\n",
      "93 ACTCTTTG 9.391723592619285e-06\n",
      "94 CTCTTTGG 0.0005115412106332113\n",
      "95 TCTTTGGT 0.0012641992740075355\n",
      "96 CTTTGGTA 0.0007035376908556549\n",
      "97 TTTGGTAA 0.00033539489363450725\n",
      "98 TTGGTAAC 0.007945320747292884\n",
      "99 TGGTAACT 7.66683074470556e-05\n",
      "100 GGTAACTT 0.003030929400598772\n",
      "101 GTAACTTT 1.5469043685032228e-06\n",
      "102 TAACTTTT 5.212753015176824e-05\n",
      "103 AACTTTTC 0.0005262479935387388\n",
      "104 ACTTTTCA 4.332392933470155e-06\n",
      "105 CTTTTCAT 0.003991895414127533\n",
      "106 TTTTCATT 0.006530963325422371\n",
      "107 TTTCATTT 0.0010989012547377645\n",
      "108 TTCATTTC 0.011207214393309588\n",
      "109 TCATTTCC 3.9661153694354077e-07\n",
      "110 CATTTCCA 0.003942044521778511\n",
      "111 ATTTCCAA 5.4302030397967824e-05\n",
      "112 TTTCCAAG 0.004763815566455206\n",
      "113 TTCCAAGA 0.007489344340368922\n",
      "114 TCCAAGAA 0.02128992311961189\n",
      "115 CCAAGAAC 3.530280378694432e-05\n",
      "116 CAAGAACC 0.0007622114584165181\n",
      "117 AAGAACCT 6.277345067469619e-05\n",
      "118 AGAACCTC 2.3221446766473617e-07\n",
      "119 GAACCTCT 2.7969514462638084e-09\n",
      "120 AACCTCTT 1.1958183311824309e-05\n",
      "121 ACCTCTTT 1.5063656821308432e-08\n",
      "122 CCTCTTTT 5.58748112472287e-06\n",
      "123 CTCTTTTT 0.00011210722128643957\n",
      "124 TCTTTTTT 0.00042916610340956485\n",
      "125 CTTTTTTC 0.0050583137946755815\n",
      "126 TTTTTTCC 0.0008204101550485334\n",
      "127 TTTTTCCA 0.0016251934500009048\n",
      "128 TTTTCCAG 0.001636324460499849\n",
      "129 TTTCCAGT 0.00020686376274838125\n",
      "130 TTCCAGTT 0.0002574290341015602\n",
      "131 TCCAGTTA 1.4432963923253654e-05\n",
      "132 CCAGTTAT 6.536436935413506e-07\n",
      "133 CAGTTATA 0.07093967681150998\n",
      "134 AGTTATAT 0.0002845583781906328\n",
      "135 GTTATATC 1.2076395610134654\n",
      "136 TTATATCA 4.099738837347602e-05\n",
      "137 TATATCAT 1.812064955122101\n",
      "138 ATATCATG 2.896539523976798e-05\n"
     ]
    },
    {
     "data": {
      "text/plain": [
       "[0.08402037003121614,\n",
       " 1.5243007104870045e-05,\n",
       " 7.856685684214901e-07,\n",
       " 0.0005434620620826783,\n",
       " 8.394749243658516e-05,\n",
       " 0.00040021996619650475,\n",
       " 0.00014760985830600325,\n",
       " 4.1651000215254796e-07,\n",
       " 0.001710047300323067,\n",
       " 7.60088191631401e-08,\n",
       " 1.8383645356791617e-05,\n",
       " 7.1095678908228174e-09,\n",
       " 0.0010731331632946833,\n",
       " 1.5610378954175922e-05,\n",
       " 0.0032948800433311625,\n",
       " 0.1916779419022246,\n",
       " 0.0008727613759418125,\n",
       " 0.00033714539424310264,\n",
       " 6.502912112563353e-07,\n",
       " 2.0787467771005432e-05,\n",
       " 3.569503832491865e-07,\n",
       " 5.870894461335304e-06,\n",
       " 1.6952310264786767e-06,\n",
       " 2.4552142763171573e-05,\n",
       " 1.3827684211247231e-05,\n",
       " 0.010316576568886387,\n",
       " 0.019587871586508113,\n",
       " 1.1593876079163083,\n",
       " 0.2728674834631414,\n",
       " 10.816325127584454,\n",
       " 0.5931533134481795,\n",
       " 0.5931533134481795,\n",
       " 0.5931533134481795,\n",
       " 0.5931533134481795,\n",
       " 0.5931533134481795,\n",
       " 0.5931533134481795,\n",
       " 0.9801838492811008,\n",
       " 0.32271807168919886,\n",
       " 0.008723663365821753,\n",
       " 1.6335098688582658e-06,\n",
       " 4.618124342853626e-07,\n",
       " 8.538449699044403e-08,\n",
       " 5.8769349542515984e-08,\n",
       " 3.494660525632878e-08,\n",
       " 5.184481351834513e-09,\n",
       " 8.068532940612602e-07,\n",
       " 4.3910563018749164e-07,\n",
       " 3.256225564713397e-07,\n",
       " 0.0001839171974220322,\n",
       " 6.5500788998123935e-06,\n",
       " 1.1528558467449483,\n",
       " 0.12774136459071334,\n",
       " 0.0018133355954903436,\n",
       " 0.015925776482590748,\n",
       " 7.442130445540292e-05,\n",
       " 9.046018698468444e-06,\n",
       " 0.0003101586477232918,\n",
       " 0.00018142057602749402,\n",
       " 1.6175353747023177e-05,\n",
       " 0.03234554435608385,\n",
       " 3.107896820845402e-06,\n",
       " 0.0060781251116620374,\n",
       " 2.77132827323192e-06,\n",
       " 0.0006530313327232485,\n",
       " 3.563323943585197e-05,\n",
       " 8.364462750233774e-07,\n",
       " 3.7285139878563274e-06,\n",
       " 5.219919582998856e-07,\n",
       " 8.844863737859177e-07,\n",
       " 6.1619217373752235e-06,\n",
       " 4.2916610340956486e-05,\n",
       " 0.002342416280545108,\n",
       " 0.009469342410714267,\n",
       " 0.020448502574220435,\n",
       " 0.0003799175341658442,\n",
       " 0.06693852338080648,\n",
       " 0.0003496830169059324,\n",
       " 0.02045908851170494,\n",
       " 0.00057133626017267,\n",
       " 0.015410781881917697,\n",
       " 0.0035421499936925545,\n",
       " 0.00028746639514684884,\n",
       " 0.02343557385399689,\n",
       " 0.09415912543764504,\n",
       " 2.572015510307696,\n",
       " 0.020993999768842225,\n",
       " 554.7610701647853,\n",
       " 0.0005520540528692657,\n",
       " 0.023467460046603706,\n",
       " 0.00024110829936030786,\n",
       " 3.128698337530953e-05,\n",
       " 2.7180172913486677e-07,\n",
       " 5.943055664736215e-05,\n",
       " 9.391723592619285e-06,\n",
       " 0.0005115412106332113,\n",
       " 0.0012641992740075355,\n",
       " 0.0007035376908556549,\n",
       " 0.00033539489363450725,\n",
       " 0.007945320747292884,\n",
       " 7.66683074470556e-05,\n",
       " 0.003030929400598772,\n",
       " 1.5469043685032228e-06,\n",
       " 5.212753015176824e-05,\n",
       " 0.0005262479935387388,\n",
       " 4.332392933470155e-06,\n",
       " 0.003991895414127533,\n",
       " 0.006530963325422371,\n",
       " 0.0010989012547377645,\n",
       " 0.011207214393309588,\n",
       " 3.9661153694354077e-07,\n",
       " 0.003942044521778511,\n",
       " 5.4302030397967824e-05,\n",
       " 0.004763815566455206,\n",
       " 0.007489344340368922,\n",
       " 0.02128992311961189,\n",
       " 3.530280378694432e-05,\n",
       " 0.0007622114584165181,\n",
       " 6.277345067469619e-05,\n",
       " 2.3221446766473617e-07,\n",
       " 2.7969514462638084e-09,\n",
       " 1.1958183311824309e-05,\n",
       " 1.5063656821308432e-08,\n",
       " 5.58748112472287e-06,\n",
       " 0.00011210722128643957,\n",
       " 0.00042916610340956485,\n",
       " 0.0050583137946755815,\n",
       " 0.0008204101550485334,\n",
       " 0.0016251934500009048,\n",
       " 0.001636324460499849,\n",
       " 0.00020686376274838125,\n",
       " 0.0002574290341015602,\n",
       " 1.4432963923253654e-05,\n",
       " 6.536436935413506e-07,\n",
       " 0.07093967681150998,\n",
       " 0.0002845583781906328,\n",
       " 1.2076395610134654,\n",
       " 4.099738837347602e-05,\n",
       " 1.812064955122101,\n",
       " 2.896539523976798e-05]"
      ]
     },
     "execution_count": 61,
     "metadata": {},
     "output_type": "execute_result"
    }
   ],
   "source": [
    "scores = []\n",
    "for start in range(0, len(cdc19_prm) - 7):\n",
    "    print(str(start), cdc19_prm[start:start+8], likelihood_ratio(cdc19_prm[start:start+8]))\n",
    "    scores.append(likelihood_ratio(cdc19_prm[start:start+8]))\n",
    "scores"
   ]
  },
  {
   "cell_type": "markdown",
   "metadata": {},
   "source": []
  }
 ],
 "metadata": {
  "kernelspec": {
   "display_name": "Python 3",
   "language": "python",
   "name": "python3"
  },
  "language_info": {
   "codemirror_mode": {
    "name": "ipython",
    "version": 3
   },
   "file_extension": ".py",
   "mimetype": "text/x-python",
   "name": "python",
   "nbconvert_exporter": "python",
   "pygments_lexer": "ipython3",
   "version": "3.8.5"
  }
 },
 "nbformat": 4,
 "nbformat_minor": 2
}
