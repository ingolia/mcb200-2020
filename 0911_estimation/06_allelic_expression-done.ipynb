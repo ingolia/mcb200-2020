{
 "cells": [
  {
   "cell_type": "markdown",
   "metadata": {},
   "source": [
    "# Allele-Specific Expression\n",
    "\n",
    "RNA sequencing can distinguish transcripts expressed from different copies of genes on homologous chromosomes when single-nucleotide polymorphisms (perhaps silent) distinguish the two alleles. Linkage between these distinctive SNPs and _cis_-regulatory sequences can provide information on regulatory variation within a shared cellular context."
   ]
  },
  {
   "cell_type": "markdown",
   "metadata": {},
   "source": [
    "## Null Hypothesis Testing\n",
    "\n",
    "The null hypothesis in allele-specific expression analysis is that the alleles are expressed equally and so each read is equally likely to be derived from each allele.\n",
    "\n",
    "Here, we'll take two approaches to get a *p* value for the null hypothesis of equal expression in situations where just 25% of the reads come from one allele and 75% from the other. We'll look at this with just 8 reads, with 32 reads, and then with 100 reads."
   ]
  },
  {
   "cell_type": "markdown",
   "metadata": {},
   "source": [
    "### Permutation Testing\n",
    "\n",
    "First, we'll generate many random sets of data according to the null model and look at the distribution of allele skew in these random data. Our approach to generating random sets of reads is simple: we choose randomly between `0` and `1`, and then count how often we choose `1` by summing the results of this random choice.\n",
    "\n",
    "The `numpy.random` submodule of the `numpy` module has functions to generate (pseudo-)random numbers. To use this, we'll `import` it and use it like this:\n",
    "\n",
    "```\n",
    "import numpy as np\n",
    "print(np.random.choice(['A', 'C', 'G', 'T']))\n",
    "print(np.random.choice(['A', 'C', 'G', 'T'], 3))\n",
    "print(np.random.choice([0, 1], 8))\n",
    "```"
   ]
  },
  {
   "cell_type": "code",
   "execution_count": 10,
   "metadata": {},
   "outputs": [
    {
     "data": {
      "text/plain": [
       "array([0, 1, 1, 1, 1, 1, 0, 0, 1, 0, 0, 1, 0, 1, 1, 1, 0, 1, 1, 0, 0, 0,\n",
       "       1, 0, 1, 1, 0, 1, 1, 0, 0, 1, 1, 1, 1, 0, 1, 0, 0, 1, 0, 0, 0, 0,\n",
       "       0, 1, 0, 1, 0, 0])"
      ]
     },
     "execution_count": 10,
     "metadata": {},
     "output_type": "execute_result"
    }
   ],
   "source": [
    "import numpy as np\n",
    "np.random.choice(['A', 'C', 'G', 'T'], 17)\n",
    "np.random.choice([0, 1], 50)"
   ]
  },
  {
   "cell_type": "markdown",
   "metadata": {},
   "source": [
    "The quick trick to *count* how many of our random 0-or-1 choices came up 1 is to sum the vector using the `sum()` function, like this:\n",
    "\n",
    "```\n",
    "sum(np.random.choice([0, 1], 8))\n",
    "```"
   ]
  },
  {
   "cell_type": "code",
   "execution_count": 18,
   "metadata": {},
   "outputs": [
    {
     "data": {
      "text/plain": [
       "51"
      ]
     },
     "execution_count": 18,
     "metadata": {},
     "output_type": "execute_result"
    }
   ],
   "source": [
    "sum(np.random.choice([0, 1], 100))"
   ]
  },
  {
   "cell_type": "markdown",
   "metadata": {},
   "source": [
    "Now, we'll generate 10,000 random samples of 8 reads each, and tabulate how many random samples have zero, one, ..., eight reads from that sample.\n",
    "\n",
    "First we'll create an empty counting array with 9 entries for 0 through 8 inclusive\n",
    "```\n",
    "allele_counts_8 = [0] * 9\n",
    "```\n",
    "Then we'll run a for loop 10,000 times. We don't actually use the loop varible inside the `for` loop, so by convention we'll just call it `_`.\n",
    "```\n",
    "for _ in range(0, 10000):\n",
    "    ...\n",
    "```"
   ]
  },
  {
   "cell_type": "code",
   "execution_count": 21,
   "metadata": {},
   "outputs": [
    {
     "data": {
      "text/plain": [
       "[36, 335, 1079, 2211, 2691, 2210, 1118, 285, 35]"
      ]
     },
     "execution_count": 21,
     "metadata": {},
     "output_type": "execute_result"
    }
   ],
   "source": [
    "allele_counts_8 = [0] * 9\n",
    "allele_counts_8\n",
    "for _ in range(0,10000):\n",
    "    k = sum(np.random.choice([0, 1], 8))\n",
    "    allele_counts_8[k] = allele_counts_8[k] + 1\n",
    "    # print(k, allele_counts_8)\n",
    "allele_counts_8"
   ]
  },
  {
   "cell_type": "markdown",
   "metadata": {},
   "source": [
    "Next, we'll plot the distribution by importing the plotting module. We can directly plot our list, we don't need to turn it into a Pandas `Series` first.\n",
    "```\n",
    "import matplotlib.pyplot as plt\n",
    "plt.plot(allele_counts_8)\n",
    "```"
   ]
  },
  {
   "cell_type": "code",
   "execution_count": 22,
   "metadata": {},
   "outputs": [
    {
     "data": {
      "text/plain": [
       "[<matplotlib.lines.Line2D at 0x7f54cc6f5400>]"
      ]
     },
     "execution_count": 22,
     "metadata": {},
     "output_type": "execute_result"
    },
    {
     "data": {
      "image/png": "[encoded data removed]",
      "text/plain": [
       "<Figure size 432x288 with 1 Axes>"
      ]
     },
     "metadata": {
      "needs_background": "light"
     },
     "output_type": "display_data"
    }
   ],
   "source": [
    "import matplotlib.pyplot as plt\n",
    "plt.plot(allele_counts_8)"
   ]
  },
  {
   "cell_type": "markdown",
   "metadata": {},
   "source": [
    "We can use this to ask: in what fraction of random samples do you see 12.5% (one-eighth) or fewer `1` reads? What can you conclude from seeing this kind of skew in a sample of 8 reads?\n",
    "\n",
    "To do this, we can add up \n",
    "```\n",
    "allele_counts_8[0] + allele_counts_8[1]\n",
    "```\n",
    "or, to make it easier to read\n",
    "```\n",
    "sum(allele_counts_8[0:2])\n",
    "```\n",
    "and then divide by the total number of random trials we generated (which should be 10,000)\n",
    "```\n",
    "sum(allele_counts_8)\n",
    "```"
   ]
  },
  {
   "cell_type": "code",
   "execution_count": 49,
   "metadata": {},
   "outputs": [
    {
     "data": {
      "text/plain": [
       "0.3661"
      ]
     },
     "execution_count": 49,
     "metadata": {},
     "output_type": "execute_result"
    }
   ],
   "source": [
    "# We have 10k random samples\n",
    "# allele_counts_8[3] = number of samples with 3 \"1\"s (and 5 \"0\"s)\n",
    "# sum(allele_counts_8) = total number of random samples we made\n",
    "# probability of exactly 3 \"1\"s is allele_counts_8[3] / sum(allele_counts_8)\n",
    "allele_counts_8[3] / sum(allele_counts_8)\n",
    "\n",
    "# Skewed for ≤3 reads\n",
    "# 0, 1, 2, or 3\n",
    "allele_counts_8[0] + allele_counts_8[1] + allele_counts_8[2] + allele_counts_8[3]\n",
    "allele_counts_8[0:4] = [ allele_counts_8[0], allele_counts_8[1], allele_counts_8[2], allele_counts_8[3] ]\n",
    "sum(allele_counts_8[0:4])\n",
    "\n",
    "# probability of ≤3 \"1\"s is \n",
    "sum(allele_counts_8[0:4]) / sum(allele_counts_8)"
   ]
  },
  {
   "cell_type": "code",
   "execution_count": 28,
   "metadata": {},
   "outputs": [
    {
     "data": {
      "text/plain": [
       "0.0371"
      ]
     },
     "execution_count": 28,
     "metadata": {},
     "output_type": "execute_result"
    }
   ],
   "source": [
    "# number of trials with 0 or 1 \"1\" values\n",
    "allele_counts_8[0] + allele_counts_8[1]\n",
    "sum(allele_counts_8[0:2])\n",
    "# allele_counts_8[0:2]\n",
    "sum(allele_counts_8)\n",
    "sum(allele_counts_8[0:2]) / sum(allele_counts_8)"
   ]
  },
  {
   "cell_type": "markdown",
   "metadata": {},
   "source": [
    "What if we wanted to consider a strong skew in *either* direction? That is, we're interested in situations where we had ≤12.5% or ≥87.5% frequence of `1` alleles?\n",
    "\n",
    "We would need to consider 7 or 8 reads in addition to 0 or 1\n",
    "```\n",
    "sum(allele_counts_8[7:9])\n",
    "```"
   ]
  },
  {
   "cell_type": "code",
   "execution_count": 31,
   "metadata": {},
   "outputs": [
    {
     "data": {
      "text/plain": [
       "0.032"
      ]
     },
     "execution_count": 31,
     "metadata": {},
     "output_type": "execute_result"
    }
   ],
   "source": [
    "# 7 or 8 \"1\" values out of 8 trials\n",
    "allele_counts_8[7:9]\n",
    "sum(allele_counts_8[7:9]) / sum(allele_counts_8)"
   ]
  },
  {
   "cell_type": "code",
   "execution_count": null,
   "metadata": {},
   "outputs": [],
   "source": []
  },
  {
   "cell_type": "markdown",
   "metadata": {},
   "source": [
    "We can repeat the same analysis, for 24 reads per random sample.\n",
    "\n",
    "* Make an empty, 25-entry count array\n",
    "* Loop over 10,000 random trials\n",
    "    * Generate a random choice of 24 x 0 or 1\n",
    "    * Sum them up\n",
    "    * Add the count to the overall tally"
   ]
  },
  {
   "cell_type": "code",
   "execution_count": 36,
   "metadata": {},
   "outputs": [
    {
     "data": {
      "text/plain": [
       "[0,\n",
       " 0,\n",
       " 2,\n",
       " 7,\n",
       " 57,\n",
       " 228,\n",
       " 841,\n",
       " 2028,\n",
       " 4323,\n",
       " 7732,\n",
       " 11718,\n",
       " 15022,\n",
       " 16128,\n",
       " 14760,\n",
       " 11671,\n",
       " 7862,\n",
       " 4402,\n",
       " 2061,\n",
       " 824,\n",
       " 247,\n",
       " 70,\n",
       " 17,\n",
       " 0,\n",
       " 0,\n",
       " 0]"
      ]
     },
     "execution_count": 36,
     "metadata": {},
     "output_type": "execute_result"
    }
   ],
   "source": [
    "allele_counts_24 = [0] * 25\n",
    "for _ in range(0,100000):\n",
    "    k = sum(np.random.choice([0,1], 24))\n",
    "    allele_counts_24[k] = allele_counts_24[k] + 1\n",
    "allele_counts_24"
   ]
  },
  {
   "cell_type": "markdown",
   "metadata": {},
   "source": [
    "Now we can test for a similar skew in our 24-read samples -- what are the odds of seeing 3 or fewer reads from one allele and all the rest from the other?"
   ]
  },
  {
   "cell_type": "code",
   "execution_count": 35,
   "metadata": {},
   "outputs": [
    {
     "data": {
      "text/plain": [
       "0.0001"
      ]
     },
     "execution_count": 35,
     "metadata": {},
     "output_type": "execute_result"
    }
   ],
   "source": [
    "# np.random.choice([0, 1]) = one read, 0 means maternal and 1 means paternal\n",
    "# np.random.choice([0, 1], 24) = list of 24 values, one per read, 0 means maternal and 1 means paternal for each\n",
    "# sum(...) = number of paternal reads in 24 reads total\n",
    "# for loop 10k trials, how often do I see k paternal reads out of 24 total reads\n",
    "# allele_counts_24[0] = number of times that sum(np.random.choice([0, 1], 24)) == 0 out of 10k trials\n",
    "# allele_counts_24[1] = number of times that sum(np.random.choice([0, 1], 24)) == 1\n",
    "sum(allele_counts_24[0:4]) / sum(allele_counts_24)"
   ]
  },
  {
   "cell_type": "code",
   "execution_count": 38,
   "metadata": {},
   "outputs": [
    {
     "data": {
      "text/plain": [
       "6"
      ]
     },
     "execution_count": 38,
     "metadata": {},
     "output_type": "execute_result"
    }
   ],
   "source": [
    "sum(np.random.choice([0,1], 24))"
   ]
  },
  {
   "cell_type": "markdown",
   "metadata": {},
   "source": [
    "What about a stronger skew: just 0 or 1 reads from one allele and all the rest from the other?"
   ]
  },
  {
   "cell_type": "code",
   "execution_count": null,
   "metadata": {},
   "outputs": [],
   "source": []
  },
  {
   "cell_type": "markdown",
   "metadata": {},
   "source": [
    "## Random Variables\n",
    "\n",
    "There is probably a small but non-zero odds of getting this strong skew in the 24-read sample -- but we would need to generate a lot of random samples in order to figure out exactly how small. Instead, we can treat the number of reads from the `1` allele as a random variable with a binomial distribution. This isn't always a fair description of biological data, but it's a reasonable starting point here. \n",
    "\n",
    "### Binomial Distribution\n",
    "\n",
    "The scipy package contains a statistics module with a sub-module specific for the binomial distribution. We can get the probability\n",
    "```\n",
    "P( k successes out of N trials with probability p of success per trial )\n",
    "```\n",
    "using\n",
    "```\n",
    "binom.pmf(k, N, p)\n",
    "```\n",
    "\"pmf\" here stands for \"probability mass function\".\n",
    "\n",
    "For instance, we can ask about exactly 2 \"successes\" out of 8 \"trials\" -- think of this as 2 reads from the `1` allele out of 8 reads counted in total. We can also ask abotu exactly 2 reads from the `1` allele out of 32 total.\n",
    "\n",
    "To start, install the `scipy` package (you should need to do this just once, ever) and import the `binom` sub-module of the `scipy.stats` (in every notebook where you want to use it)\n",
    "\n",
    "```\n",
    "import sys\n",
    "!{sys.executable} -m pip install scipy\n",
    "```\n",
    "Then, you can use the `binom.pmf()` function like\n",
    "```\n",
    "binom.pmf(2, 8, 0.5)\n",
    "```"
   ]
  },
  {
   "cell_type": "code",
   "execution_count": 39,
   "metadata": {},
   "outputs": [
    {
     "name": "stdout",
     "output_type": "stream",
     "text": [
      "Requirement already satisfied: scipy in /opt/conda/lib/python3.8/site-packages (1.5.2)\r\n",
      "Requirement already satisfied: numpy>=1.14.5 in /opt/conda/lib/python3.8/site-packages (from scipy) (1.18.5)\r\n"
     ]
    }
   ],
   "source": [
    "import sys\n",
    "!{sys.executable} -m pip install scipy"
   ]
  },
  {
   "cell_type": "code",
   "execution_count": 44,
   "metadata": {},
   "outputs": [
    {
     "data": {
      "text/plain": [
       "5.960464477539072e-08"
      ]
     },
     "execution_count": 44,
     "metadata": {},
     "output_type": "execute_result"
    }
   ],
   "source": [
    "from scipy.stats import binom\n",
    "# binom.pmf(k = number of heads, N = number of coin flips, p = chance of head)\n",
    "binom.pmf(0, 24, 0.5)"
   ]
  },
  {
   "cell_type": "code",
   "execution_count": 52,
   "metadata": {},
   "outputs": [
    {
     "data": {
      "text/plain": [
       "[<matplotlib.lines.Line2D at 0x7f54b2093250>]"
      ]
     },
     "execution_count": 52,
     "metadata": {},
     "output_type": "execute_result"
    },
    {
     "data": {
      "image/png": "[encoded data removed]",
      "text/plain": [
       "<Figure size 432x288 with 1 Axes>"
      ]
     },
     "metadata": {
      "needs_background": "light"
     },
     "output_type": "display_data"
    }
   ],
   "source": [
    "# k = range(0, 24)\n",
    "# N = 24\n",
    "# p = 0.5\n",
    "binom.pmf(range(0, 24), 24, 0.5)\n",
    "plt.plot(binom.pmf(range(0, 24), 24, 0.25))"
   ]
  }
 ],
 "metadata": {
  "kernelspec": {
   "display_name": "Python 3",
   "language": "python",
   "name": "python3"
  },
  "language_info": {
   "codemirror_mode": {
    "name": "ipython",
    "version": 3
   },
   "file_extension": ".py",
   "mimetype": "text/x-python",
   "name": "python",
   "nbconvert_exporter": "python",
   "pygments_lexer": "ipython3",
   "version": "3.7.7"
  }
 },
 "nbformat": 4,
 "nbformat_minor": 2
}
